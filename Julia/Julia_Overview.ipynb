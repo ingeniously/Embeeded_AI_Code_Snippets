{
 "cells": [
  {
   "attachments": {},
   "cell_type": "markdown",
   "metadata": {},
   "source": [
    "### GOALS\n",
    "- Enter commands in ${\\tt Julia}$ REPL to create variables and perform calculations;\n"
   ]
  },
  {
   "attachments": {},
   "cell_type": "markdown",
   "metadata": {},
   "source": [
    "#### Activation of the Environment in the project"
   ]
  },
  {
   "attachments": {},
   "cell_type": "markdown",
   "metadata": {},
   "source": [
    "1.From the REPL(Shell) ,\n",
    ">using Pkg  \n",
    "pkg\"activate .\"\n",
    "\n",
    "or access the package mode by typing `]` and  write\n",
    ">activate .\n",
    "\n",
    "Within the package mode, to see the full list of installed packages type\n",
    ">st"
   ]
  },
  {
   "attachments": {},
   "cell_type": "markdown",
   "metadata": {},
   "source": [
    "2.From the Notebooks cells(Jupyter or Pluto)"
   ]
  },
  {
   "cell_type": "code",
   "execution_count": 3,
   "metadata": {},
   "outputs": [
    {
     "name": "stderr",
     "output_type": "stream",
     "text": [
      "\u001b[32m\u001b[1m  Activating\u001b[22m\u001b[39m project at `e:\\Embeeded_AI_Code_Snippets\\Julia`\n"
     ]
    }
   ],
   "source": [
    "using Pkg\n",
    "pkg\"activate .\""
   ]
  },
  {
   "cell_type": "code",
   "execution_count": 4,
   "metadata": {},
   "outputs": [
    {
     "name": "stdout",
     "output_type": "stream",
     "text": [
      "\u001b[32m\u001b[1mStatus\u001b[22m\u001b[39m `E:\\Embeeded_AI_Code_Snippets\\Julia\\Project.toml`\n",
      " \u001b[90m [336ed68f] \u001b[39mCSV v0.10.9\n",
      " \u001b[90m [a93c6f00] \u001b[39mDataFrames v1.4.4\n",
      " \u001b[90m [7073ff75] \u001b[39mIJulia v1.24.0\n",
      " \u001b[90m [91a5bcdd] \u001b[39mPlots v1.38.4\n",
      "\u001b[32m⌃\u001b[39m\u001b[90m [44d3d7a6] \u001b[39mWeave v0.10.9\n",
      " \u001b[90m [d6f4376e] \u001b[39mMarkdown\n",
      "\u001b[36m\u001b[1mInfo\u001b[22m\u001b[39m Packages marked with \u001b[32m⌃\u001b[39m have new versions available and may be upgradable.\n"
     ]
    }
   ],
   "source": [
    "]st"
   ]
  },
  {
   "cell_type": "code",
   "execution_count": 5,
   "metadata": {},
   "outputs": [
    {
     "name": "stderr",
     "output_type": "stream",
     "text": [
      "\u001b[32m\u001b[1m    Updating\u001b[22m\u001b[39m registry at `C:\\Users\\user\\.julia\\registries\\General.toml`\n",
      "\u001b[32m\u001b[1m   Resolving\u001b[22m\u001b[39m package versions...\n",
      "\u001b[32m\u001b[1m  No Changes\u001b[22m\u001b[39m to `E:\\Embeeded_AI_Code_Snippets\\Julia\\Project.toml`\n",
      "\u001b[32m\u001b[1m  No Changes\u001b[22m\u001b[39m to `E:\\Embeeded_AI_Code_Snippets\\Julia\\Manifest.toml`\n"
     ]
    }
   ],
   "source": [
    "]add Markdown"
   ]
  },
  {
   "cell_type": "code",
   "execution_count": 6,
   "metadata": {},
   "outputs": [],
   "source": [
    "using Markdown"
   ]
  },
  {
   "cell_type": "code",
   "execution_count": 83,
   "metadata": {},
   "outputs": [
    {
     "data": {
      "text/markdown": [
       "For example a text inside a code cell, thanks to __Markdown__ package. \n",
       "_Emphasize_*Bold*\n"
      ]
     },
     "metadata": {},
     "output_type": "display_data"
    }
   ],
   "source": [
    "display(\"text/markdown\",\"For example a text inside a code cell, thanks to __Markdown__ package. \n",
    "_Emphasize_*Bold*\n",
    "\" )"
   ]
  },
  {
   "attachments": {},
   "cell_type": "markdown",
   "metadata": {},
   "source": [
    "Runnig ${\\tt Julia}$ in Jupyer Notebookor Jupyter Lab is handy. install the appropriate  ${\\tt Julia}$ kernel `IJulia` in Jupyter Notebook and/or JupyterLab IDEs.Then execute the following commands:\n",
    ">using Pkg  \n",
    "Pkg.add(\"IJulia\")"
   ]
  },
  {
   "cell_type": "code",
   "execution_count": 8,
   "metadata": {},
   "outputs": [
    {
     "name": "stderr",
     "output_type": "stream",
     "text": [
      "\u001b[32m\u001b[1m   Resolving\u001b[22m\u001b[39m package versions...\n",
      "\u001b[32m\u001b[1m  No Changes\u001b[22m\u001b[39m to `E:\\Embeeded_AI_Code_Snippets\\Julia\\Project.toml`\n",
      "\u001b[32m\u001b[1m  No Changes\u001b[22m\u001b[39m to `E:\\Embeeded_AI_Code_Snippets\\Julia\\Manifest.toml`\n"
     ]
    }
   ],
   "source": [
    "Pkg.add(\"IJulia\")"
   ]
  },
  {
   "attachments": {},
   "cell_type": "markdown",
   "metadata": {},
   "source": [
    " Or run the two following commands from ${\\tt Julia}$ REPL which launch jupyter environment in web browser.\n",
    ">using IJulia  \n",
    "installkernel(\"Julia\")"
   ]
  },
  {
   "attachments": {},
   "cell_type": "markdown",
   "metadata": {},
   "source": [
    "The shell mode is also available through the REPL to evaluate some os commands. To do so, simply preface the regular command by semicolon. For instance:\n",
    "   - `pwd` prints the path to working directory and \n",
    "   - `ls` allows to list the content of the current directory."
   ]
  },
  {
   "cell_type": "code",
   "execution_count": 9,
   "metadata": {},
   "outputs": [
    {
     "data": {
      "text/plain": [
       "\"e:\\\\Embeeded_AI_Code_Snippets\\\\Julia\""
      ]
     },
     "execution_count": 9,
     "metadata": {},
     "output_type": "execute_result"
    }
   ],
   "source": [
    "pwd()"
   ]
  },
  {
   "attachments": {},
   "cell_type": "markdown",
   "metadata": {},
   "source": [
    "### Getting Help\n",
    "In order to seek help on a particular function. We just use the `?` mark. We can use the ${\\tt Julia}$ documentation to discover more pieces of information about ${\\tt Julia}$ features."
   ]
  },
  {
   "cell_type": "code",
   "execution_count": 86,
   "metadata": {},
   "outputs": [
    {
     "name": "stdout",
     "output_type": "stream",
     "text": [
      "search: \u001b[0m\u001b[1mc\u001b[22m\u001b[0m\u001b[1mo\u001b[22m\u001b[0m\u001b[1ms\u001b[22m\u001b[0m\u001b[1md\u001b[22m a\u001b[0m\u001b[1mc\u001b[22m\u001b[0m\u001b[1mo\u001b[22m\u001b[0m\u001b[1ms\u001b[22m\u001b[0m\u001b[1md\u001b[22m sin\u001b[0m\u001b[1mc\u001b[22m\u001b[0m\u001b[1mo\u001b[22m\u001b[0m\u001b[1ms\u001b[22m\u001b[0m\u001b[1md\u001b[22m \u001b[0m\u001b[1mC\u001b[22m\u001b[0m\u001b[1mo\u001b[22mmpo\u001b[0m\u001b[1ms\u001b[22me\u001b[0m\u001b[1md\u001b[22mFunction \u001b[0m\u001b[1mc\u001b[22m\u001b[0m\u001b[1mo\u001b[22m\u001b[0m\u001b[1ms\u001b[22mh \u001b[0m\u001b[1mc\u001b[22m\u001b[0m\u001b[1mo\u001b[22m\u001b[0m\u001b[1ms\u001b[22mc \u001b[0m\u001b[1mc\u001b[22m\u001b[0m\u001b[1mo\u001b[22m\u001b[0m\u001b[1ms\u001b[22m \u001b[0m\u001b[1mc\u001b[22m\u001b[0m\u001b[1mo\u001b[22m\u001b[0m\u001b[1ms\u001b[22mpi a\u001b[0m\u001b[1mc\u001b[22m\u001b[0m\u001b[1mo\u001b[22m\u001b[0m\u001b[1ms\u001b[22mh a\u001b[0m\u001b[1mc\u001b[22m\u001b[0m\u001b[1mo\u001b[22m\u001b[0m\u001b[1ms\u001b[22m\n",
      "\n"
     ]
    },
    {
     "data": {
      "text/latex": [
       "\\begin{verbatim}\n",
       "cosd(x)\n",
       "\\end{verbatim}\n",
       "Compute cosine of \\texttt{x}, where \\texttt{x} is in degrees. If \\texttt{x} is a matrix, \\texttt{x} needs to be a square matrix.\n",
       "\n",
       "\\begin{quote}\n",
       "\\textbf{compat}\n",
       "\n",
       "Julia 1.7\n",
       "\n",
       "Matrix arguments require Julia 1.7 or later.\n",
       "\n",
       "\\end{quote}\n"
      ],
      "text/markdown": [
       "```\n",
       "cosd(x)\n",
       "```\n",
       "\n",
       "Compute cosine of `x`, where `x` is in degrees. If `x` is a matrix, `x` needs to be a square matrix.\n",
       "\n",
       "!!! compat \"Julia 1.7\"\n",
       "    Matrix arguments require Julia 1.7 or later.\n",
       "\n"
      ],
      "text/plain": [
       "\u001b[36m  cosd(x)\u001b[39m\n",
       "\n",
       "  Compute cosine of \u001b[36mx\u001b[39m, where \u001b[36mx\u001b[39m is in degrees. If \u001b[36mx\u001b[39m is a matrix, \u001b[36mx\u001b[39m needs to be\n",
       "  a square matrix.\n",
       "\n",
       "\u001b[39m\u001b[1m  │ \u001b[22m\u001b[39m\u001b[1mJulia 1.7\u001b[22m\n",
       "\u001b[39m\u001b[1m  │\u001b[22m\n",
       "\u001b[39m\u001b[1m  │\u001b[22m  Matrix arguments require Julia 1.7 or later."
      ]
     },
     "execution_count": 86,
     "metadata": {},
     "output_type": "execute_result"
    }
   ],
   "source": [
    "\n",
    "    ?cosd\n",
    "\n"
   ]
  },
  {
   "attachments": {},
   "cell_type": "markdown",
   "metadata": {},
   "source": [
    "To print something on the standard output, it is possible to use either `print` and `println`. The last one displays the text and moves the cursor to the next line."
   ]
  },
  {
   "cell_type": "code",
   "execution_count": 11,
   "metadata": {},
   "outputs": [
    {
     "name": "stdout",
     "output_type": "stream",
     "text": [
      "Hello World"
     ]
    }
   ],
   "source": [
    "print(\"Hello\")\n",
    "print(' ')\n",
    "print(\"World\")"
   ]
  },
  {
   "cell_type": "code",
   "execution_count": 12,
   "metadata": {},
   "outputs": [
    {
     "name": "stdout",
     "output_type": "stream",
     "text": [
      "Hello\n",
      "World\n"
     ]
    }
   ],
   "source": [
    "println(\"Hello\")\n",
    "println(\"World\")"
   ]
  },
  {
   "attachments": {},
   "cell_type": "markdown",
   "metadata": {},
   "source": [
    "### Basic Calculations"
   ]
  },
  {
   "cell_type": "code",
   "execution_count": 13,
   "metadata": {},
   "outputs": [
    {
     "data": {
      "text/plain": [
       "(1, 1.5)"
      ]
     },
     "execution_count": 13,
     "metadata": {},
     "output_type": "execute_result"
    }
   ],
   "source": [
    "a, b = 1, 1.5"
   ]
  },
  {
   "cell_type": "code",
   "execution_count": 14,
   "metadata": {},
   "outputs": [
    {
     "name": "stdout",
     "output_type": "stream",
     "text": [
      "Int64\n",
      "Float64\n"
     ]
    }
   ],
   "source": [
    "println(typeof(a))\n",
    "println(typeof(b))"
   ]
  },
  {
   "cell_type": "code",
   "execution_count": 87,
   "metadata": {},
   "outputs": [
    {
     "data": {
      "text/markdown": [
       "\n",
       "`varinfo` method allows to display loaded variables.\n"
      ]
     },
     "metadata": {},
     "output_type": "display_data"
    }
   ],
   "source": [
    "display(\"text/markdown\",\"\n",
    "`varinfo` method allows to display loaded variables.\n",
    "\")"
   ]
  },
  {
   "cell_type": "code",
   "execution_count": 16,
   "metadata": {},
   "outputs": [
    {
     "data": {
      "text/latex": [
       "\\begin{tabular}\n",
       "{l | r | l}\n",
       "name & size & summary \\\\\n",
       "\\hline\n",
       "Base &  & Module \\\\\n",
       "Core &  & Module \\\\\n",
       "Main &  & Module \\\\\n",
       "a & 8 bytes & Int64 \\\\\n",
       "b & 8 bytes & Float64 \\\\\n",
       "\\end{tabular}\n"
      ],
      "text/markdown": [
       "| name |    size | summary |\n",
       "|:---- | -------:|:------- |\n",
       "| Base |         | Module  |\n",
       "| Core |         | Module  |\n",
       "| Main |         | Module  |\n",
       "| a    | 8 bytes | Int64   |\n",
       "| b    | 8 bytes | Float64 |\n"
      ],
      "text/plain": [
       "  name    size summary\n",
       "  –––– ––––––– –––––––\n",
       "  Base         Module \n",
       "  Core         Module \n",
       "  Main         Module \n",
       "  a    8 bytes Int64  \n",
       "  b    8 bytes Float64"
      ]
     },
     "execution_count": 16,
     "metadata": {},
     "output_type": "execute_result"
    }
   ],
   "source": [
    "varinfo()"
   ]
  },
  {
   "cell_type": "code",
   "execution_count": 17,
   "metadata": {},
   "outputs": [
    {
     "name": "stdout",
     "output_type": "stream",
     "text": [
      "search: \u001b[0m\u001b[1mv\u001b[22m\u001b[0m\u001b[1ma\u001b[22m\u001b[0m\u001b[1mr\u001b[22m\u001b[0m\u001b[1mi\u001b[22m\u001b[0m\u001b[1mn\u001b[22m\u001b[0m\u001b[1mf\u001b[22m\u001b[0m\u001b[1mo\u001b[22m\n",
      "\n"
     ]
    },
    {
     "data": {
      "text/latex": [
       "\\begin{verbatim}\n",
       "varinfo(m::Module=Main, pattern::Regex=r\"\"; all::Bool = false, imported::Bool = false, sortby::Symbol = :name, minsize::Int = 0)\n",
       "\\end{verbatim}\n",
       "Return a markdown table giving information about exported global variables in a module, optionally restricted to those matching \\texttt{pattern}.\n",
       "\n",
       "The memory consumption estimate is an approximate lower bound on the size of the internal structure of the object.\n",
       "\n",
       "\\begin{itemize}\n",
       "\\item \\texttt{all} : also list non-exported objects defined in the module, deprecated objects, and compiler-generated objects.\n",
       "\n",
       "\n",
       "\\item \\texttt{imported} : also list objects explicitly imported from other modules.\n",
       "\n",
       "\n",
       "\\item \\texttt{recursive} : recursively include objects in sub-modules, observing the same settings in each.\n",
       "\n",
       "\n",
       "\\item \\texttt{sortby} : the column to sort results by. Options are \\texttt{:name} (default), \\texttt{:size}, and \\texttt{:summary}.\n",
       "\n",
       "\n",
       "\\item \\texttt{minsize} : only includes objects with size at least \\texttt{minsize} bytes. Defaults to \\texttt{0}.\n",
       "\n",
       "\\end{itemize}\n"
      ],
      "text/markdown": [
       "```\n",
       "varinfo(m::Module=Main, pattern::Regex=r\"\"; all::Bool = false, imported::Bool = false, sortby::Symbol = :name, minsize::Int = 0)\n",
       "```\n",
       "\n",
       "Return a markdown table giving information about exported global variables in a module, optionally restricted to those matching `pattern`.\n",
       "\n",
       "The memory consumption estimate is an approximate lower bound on the size of the internal structure of the object.\n",
       "\n",
       "  * `all` : also list non-exported objects defined in the module, deprecated objects, and compiler-generated objects.\n",
       "  * `imported` : also list objects explicitly imported from other modules.\n",
       "  * `recursive` : recursively include objects in sub-modules, observing the same settings in each.\n",
       "  * `sortby` : the column to sort results by. Options are `:name` (default), `:size`, and `:summary`.\n",
       "  * `minsize` : only includes objects with size at least `minsize` bytes. Defaults to `0`.\n"
      ],
      "text/plain": [
       "\u001b[36m  varinfo(m::Module=Main, pattern::Regex=r\"\"; all::Bool = false, imported::Bool = false, sortby::Symbol = :name, minsize::Int = 0)\u001b[39m\n",
       "\n",
       "  Return a markdown table giving information about exported global variables\n",
       "  in a module, optionally restricted to those matching \u001b[36mpattern\u001b[39m.\n",
       "\n",
       "  The memory consumption estimate is an approximate lower bound on the size of\n",
       "  the internal structure of the object.\n",
       "\n",
       "    •  \u001b[36mall\u001b[39m : also list non-exported objects defined in the module,\n",
       "       deprecated objects, and compiler-generated objects.\n",
       "\n",
       "    •  \u001b[36mimported\u001b[39m : also list objects explicitly imported from other\n",
       "       modules.\n",
       "\n",
       "    •  \u001b[36mrecursive\u001b[39m : recursively include objects in sub-modules, observing\n",
       "       the same settings in each.\n",
       "\n",
       "    •  \u001b[36msortby\u001b[39m : the column to sort results by. Options are \u001b[36m:name\u001b[39m\n",
       "       (default), \u001b[36m:size\u001b[39m, and \u001b[36m:summary\u001b[39m.\n",
       "\n",
       "    •  \u001b[36mminsize\u001b[39m : only includes objects with size at least \u001b[36mminsize\u001b[39m bytes.\n",
       "       Defaults to \u001b[36m0\u001b[39m."
      ]
     },
     "execution_count": 17,
     "metadata": {},
     "output_type": "execute_result"
    }
   ],
   "source": [
    "?varinfo"
   ]
  },
  {
   "cell_type": "code",
   "execution_count": 18,
   "metadata": {},
   "outputs": [
    {
     "name": "stdout",
     "output_type": "stream",
     "text": [
      "Sum of 1 and 1.5 is 2.5\n"
     ]
    }
   ],
   "source": [
    "println(\"Sum of $a and $b is $(a+b)\")"
   ]
  },
  {
   "attachments": {},
   "cell_type": "markdown",
   "metadata": {},
   "source": [
    "Addition, subtraction, multiplication, division, exponent"
   ]
  },
  {
   "cell_type": "code",
   "execution_count": 19,
   "metadata": {},
   "outputs": [
    {
     "data": {
      "text/plain": [
       "(2.5, -0.5, 1.5, 0.0, 1.0)"
      ]
     },
     "execution_count": 19,
     "metadata": {},
     "output_type": "execute_result"
    }
   ],
   "source": [
    "a+b, a-b, a*b, a÷b, a^b"
   ]
  },
  {
   "cell_type": "code",
   "execution_count": 20,
   "metadata": {},
   "outputs": [
    {
     "data": {
      "text/latex": [
       "\\textbf{Unicode support} \n",
       "\n",
       "\\begin{itemize}\n",
       "\\item[1. ] We can use π instead of \\texttt{pi}\n",
       "\n",
       "\n",
       "\\item[2. ] Greek letters improe comprehension: α \\emph{(alpha)}, β \\emph{(beta)}, ...\n",
       "\n",
       "\n",
       "\\item[3. ] Symbols: ≥ \\emph{(>=)}, ≤ \\emph{(<=)}, ∈ \\emph{(in)}, ... \n",
       "\n",
       "\n",
       "\\item[4. ] ...\n",
       "\n",
       "\\end{itemize}\n"
      ],
      "text/markdown": [
       "**Unicode support** \n",
       "\n",
       "1. We can use π instead of `pi`\n",
       "2. Greek letters improe comprehension: α *(alpha)*, β *(beta)*, ...\n",
       "3. Symbols: ≥ *(>=)*, ≤ *(<=)*, ∈ *(in)*, ...\n",
       "4. ...\n"
      ],
      "text/plain": [
       "  \u001b[1mUnicode support\u001b[22m\n",
       "\n",
       "    1. We can use π instead of \u001b[36mpi\u001b[39m\n",
       "\n",
       "    2. Greek letters improe comprehension: α \u001b[4m(alpha)\u001b[24m, β \u001b[4m(beta)\u001b[24m, ...\n",
       "\n",
       "    3. Symbols: ≥ \u001b[4m(>=)\u001b[24m, ≤ \u001b[4m(<=)\u001b[24m, ∈ \u001b[4m(in)\u001b[24m, ...\n",
       "\n",
       "    4. ..."
      ]
     },
     "execution_count": 20,
     "metadata": {},
     "output_type": "execute_result"
    }
   ],
   "source": [
    "md\"\"\"\n",
    "**Unicode support** \n",
    "1. We can use π instead of `pi`\n",
    "1. Greek letters improe comprehension: α _(alpha)_, β _(beta)_, ...\n",
    "1. Symbols: ≥ _(>=)_, ≤ _(<=)_, ∈ _(in)_, ... \n",
    "1. ...\n",
    "\"\"\""
   ]
  },
  {
   "cell_type": "code",
   "execution_count": 21,
   "metadata": {},
   "outputs": [
    {
     "data": {
      "text/plain": [
       "true"
      ]
     },
     "execution_count": 21,
     "metadata": {},
     "output_type": "execute_result"
    }
   ],
   "source": [
    "3 ≤ π "
   ]
  },
  {
   "cell_type": "code",
   "execution_count": 22,
   "metadata": {},
   "outputs": [
    {
     "data": {
      "text/plain": [
       "Float64"
      ]
     },
     "execution_count": 22,
     "metadata": {},
     "output_type": "execute_result"
    }
   ],
   "source": [
    "typeof(3.14)"
   ]
  },
  {
   "cell_type": "code",
   "execution_count": 23,
   "metadata": {},
   "outputs": [
    {
     "data": {
      "text/plain": [
       "Any"
      ]
     },
     "execution_count": 23,
     "metadata": {},
     "output_type": "execute_result"
    }
   ],
   "source": [
    "Float64 |> supertype |> supertype |> supertype |> supertype "
   ]
  },
  {
   "cell_type": "code",
   "execution_count": 24,
   "metadata": {},
   "outputs": [
    {
     "data": {
      "text/plain": [
       "3-element Vector{Any}:\n",
       " Bool\n",
       " Signed\n",
       " Unsigned"
      ]
     },
     "execution_count": 24,
     "metadata": {},
     "output_type": "execute_result"
    }
   ],
   "source": [
    "Integer |> subtypes"
   ]
  },
  {
   "cell_type": "code",
   "execution_count": 25,
   "metadata": {},
   "outputs": [
    {
     "data": {
      "text/plain": [
       "6-element Vector{Any}:\n",
       " BigInt\n",
       " Int128\n",
       " Int16\n",
       " Int32\n",
       " Int64\n",
       " Int8"
      ]
     },
     "execution_count": 25,
     "metadata": {},
     "output_type": "execute_result"
    }
   ],
   "source": [
    "Signed |> subtypes"
   ]
  },
  {
   "cell_type": "code",
   "execution_count": 26,
   "metadata": {},
   "outputs": [
    {
     "data": {
      "text/plain": [
       "true"
      ]
     },
     "execution_count": 26,
     "metadata": {},
     "output_type": "execute_result"
    }
   ],
   "source": [
    "UInt8 <: Unsigned # UInt8 is one subtype of Unsigned"
   ]
  },
  {
   "cell_type": "code",
   "execution_count": 27,
   "metadata": {},
   "outputs": [
    {
     "data": {
      "text/plain": [
       "Int64"
      ]
     },
     "execution_count": 27,
     "metadata": {},
     "output_type": "execute_result"
    }
   ],
   "source": [
    "typeof(3)"
   ]
  },
  {
   "cell_type": "code",
   "execution_count": 28,
   "metadata": {},
   "outputs": [
    {
     "data": {
      "text/plain": [
       "UInt8"
      ]
     },
     "execution_count": 28,
     "metadata": {},
     "output_type": "execute_result"
    }
   ],
   "source": [
    "tmp::UInt8 = 3\n",
    "typeof(tmp)"
   ]
  },
  {
   "attachments": {},
   "cell_type": "markdown",
   "metadata": {},
   "source": [
    "### Mathematical Notation\n"
   ]
  },
  {
   "cell_type": "code",
   "execution_count": 29,
   "metadata": {},
   "outputs": [
    {
     "name": "stdout",
     "output_type": "stream",
     "text": [
      "3\n",
      "3\n"
     ]
    }
   ],
   "source": [
    "println(1+2)\n",
    "println(+(1, 2))"
   ]
  },
  {
   "cell_type": "code",
   "execution_count": 30,
   "metadata": {},
   "outputs": [
    {
     "name": "stdout",
     "output_type": "stream",
     "text": [
      "-1\n",
      "-1\n"
     ]
    }
   ],
   "source": [
    "println(1-2)\n",
    "println(-(1, 2))"
   ]
  },
  {
   "cell_type": "code",
   "execution_count": 31,
   "metadata": {},
   "outputs": [
    {
     "name": "stdout",
     "output_type": "stream",
     "text": [
      "2\n",
      "2\n"
     ]
    }
   ],
   "source": [
    "println(1*2)\n",
    "println(*(1, 2))"
   ]
  },
  {
   "cell_type": "code",
   "execution_count": 32,
   "metadata": {},
   "outputs": [
    {
     "name": "stdout",
     "output_type": "stream",
     "text": [
      "0.5\n",
      "0.5\n"
     ]
    }
   ],
   "source": [
    "println(1/2)\n",
    "println(/(1, 2))"
   ]
  },
  {
   "cell_type": "code",
   "execution_count": 33,
   "metadata": {},
   "outputs": [
    {
     "name": "stdout",
     "output_type": "stream",
     "text": [
      "2.15\n",
      "43//20\n"
     ]
    }
   ],
   "source": [
    "println(3/4+7/5)\n",
    "println(3//4+7//5)"
   ]
  },
  {
   "attachments": {},
   "cell_type": "markdown",
   "metadata": {},
   "source": [
    "### Array Transformations\n",
    "Perform calculations on entire arrays at once."
   ]
  },
  {
   "cell_type": "code",
   "execution_count": 34,
   "metadata": {},
   "outputs": [
    {
     "data": {
      "text/plain": [
       "3×2 Matrix{Float64}:\n",
       " 0.0  0.0\n",
       " 0.0  0.0\n",
       " 0.0  0.0"
      ]
     },
     "execution_count": 34,
     "metadata": {},
     "output_type": "execute_result"
    }
   ],
   "source": [
    "zeros(3, 2)"
   ]
  },
  {
   "cell_type": "code",
   "execution_count": 35,
   "metadata": {},
   "outputs": [
    {
     "data": {
      "text/plain": [
       "2×2 Matrix{Irrational{:π}}:\n",
       " π  π\n",
       " π  π"
      ]
     },
     "execution_count": 35,
     "metadata": {},
     "output_type": "execute_result"
    }
   ],
   "source": [
    "fill(π, (2, 2))"
   ]
  },
  {
   "cell_type": "code",
   "execution_count": 36,
   "metadata": {},
   "outputs": [
    {
     "data": {
      "text/plain": [
       "2×2 Matrix{Float64}:\n",
       " 3.14159  3.14159\n",
       " 3.14159  3.14159"
      ]
     },
     "execution_count": 36,
     "metadata": {},
     "output_type": "execute_result"
    }
   ],
   "source": [
    "π .* ones(2, 2)"
   ]
  },
  {
   "cell_type": "code",
   "execution_count": 37,
   "metadata": {},
   "outputs": [
    {
     "data": {
      "text/latex": [
       "Creates a \\texttt{BitArray} with all values set to \\texttt{true}\n",
       "\n"
      ],
      "text/markdown": [
       "Creates a `BitArray` with all values set to `true`\n"
      ],
      "text/plain": [
       "  Creates a \u001b[36mBitArray\u001b[39m with all values set to \u001b[36mtrue\u001b[39m"
      ]
     },
     "execution_count": 37,
     "metadata": {},
     "output_type": "execute_result"
    }
   ],
   "source": [
    "md\"Creates a `BitArray` with all values set to `true`\""
   ]
  },
  {
   "cell_type": "code",
   "execution_count": 38,
   "metadata": {},
   "outputs": [
    {
     "name": "stdout",
     "output_type": "stream",
     "text": [
      "Bool[1 1 1 1; 1 1 1 1]\n"
     ]
    },
    {
     "data": {
      "text/plain": [
       "BitMatrix\u001b[90m (alias for \u001b[39m\u001b[90mBitArray{2}\u001b[39m\u001b[90m)\u001b[39m"
      ]
     },
     "execution_count": 38,
     "metadata": {},
     "output_type": "execute_result"
    }
   ],
   "source": [
    "var = trues(2, 4)\n",
    "println(var)\n",
    "typeof(var)"
   ]
  },
  {
   "cell_type": "code",
   "execution_count": 39,
   "metadata": {},
   "outputs": [
    {
     "data": {
      "text/latex": [
       "Creates a \\texttt{BitArray} with all values set to \\texttt{false}\n",
       "\n"
      ],
      "text/markdown": [
       "Creates a `BitArray` with all values set to `false`\n"
      ],
      "text/plain": [
       "  Creates a \u001b[36mBitArray\u001b[39m with all values set to \u001b[36mfalse\u001b[39m"
      ]
     },
     "execution_count": 39,
     "metadata": {},
     "output_type": "execute_result"
    }
   ],
   "source": [
    "md\"Creates a `BitArray` with all values set to `false`\""
   ]
  },
  {
   "cell_type": "code",
   "execution_count": 40,
   "metadata": {},
   "outputs": [
    {
     "name": "stdout",
     "output_type": "stream",
     "text": [
      "Bool[0 0 0 0; 0 0 0 0]\n"
     ]
    },
    {
     "data": {
      "text/plain": [
       "BitMatrix\u001b[90m (alias for \u001b[39m\u001b[90mBitArray{2}\u001b[39m\u001b[90m)\u001b[39m"
      ]
     },
     "execution_count": 40,
     "metadata": {},
     "output_type": "execute_result"
    }
   ],
   "source": [
    "var = falses(2, 4)\n",
    "println(var)\n",
    "typeof(var)"
   ]
  },
  {
   "cell_type": "code",
   "execution_count": 41,
   "metadata": {},
   "outputs": [
    {
     "data": {
      "text/latex": [
       "\\textbf{Comprehension}\n",
       "\n"
      ],
      "text/markdown": [
       "**Comprehension**\n"
      ],
      "text/plain": [
       "  \u001b[1mComprehension\u001b[22m"
      ]
     },
     "execution_count": 41,
     "metadata": {},
     "output_type": "execute_result"
    }
   ],
   "source": [
    "md\"**Comprehension**\""
   ]
  },
  {
   "cell_type": "code",
   "execution_count": 42,
   "metadata": {},
   "outputs": [
    {
     "name": "stdout",
     "output_type": "stream",
     "text": [
      " \n",
      "M\n",
      "y\n",
      " \n",
      "n\n",
      "a\n",
      "m\n",
      "e\n",
      " \n",
      "i\n",
      "s\n",
      " \n",
      "C\n",
      "e\n",
      "d\n",
      "r\n",
      "i\n",
      "c\n"
     ]
    }
   ],
   "source": [
    "str = \" My name is Cedric\"\n",
    "[println(el) for el in str];"
   ]
  },
  {
   "attachments": {},
   "cell_type": "markdown",
   "metadata": {},
   "source": [
    "### Calling Functions\n",
    "Call functions to obtain multiple outputs."
   ]
  },
  {
   "cell_type": "code",
   "execution_count": 94,
   "metadata": {},
   "outputs": [
    {
     "data": {
      "text/markdown": [
       "\n",
       "[Functions in *Julia*](https://docs.julialang.org/en/v1/manual/functions/)\n"
      ]
     },
     "metadata": {},
     "output_type": "display_data"
    }
   ],
   "source": [
    "display(\"text/markdown\",\"\n",
    "[Functions in ***Julia***](https://docs.julialang.org/en/v1/manual/functions/)\n",
    "\")"
   ]
  },
  {
   "cell_type": "code",
   "execution_count": 89,
   "metadata": {},
   "outputs": [
    {
     "data": {
      "text/markdown": [
       "**Multiple Dispatch**"
      ]
     },
     "metadata": {},
     "output_type": "display_data"
    }
   ],
   "source": [
    "display(\"text/markdown\",\"**Multiple Dispatch**\")"
   ]
  },
  {
   "cell_type": "code",
   "execution_count": 45,
   "metadata": {},
   "outputs": [
    {
     "data": {
      "text/plain": [
       "f (generic function with 1 method)"
      ]
     },
     "execution_count": 45,
     "metadata": {},
     "output_type": "execute_result"
    }
   ],
   "source": [
    "function f(x::Int)\n",
    "    x^2\n",
    "end"
   ]
  },
  {
   "cell_type": "code",
   "execution_count": 46,
   "metadata": {},
   "outputs": [
    {
     "data": {
      "text/plain": [
       "f (generic function with 2 methods)"
      ]
     },
     "execution_count": 46,
     "metadata": {},
     "output_type": "execute_result"
    }
   ],
   "source": [
    "f(x::Float64) = x^2+1"
   ]
  },
  {
   "cell_type": "code",
   "execution_count": 47,
   "metadata": {},
   "outputs": [
    {
     "data": {
      "text/plain": [
       "f (generic function with 4 methods)"
      ]
     },
     "execution_count": 47,
     "metadata": {},
     "output_type": "execute_result"
    }
   ],
   "source": [
    "f(x::Char) = x*'y'*'z'\n",
    "f(x::String) = x*x "
   ]
  },
  {
   "cell_type": "code",
   "execution_count": 48,
   "metadata": {},
   "outputs": [
    {
     "data": {
      "text/html": [
       "# 4 methods for generic function <b>f</b>:<ul><li> f(x::<b>Int64</b>) in Main at In[45]:1</li> <li> f(x::<b>Float64</b>) in Main at In[46]:1</li> <li> f(x::<b>Char</b>) in Main at In[47]:1</li> <li> f(x::<b>String</b>) in Main at In[47]:2</li> </ul>"
      ],
      "text/plain": [
       "# 4 methods for generic function \"f\":\n",
       "[1] f(x::Int64) in Main at In[45]:1\n",
       "[2] f(x::Float64) in Main at In[46]:1\n",
       "[3] f(x::Char) in Main at In[47]:1\n",
       "[4] f(x::String) in Main at In[47]:2"
      ]
     },
     "execution_count": 48,
     "metadata": {},
     "output_type": "execute_result"
    }
   ],
   "source": [
    "methods(f)"
   ]
  },
  {
   "cell_type": "code",
   "execution_count": 49,
   "metadata": {},
   "outputs": [
    {
     "data": {
      "text/plain": [
       "(1, 2.0, \"xyz\", \"abcabc\")"
      ]
     },
     "execution_count": 49,
     "metadata": {},
     "output_type": "execute_result"
    }
   ],
   "source": [
    "f(1), f(1.), f('x'), f(\"abc\")"
   ]
  },
  {
   "cell_type": "code",
   "execution_count": 50,
   "metadata": {},
   "outputs": [
    {
     "data": {
      "text/plain": [
       "Fonc (generic function with 1 method)"
      ]
     },
     "execution_count": 50,
     "metadata": {},
     "output_type": "execute_result"
    }
   ],
   "source": [
    "function Fonc(x::Integer)\n",
    "    y = x\n",
    "    for i=1:100\n",
    "        y += i^2\n",
    "    end\n",
    "    return y\n",
    "end"
   ]
  },
  {
   "cell_type": "code",
   "execution_count": 51,
   "metadata": {},
   "outputs": [
    {
     "name": "stdout",
     "output_type": "stream",
     "text": [
      "\u001b[90m;  @ In[50]:1 within `Fonc`\u001b[39m\n",
      "\u001b[90m; Function Attrs: uwtable\u001b[39m\n",
      "\u001b[95mdefine\u001b[39m \u001b[36mi64\u001b[39m \u001b[93m@julia_Fonc_4167\u001b[39m\u001b[33m(\u001b[39m\u001b[36mi64\u001b[39m \u001b[95msignext\u001b[39m \u001b[0m%0\u001b[33m)\u001b[39m \u001b[0m#0 \u001b[33m{\u001b[39m\n",
      "\u001b[91mtop:\u001b[39m\n",
      "\u001b[90m;  @ In[50]:3 within `Fonc`\u001b[39m\n",
      "  \u001b[0m%1 \u001b[0m= \u001b[96m\u001b[1madd\u001b[22m\u001b[39m \u001b[36mi64\u001b[39m \u001b[0m%0\u001b[0m, \u001b[33m338350\u001b[39m\n",
      "\u001b[90m;  @ In[50]:6 within `Fonc`\u001b[39m\n",
      "  \u001b[96m\u001b[1mret\u001b[22m\u001b[39m \u001b[36mi64\u001b[39m \u001b[0m%1\n",
      "\u001b[33m}\u001b[39m\n"
     ]
    }
   ],
   "source": [
    "@code_llvm Fonc(3)"
   ]
  },
  {
   "cell_type": "code",
   "execution_count": 52,
   "metadata": {},
   "outputs": [
    {
     "data": {
      "text/latex": [
       "\\begin{verbatim}\n",
       "@code_llvm\n",
       "\\end{verbatim}\n",
       "Evaluates the arguments to the function or macro call, determines their types, and calls \\href{@ref}{\\texttt{code\\_llvm}} on the resulting expression. Set the optional keyword arguments \\texttt{raw}, \\texttt{dump\\_module}, \\texttt{debuginfo}, \\texttt{optimize} by putting them and their value before the function call, like this:\n",
       "\n",
       "\\begin{verbatim}\n",
       "@code_llvm raw=true dump_module=true debuginfo=:default f(x)\n",
       "@code_llvm optimize=false f(x)\n",
       "\\end{verbatim}\n",
       "\\texttt{optimize} controls whether additional optimizations, such as inlining, are also applied. \\texttt{raw} makes all metadata and dbg.* calls visible. \\texttt{debuginfo} may be one of \\texttt{:source} (default) or \\texttt{:none},  to specify the verbosity of code comments. \\texttt{dump\\_module} prints the entire module that encapsulates the function.\n",
       "\n"
      ],
      "text/markdown": [
       "```\n",
       "@code_llvm\n",
       "```\n",
       "\n",
       "Evaluates the arguments to the function or macro call, determines their types, and calls [`code_llvm`](@ref) on the resulting expression. Set the optional keyword arguments `raw`, `dump_module`, `debuginfo`, `optimize` by putting them and their value before the function call, like this:\n",
       "\n",
       "```\n",
       "@code_llvm raw=true dump_module=true debuginfo=:default f(x)\n",
       "@code_llvm optimize=false f(x)\n",
       "```\n",
       "\n",
       "`optimize` controls whether additional optimizations, such as inlining, are also applied. `raw` makes all metadata and dbg.* calls visible. `debuginfo` may be one of `:source` (default) or `:none`,  to specify the verbosity of code comments. `dump_module` prints the entire module that encapsulates the function.\n"
      ],
      "text/plain": [
       "\u001b[36m  @code_llvm\u001b[39m\n",
       "\n",
       "  Evaluates the arguments to the function or macro call, determines their\n",
       "  types, and calls \u001b[36mcode_llvm\u001b[39m on the resulting expression. Set the optional\n",
       "  keyword arguments \u001b[36mraw\u001b[39m, \u001b[36mdump_module\u001b[39m, \u001b[36mdebuginfo\u001b[39m, \u001b[36moptimize\u001b[39m by putting them and\n",
       "  their value before the function call, like this:\n",
       "\n",
       "\u001b[36m  @code_llvm raw=true dump_module=true debuginfo=:default f(x)\u001b[39m\n",
       "\u001b[36m  @code_llvm optimize=false f(x)\u001b[39m\n",
       "\n",
       "  \u001b[36moptimize\u001b[39m controls whether additional optimizations, such as inlining, are\n",
       "  also applied. \u001b[36mraw\u001b[39m makes all metadata and dbg.* calls visible. \u001b[36mdebuginfo\u001b[39m may\n",
       "  be one of \u001b[36m:source\u001b[39m (default) or \u001b[36m:none\u001b[39m, to specify the verbosity of code\n",
       "  comments. \u001b[36mdump_module\u001b[39m prints the entire module that encapsulates the\n",
       "  function."
      ]
     },
     "execution_count": 52,
     "metadata": {},
     "output_type": "execute_result"
    }
   ],
   "source": [
    "?@code_llvm"
   ]
  },
  {
   "attachments": {},
   "cell_type": "markdown",
   "metadata": {},
   "source": [
    "### Plotting Data\n",
    "Visualize variables using ${\\tt Julia}$'s plotting functions."
   ]
  },
  {
   "cell_type": "code",
   "execution_count": 53,
   "metadata": {},
   "outputs": [
    {
     "name": "stderr",
     "output_type": "stream",
     "text": [
      "\u001b[32m\u001b[1m   Resolving\u001b[22m\u001b[39m package versions...\n",
      "\u001b[32m\u001b[1m  No Changes\u001b[22m\u001b[39m to `E:\\Embeeded_AI_Code_Snippets\\Julia\\Project.toml`\n",
      "\u001b[32m\u001b[1m  No Changes\u001b[22m\u001b[39m to `E:\\Embeeded_AI_Code_Snippets\\Julia\\Manifest.toml`\n"
     ]
    }
   ],
   "source": [
    "]add Plots"
   ]
  },
  {
   "cell_type": "code",
   "execution_count": 54,
   "metadata": {},
   "outputs": [
    {
     "name": "stderr",
     "output_type": "stream",
     "text": [
      "\u001b[36m\u001b[1m[ \u001b[22m\u001b[39m\u001b[36m\u001b[1mInfo: \u001b[22m\u001b[39mPrecompiling Plots [91a5bcdd-55d7-5caf-9e0b-520d859cae80]\n",
      "\u001b[36m\u001b[1m[ \u001b[22m\u001b[39m\u001b[36m\u001b[1mInfo: \u001b[22m\u001b[39mGR\n"
     ]
    }
   ],
   "source": [
    "using Plots # GR is the default backend"
   ]
  },
  {
   "cell_type": "code",
   "execution_count": 55,
   "metadata": {},
   "outputs": [
    {
     "data": {
      "image/svg+xml": "<?xml version=\"1.0\" encoding=\"utf-8\"?>\n<svg xmlns=\"http://www.w3.org/2000/svg\" xmlns:xlink=\"http://www.w3.org/1999/xlink\" width=\"600\" height=\"400\" viewBox=\"0 0 2400 1600\">\n<defs>\n  <clipPath id=\"clip140\">\n    <rect x=\"0\" y=\"0\" width=\"2400\" height=\"1600\"/>\n  </clipPath>\n</defs>\n<path clip-path=\"url(#clip140)\" d=\"M0 1600 L2400 1600 L2400 0 L0 0  Z\" fill=\"#ffffff\" fill-rule=\"evenodd\" fill-opacity=\"1\"/>\n<defs>\n  <clipPath id=\"clip141\">\n    <rect x=\"480\" y=\"0\" width=\"1681\" height=\"1600\"/>\n  </clipPath>\n</defs>\n<path clip-path=\"url(#clip140)\" d=\"M193.936 1486.45 L2352.76 1486.45 L2352.76 47.2441 L193.936 47.2441  Z\" fill=\"#ffffff\" fill-rule=\"evenodd\" fill-opacity=\"1\"/>\n<defs>\n  <clipPath id=\"clip142\">\n    <rect x=\"193\" y=\"47\" width=\"2160\" height=\"1440\"/>\n  </clipPath>\n</defs>\n<polyline clip-path=\"url(#clip142)\" style=\"stroke:#000000; stroke-linecap:round; stroke-linejoin:round; stroke-width:2; stroke-opacity:0.1; fill:none\" points=\"481.326,1486.45 481.326,47.2441 \"/>\n<polyline clip-path=\"url(#clip142)\" style=\"stroke:#000000; stroke-linecap:round; stroke-linejoin:round; stroke-width:2; stroke-opacity:0.1; fill:none\" points=\"933.909,1486.45 933.909,47.2441 \"/>\n<polyline clip-path=\"url(#clip142)\" style=\"stroke:#000000; stroke-linecap:round; stroke-linejoin:round; stroke-width:2; stroke-opacity:0.1; fill:none\" points=\"1386.49,1486.45 1386.49,47.2441 \"/>\n<polyline clip-path=\"url(#clip142)\" style=\"stroke:#000000; stroke-linecap:round; stroke-linejoin:round; stroke-width:2; stroke-opacity:0.1; fill:none\" points=\"1839.07,1486.45 1839.07,47.2441 \"/>\n<polyline clip-path=\"url(#clip142)\" style=\"stroke:#000000; stroke-linecap:round; stroke-linejoin:round; stroke-width:2; stroke-opacity:0.1; fill:none\" points=\"2291.66,1486.45 2291.66,47.2441 \"/>\n<polyline clip-path=\"url(#clip140)\" style=\"stroke:#000000; stroke-linecap:round; stroke-linejoin:round; stroke-width:4; stroke-opacity:1; fill:none\" points=\"193.936,1486.45 2352.76,1486.45 \"/>\n<polyline clip-path=\"url(#clip140)\" style=\"stroke:#000000; stroke-linecap:round; stroke-linejoin:round; stroke-width:4; stroke-opacity:1; fill:none\" points=\"481.326,1486.45 481.326,1467.55 \"/>\n<polyline clip-path=\"url(#clip140)\" style=\"stroke:#000000; stroke-linecap:round; stroke-linejoin:round; stroke-width:4; stroke-opacity:1; fill:none\" points=\"933.909,1486.45 933.909,1467.55 \"/>\n<polyline clip-path=\"url(#clip140)\" style=\"stroke:#000000; stroke-linecap:round; stroke-linejoin:round; stroke-width:4; stroke-opacity:1; fill:none\" points=\"1386.49,1486.45 1386.49,1467.55 \"/>\n<polyline clip-path=\"url(#clip140)\" style=\"stroke:#000000; stroke-linecap:round; stroke-linejoin:round; stroke-width:4; stroke-opacity:1; fill:none\" points=\"1839.07,1486.45 1839.07,1467.55 \"/>\n<polyline clip-path=\"url(#clip140)\" style=\"stroke:#000000; stroke-linecap:round; stroke-linejoin:round; stroke-width:4; stroke-opacity:1; fill:none\" points=\"2291.66,1486.45 2291.66,1467.55 \"/>\n<path clip-path=\"url(#clip140)\" d=\"M475.979 1544.91 L492.298 1544.91 L492.298 1548.85 L470.354 1548.85 L470.354 1544.91 Q473.016 1542.16 477.599 1537.53 Q482.206 1532.88 483.386 1531.53 Q485.632 1529.01 486.511 1527.27 Q487.414 1525.51 487.414 1523.82 Q487.414 1521.07 485.47 1519.33 Q483.548 1517.6 480.446 1517.6 Q478.247 1517.6 475.794 1518.36 Q473.363 1519.13 470.585 1520.68 L470.585 1515.95 Q473.409 1514.82 475.863 1514.24 Q478.317 1513.66 480.354 1513.66 Q485.724 1513.66 488.919 1516.35 Q492.113 1519.03 492.113 1523.52 Q492.113 1525.65 491.303 1527.57 Q490.516 1529.47 488.409 1532.07 Q487.831 1532.74 484.729 1535.95 Q481.627 1539.15 475.979 1544.91 Z\" fill=\"#000000\" fill-rule=\"evenodd\" fill-opacity=\"1\" /><path clip-path=\"url(#clip140)\" d=\"M936.918 1518.36 L925.113 1536.81 L936.918 1536.81 L936.918 1518.36 M935.691 1514.29 L941.571 1514.29 L941.571 1536.81 L946.501 1536.81 L946.501 1540.7 L941.571 1540.7 L941.571 1548.85 L936.918 1548.85 L936.918 1540.7 L921.316 1540.7 L921.316 1536.19 L935.691 1514.29 Z\" fill=\"#000000\" fill-rule=\"evenodd\" fill-opacity=\"1\" /><path clip-path=\"url(#clip140)\" d=\"M1386.9 1529.7 Q1383.75 1529.7 1381.9 1531.86 Q1380.07 1534.01 1380.07 1537.76 Q1380.07 1541.49 1381.9 1543.66 Q1383.75 1545.82 1386.9 1545.82 Q1390.04 1545.82 1391.87 1543.66 Q1393.73 1541.49 1393.73 1537.76 Q1393.73 1534.01 1391.87 1531.86 Q1390.04 1529.7 1386.9 1529.7 M1396.18 1515.05 L1396.18 1519.31 Q1394.42 1518.48 1392.61 1518.04 Q1390.83 1517.6 1389.07 1517.6 Q1384.44 1517.6 1381.99 1520.72 Q1379.56 1523.85 1379.21 1530.17 Q1380.58 1528.15 1382.64 1527.09 Q1384.7 1526 1387.17 1526 Q1392.38 1526 1395.39 1529.17 Q1398.42 1532.32 1398.42 1537.76 Q1398.42 1543.08 1395.28 1546.3 Q1392.13 1549.52 1386.9 1549.52 Q1380.9 1549.52 1377.73 1544.94 Q1374.56 1540.33 1374.56 1531.6 Q1374.56 1523.41 1378.45 1518.55 Q1382.34 1513.66 1388.89 1513.66 Q1390.65 1513.66 1392.43 1514.01 Q1394.23 1514.36 1396.18 1515.05 Z\" fill=\"#000000\" fill-rule=\"evenodd\" fill-opacity=\"1\" /><path clip-path=\"url(#clip140)\" d=\"M1839.07 1532.44 Q1835.74 1532.44 1833.82 1534.22 Q1831.92 1536 1831.92 1539.13 Q1831.92 1542.25 1833.82 1544.03 Q1835.74 1545.82 1839.07 1545.82 Q1842.41 1545.82 1844.33 1544.03 Q1846.25 1542.23 1846.25 1539.13 Q1846.25 1536 1844.33 1534.22 Q1842.43 1532.44 1839.07 1532.44 M1834.4 1530.45 Q1831.39 1529.7 1829.7 1527.64 Q1828.03 1525.58 1828.03 1522.62 Q1828.03 1518.48 1830.97 1516.07 Q1833.94 1513.66 1839.07 1513.66 Q1844.24 1513.66 1847.18 1516.07 Q1850.12 1518.48 1850.12 1522.62 Q1850.12 1525.58 1848.43 1527.64 Q1846.76 1529.7 1843.77 1530.45 Q1847.15 1531.23 1849.03 1533.52 Q1850.93 1535.82 1850.93 1539.13 Q1850.93 1544.15 1847.85 1546.83 Q1844.79 1549.52 1839.07 1549.52 Q1833.36 1549.52 1830.28 1546.83 Q1827.22 1544.15 1827.22 1539.13 Q1827.22 1535.82 1829.12 1533.52 Q1831.02 1531.23 1834.4 1530.45 M1832.69 1523.06 Q1832.69 1525.75 1834.35 1527.25 Q1836.04 1528.76 1839.07 1528.76 Q1842.08 1528.76 1843.77 1527.25 Q1845.49 1525.75 1845.49 1523.06 Q1845.49 1520.38 1843.77 1518.87 Q1842.08 1517.37 1839.07 1517.37 Q1836.04 1517.37 1834.35 1518.87 Q1832.69 1520.38 1832.69 1523.06 Z\" fill=\"#000000\" fill-rule=\"evenodd\" fill-opacity=\"1\" /><path clip-path=\"url(#clip140)\" d=\"M2266.34 1544.91 L2273.98 1544.91 L2273.98 1518.55 L2265.67 1520.21 L2265.67 1515.95 L2273.94 1514.29 L2278.61 1514.29 L2278.61 1544.91 L2286.25 1544.91 L2286.25 1548.85 L2266.34 1548.85 L2266.34 1544.91 Z\" fill=\"#000000\" fill-rule=\"evenodd\" fill-opacity=\"1\" /><path clip-path=\"url(#clip140)\" d=\"M2305.7 1517.37 Q2302.09 1517.37 2300.26 1520.93 Q2298.45 1524.47 2298.45 1531.6 Q2298.45 1538.71 2300.26 1542.27 Q2302.09 1545.82 2305.7 1545.82 Q2309.33 1545.82 2311.14 1542.27 Q2312.96 1538.71 2312.96 1531.6 Q2312.96 1524.47 2311.14 1520.93 Q2309.33 1517.37 2305.7 1517.37 M2305.7 1513.66 Q2311.51 1513.66 2314.56 1518.27 Q2317.64 1522.85 2317.64 1531.6 Q2317.64 1540.33 2314.56 1544.94 Q2311.51 1549.52 2305.7 1549.52 Q2299.89 1549.52 2296.81 1544.94 Q2293.75 1540.33 2293.75 1531.6 Q2293.75 1522.85 2296.81 1518.27 Q2299.89 1513.66 2305.7 1513.66 Z\" fill=\"#000000\" fill-rule=\"evenodd\" fill-opacity=\"1\" /><polyline clip-path=\"url(#clip142)\" style=\"stroke:#000000; stroke-linecap:round; stroke-linejoin:round; stroke-width:2; stroke-opacity:0.1; fill:none\" points=\"193.936,1445.77 2352.76,1445.77 \"/>\n<polyline clip-path=\"url(#clip142)\" style=\"stroke:#000000; stroke-linecap:round; stroke-linejoin:round; stroke-width:2; stroke-opacity:0.1; fill:none\" points=\"193.936,1106.3 2352.76,1106.3 \"/>\n<polyline clip-path=\"url(#clip142)\" style=\"stroke:#000000; stroke-linecap:round; stroke-linejoin:round; stroke-width:2; stroke-opacity:0.1; fill:none\" points=\"193.936,766.824 2352.76,766.824 \"/>\n<polyline clip-path=\"url(#clip142)\" style=\"stroke:#000000; stroke-linecap:round; stroke-linejoin:round; stroke-width:2; stroke-opacity:0.1; fill:none\" points=\"193.936,427.352 2352.76,427.352 \"/>\n<polyline clip-path=\"url(#clip142)\" style=\"stroke:#000000; stroke-linecap:round; stroke-linejoin:round; stroke-width:2; stroke-opacity:0.1; fill:none\" points=\"193.936,87.8803 2352.76,87.8803 \"/>\n<polyline clip-path=\"url(#clip140)\" style=\"stroke:#000000; stroke-linecap:round; stroke-linejoin:round; stroke-width:4; stroke-opacity:1; fill:none\" points=\"193.936,1486.45 193.936,47.2441 \"/>\n<polyline clip-path=\"url(#clip140)\" style=\"stroke:#000000; stroke-linecap:round; stroke-linejoin:round; stroke-width:4; stroke-opacity:1; fill:none\" points=\"193.936,1445.77 212.834,1445.77 \"/>\n<polyline clip-path=\"url(#clip140)\" style=\"stroke:#000000; stroke-linecap:round; stroke-linejoin:round; stroke-width:4; stroke-opacity:1; fill:none\" points=\"193.936,1106.3 212.834,1106.3 \"/>\n<polyline clip-path=\"url(#clip140)\" style=\"stroke:#000000; stroke-linecap:round; stroke-linejoin:round; stroke-width:4; stroke-opacity:1; fill:none\" points=\"193.936,766.824 212.834,766.824 \"/>\n<polyline clip-path=\"url(#clip140)\" style=\"stroke:#000000; stroke-linecap:round; stroke-linejoin:round; stroke-width:4; stroke-opacity:1; fill:none\" points=\"193.936,427.352 212.834,427.352 \"/>\n<polyline clip-path=\"url(#clip140)\" style=\"stroke:#000000; stroke-linecap:round; stroke-linejoin:round; stroke-width:4; stroke-opacity:1; fill:none\" points=\"193.936,87.8803 212.834,87.8803 \"/>\n<path clip-path=\"url(#clip140)\" d=\"M50.9921 1446.22 L80.6679 1446.22 L80.6679 1450.15 L50.9921 1450.15 L50.9921 1446.22 Z\" fill=\"#000000\" fill-rule=\"evenodd\" fill-opacity=\"1\" /><path clip-path=\"url(#clip140)\" d=\"M91.5706 1459.11 L99.2095 1459.11 L99.2095 1432.75 L90.8993 1434.41 L90.8993 1430.15 L99.1632 1428.49 L103.839 1428.49 L103.839 1459.11 L111.478 1459.11 L111.478 1463.05 L91.5706 1463.05 L91.5706 1459.11 Z\" fill=\"#000000\" fill-rule=\"evenodd\" fill-opacity=\"1\" /><path clip-path=\"url(#clip140)\" d=\"M120.922 1457.17 L125.807 1457.17 L125.807 1463.05 L120.922 1463.05 L120.922 1457.17 Z\" fill=\"#000000\" fill-rule=\"evenodd\" fill-opacity=\"1\" /><path clip-path=\"url(#clip140)\" d=\"M145.992 1431.57 Q142.381 1431.57 140.552 1435.13 Q138.746 1438.67 138.746 1445.8 Q138.746 1452.91 140.552 1456.47 Q142.381 1460.02 145.992 1460.02 Q149.626 1460.02 151.431 1456.47 Q153.26 1452.91 153.26 1445.8 Q153.26 1438.67 151.431 1435.13 Q149.626 1431.57 145.992 1431.57 M145.992 1427.86 Q151.802 1427.86 154.857 1432.47 Q157.936 1437.05 157.936 1445.8 Q157.936 1454.53 154.857 1459.14 Q151.802 1463.72 145.992 1463.72 Q140.181 1463.72 137.103 1459.14 Q134.047 1454.53 134.047 1445.8 Q134.047 1437.05 137.103 1432.47 Q140.181 1427.86 145.992 1427.86 Z\" fill=\"#000000\" fill-rule=\"evenodd\" fill-opacity=\"1\" /><path clip-path=\"url(#clip140)\" d=\"M51.9875 1106.75 L81.6633 1106.75 L81.6633 1110.68 L51.9875 1110.68 L51.9875 1106.75 Z\" fill=\"#000000\" fill-rule=\"evenodd\" fill-opacity=\"1\" /><path clip-path=\"url(#clip140)\" d=\"M101.756 1092.09 Q98.1447 1092.09 96.316 1095.66 Q94.5104 1099.2 94.5104 1106.33 Q94.5104 1113.44 96.316 1117 Q98.1447 1120.54 101.756 1120.54 Q105.39 1120.54 107.196 1117 Q109.024 1113.44 109.024 1106.33 Q109.024 1099.2 107.196 1095.66 Q105.39 1092.09 101.756 1092.09 M101.756 1088.39 Q107.566 1088.39 110.621 1093 Q113.7 1097.58 113.7 1106.33 Q113.7 1115.06 110.621 1119.66 Q107.566 1124.25 101.756 1124.25 Q95.9456 1124.25 92.8669 1119.66 Q89.8114 1115.06 89.8114 1106.33 Q89.8114 1097.58 92.8669 1093 Q95.9456 1088.39 101.756 1088.39 Z\" fill=\"#000000\" fill-rule=\"evenodd\" fill-opacity=\"1\" /><path clip-path=\"url(#clip140)\" d=\"M121.918 1117.7 L126.802 1117.7 L126.802 1123.58 L121.918 1123.58 L121.918 1117.7 Z\" fill=\"#000000\" fill-rule=\"evenodd\" fill-opacity=\"1\" /><path clip-path=\"url(#clip140)\" d=\"M137.033 1089.02 L155.39 1089.02 L155.39 1092.95 L141.316 1092.95 L141.316 1101.42 Q142.334 1101.08 143.353 1100.91 Q144.371 1100.73 145.39 1100.73 Q151.177 1100.73 154.556 1103.9 Q157.936 1107.07 157.936 1112.49 Q157.936 1118.07 154.464 1121.17 Q150.992 1124.25 144.672 1124.25 Q142.496 1124.25 140.228 1123.88 Q137.982 1123.51 135.575 1122.77 L135.575 1118.07 Q137.658 1119.2 139.881 1119.76 Q142.103 1120.31 144.58 1120.31 Q148.584 1120.31 150.922 1118.21 Q153.26 1116.1 153.26 1112.49 Q153.26 1108.88 150.922 1106.77 Q148.584 1104.66 144.58 1104.66 Q142.705 1104.66 140.83 1105.08 Q138.978 1105.5 137.033 1106.38 L137.033 1089.02 Z\" fill=\"#000000\" fill-rule=\"evenodd\" fill-opacity=\"1\" /><path clip-path=\"url(#clip140)\" d=\"M100.76 752.623 Q97.1493 752.623 95.3206 756.188 Q93.515 759.729 93.515 766.859 Q93.515 773.965 95.3206 777.53 Q97.1493 781.072 100.76 781.072 Q104.395 781.072 106.2 777.53 Q108.029 773.965 108.029 766.859 Q108.029 759.729 106.2 756.188 Q104.395 752.623 100.76 752.623 M100.76 748.919 Q106.571 748.919 109.626 753.526 Q112.705 758.109 112.705 766.859 Q112.705 775.586 109.626 780.192 Q106.571 784.775 100.76 784.775 Q94.9502 784.775 91.8715 780.192 Q88.816 775.586 88.816 766.859 Q88.816 758.109 91.8715 753.526 Q94.9502 748.919 100.76 748.919 Z\" fill=\"#000000\" fill-rule=\"evenodd\" fill-opacity=\"1\" /><path clip-path=\"url(#clip140)\" d=\"M120.922 778.224 L125.807 778.224 L125.807 784.104 L120.922 784.104 L120.922 778.224 Z\" fill=\"#000000\" fill-rule=\"evenodd\" fill-opacity=\"1\" /><path clip-path=\"url(#clip140)\" d=\"M145.992 752.623 Q142.381 752.623 140.552 756.188 Q138.746 759.729 138.746 766.859 Q138.746 773.965 140.552 777.53 Q142.381 781.072 145.992 781.072 Q149.626 781.072 151.431 777.53 Q153.26 773.965 153.26 766.859 Q153.26 759.729 151.431 756.188 Q149.626 752.623 145.992 752.623 M145.992 748.919 Q151.802 748.919 154.857 753.526 Q157.936 758.109 157.936 766.859 Q157.936 775.586 154.857 780.192 Q151.802 784.775 145.992 784.775 Q140.181 784.775 137.103 780.192 Q134.047 775.586 134.047 766.859 Q134.047 758.109 137.103 753.526 Q140.181 748.919 145.992 748.919 Z\" fill=\"#000000\" fill-rule=\"evenodd\" fill-opacity=\"1\" /><path clip-path=\"url(#clip140)\" d=\"M101.756 413.151 Q98.1447 413.151 96.316 416.716 Q94.5104 420.257 94.5104 427.387 Q94.5104 434.493 96.316 438.058 Q98.1447 441.6 101.756 441.6 Q105.39 441.6 107.196 438.058 Q109.024 434.493 109.024 427.387 Q109.024 420.257 107.196 416.716 Q105.39 413.151 101.756 413.151 M101.756 409.447 Q107.566 409.447 110.621 414.054 Q113.7 418.637 113.7 427.387 Q113.7 436.114 110.621 440.72 Q107.566 445.303 101.756 445.303 Q95.9456 445.303 92.8669 440.72 Q89.8114 436.114 89.8114 427.387 Q89.8114 418.637 92.8669 414.054 Q95.9456 409.447 101.756 409.447 Z\" fill=\"#000000\" fill-rule=\"evenodd\" fill-opacity=\"1\" /><path clip-path=\"url(#clip140)\" d=\"M121.918 438.753 L126.802 438.753 L126.802 444.632 L121.918 444.632 L121.918 438.753 Z\" fill=\"#000000\" fill-rule=\"evenodd\" fill-opacity=\"1\" /><path clip-path=\"url(#clip140)\" d=\"M137.033 410.072 L155.39 410.072 L155.39 414.007 L141.316 414.007 L141.316 422.48 Q142.334 422.132 143.353 421.97 Q144.371 421.785 145.39 421.785 Q151.177 421.785 154.556 424.956 Q157.936 428.128 157.936 433.544 Q157.936 439.123 154.464 442.225 Q150.992 445.303 144.672 445.303 Q142.496 445.303 140.228 444.933 Q137.982 444.563 135.575 443.822 L135.575 439.123 Q137.658 440.257 139.881 440.813 Q142.103 441.368 144.58 441.368 Q148.584 441.368 150.922 439.262 Q153.26 437.155 153.26 433.544 Q153.26 429.933 150.922 427.827 Q148.584 425.72 144.58 425.72 Q142.705 425.72 140.83 426.137 Q138.978 426.554 137.033 427.433 L137.033 410.072 Z\" fill=\"#000000\" fill-rule=\"evenodd\" fill-opacity=\"1\" /><path clip-path=\"url(#clip140)\" d=\"M91.5706 101.225 L99.2095 101.225 L99.2095 74.8595 L90.8993 76.5262 L90.8993 72.267 L99.1632 70.6003 L103.839 70.6003 L103.839 101.225 L111.478 101.225 L111.478 105.16 L91.5706 105.16 L91.5706 101.225 Z\" fill=\"#000000\" fill-rule=\"evenodd\" fill-opacity=\"1\" /><path clip-path=\"url(#clip140)\" d=\"M120.922 99.2807 L125.807 99.2807 L125.807 105.16 L120.922 105.16 L120.922 99.2807 Z\" fill=\"#000000\" fill-rule=\"evenodd\" fill-opacity=\"1\" /><path clip-path=\"url(#clip140)\" d=\"M145.992 73.679 Q142.381 73.679 140.552 77.2438 Q138.746 80.7854 138.746 87.915 Q138.746 95.0215 140.552 98.5863 Q142.381 102.128 145.992 102.128 Q149.626 102.128 151.431 98.5863 Q153.26 95.0215 153.26 87.915 Q153.26 80.7854 151.431 77.2438 Q149.626 73.679 145.992 73.679 M145.992 69.9753 Q151.802 69.9753 154.857 74.5818 Q157.936 79.1651 157.936 87.915 Q157.936 96.6418 154.857 101.248 Q151.802 105.832 145.992 105.832 Q140.181 105.832 137.103 101.248 Q134.047 96.6418 134.047 87.915 Q134.047 79.1651 137.103 74.5818 Q140.181 69.9753 145.992 69.9753 Z\" fill=\"#000000\" fill-rule=\"evenodd\" fill-opacity=\"1\" /><polyline clip-path=\"url(#clip142)\" style=\"stroke:#009af9; stroke-linecap:round; stroke-linejoin:round; stroke-width:4; stroke-opacity:1; fill:none\" points=\"255.035,195.513 277.664,161.744 300.293,134.022 322.922,112.622 345.551,97.7591 368.18,89.5811 390.81,88.1698 413.439,93.5394 436.068,105.636 458.697,124.34 481.326,149.462 503.955,180.753 526.584,217.9 549.213,260.532 571.843,308.223 594.472,360.495 617.101,416.828 639.73,476.657 662.359,539.386 684.988,604.387 707.617,671.011 730.247,738.593 752.876,806.457 775.505,873.925 798.134,940.322 820.763,1004.99 843.392,1067.27 866.021,1126.55 888.651,1182.24 911.28,1233.78 933.909,1280.65 956.538,1322.39 979.167,1358.57 1001.8,1388.85 1024.43,1412.91 1047.05,1430.51 1069.68,1441.48 1092.31,1445.72 1114.94,1443.16 1137.57,1433.85 1160.2,1417.88 1182.83,1395.4 1205.46,1366.64 1228.09,1331.89 1250.72,1291.49 1273.35,1245.85 1295.98,1195.42 1318.6,1140.71 1341.23,1082.26 1363.86,1020.67 1386.49,956.531 1409.12,890.502 1431.75,823.237 1454.38,755.408 1477.01,687.694 1499.64,620.77 1522.27,555.305 1544.9,491.954 1567.52,431.349 1590.15,374.096 1612.78,320.767 1635.41,271.895 1658.04,227.968 1680.67,189.425 1703.3,156.652 1725.93,129.975 1748.56,109.661 1771.19,95.9134 1793.82,88.8693 1816.45,88.5991 1839.07,95.1055 1861.7,108.323 1884.33,128.121 1906.96,154.3 1929.59,186.599 1952.22,224.696 1974.85,268.21 1997.48,316.705 2020.11,369.698 2042.74,426.659 2065.37,487.019 2087.99,550.174 2110.62,615.494 2133.25,682.326 2155.88,750.003 2178.51,817.847 2201.14,885.182 2223.77,951.334 2246.4,1015.64 2269.03,1077.47 2291.66,1136.18 \"/>\n<polyline clip-path=\"url(#clip142)\" style=\"stroke:#e26f46; stroke-linecap:round; stroke-linejoin:round; stroke-width:4; stroke-opacity:1; fill:none\" points=\"255.035,399.989 277.664,458.858 300.293,520.804 322.922,585.207 345.551,651.426 368.18,718.797 390.81,786.649 413.439,854.302 436.068,921.081 458.697,986.319 481.326,1049.36 503.955,1109.59 526.584,1166.38 549.213,1219.19 571.843,1267.47 594.472,1310.76 617.101,1348.6 639.73,1380.64 662.359,1406.54 684.988,1426.05 707.617,1438.97 730.247,1445.18 752.876,1444.61 775.505,1437.27 798.134,1423.23 820.763,1402.63 843.392,1375.67 866.021,1342.64 888.651,1303.85 911.28,1259.69 933.909,1210.61 956.538,1157.1 979.167,1099.68 1001.8,1038.94 1024.43,975.486 1047.05,909.943 1069.68,842.969 1092.31,775.235 1114.94,707.417 1137.57,640.193 1160.2,574.233 1182.83,510.198 1205.46,448.728 1228.09,390.435 1250.72,335.903 1273.35,285.677 1295.98,240.258 1318.6,200.101 1341.23,165.606 1363.86,137.118 1386.49,114.922 1409.12,99.2401 1431.75,90.228 1454.38,87.9763 1477.01,92.5074 1499.64,103.776 1522.27,121.67 1544.9,146.009 1567.52,176.552 1590.15,212.993 1612.78,254.967 1635.41,302.055 1658.04,353.788 1680.67,409.647 1703.3,469.075 1725.93,531.478 1748.56,596.233 1771.19,662.692 1793.82,730.191 1816.45,798.057 1839.07,865.61 1861.7,932.177 1884.33,997.091 1906.96,1059.7 1929.59,1119.39 1952.22,1175.56 1974.85,1227.64 1997.48,1275.11 2020.11,1317.51 2042.74,1354.41 2065.37,1385.43 2087.99,1410.27 2110.62,1428.69 2133.25,1440.49 2155.88,1445.56 2178.51,1443.85 2201.14,1435.37 2223.77,1420.22 2246.4,1398.53 2269.03,1370.53 2291.66,1336.51 \"/>\n<path clip-path=\"url(#clip140)\" d=\"M1926.79 250.738 L2280.8 250.738 L2280.8 95.2176 L1926.79 95.2176  Z\" fill=\"#ffffff\" fill-rule=\"evenodd\" fill-opacity=\"1\"/>\n<polyline clip-path=\"url(#clip140)\" style=\"stroke:#000000; stroke-linecap:round; stroke-linejoin:round; stroke-width:4; stroke-opacity:1; fill:none\" points=\"1926.79,250.738 2280.8,250.738 2280.8,95.2176 1926.79,95.2176 1926.79,250.738 \"/>\n<polyline clip-path=\"url(#clip140)\" style=\"stroke:#009af9; stroke-linecap:round; stroke-linejoin:round; stroke-width:4; stroke-opacity:1; fill:none\" points=\"1950.78,147.058 2094.7,147.058 \"/>\n<path clip-path=\"url(#clip140)\" d=\"M2137.11 139.176 L2137.11 143.203 Q2135.3 142.277 2133.36 141.815 Q2131.42 141.352 2129.33 141.352 Q2126.16 141.352 2124.56 142.324 Q2122.99 143.296 2122.99 145.24 Q2122.99 146.722 2124.12 147.578 Q2125.26 148.412 2128.68 149.176 L2130.14 149.5 Q2134.68 150.472 2136.58 152.254 Q2138.5 154.014 2138.5 157.185 Q2138.5 160.796 2135.63 162.902 Q2132.78 165.009 2127.78 165.009 Q2125.7 165.009 2123.43 164.592 Q2121.18 164.199 2118.68 163.388 L2118.68 158.99 Q2121.05 160.217 2123.34 160.842 Q2125.63 161.444 2127.87 161.444 Q2130.88 161.444 2132.5 160.426 Q2134.12 159.384 2134.12 157.509 Q2134.12 155.773 2132.94 154.847 Q2131.79 153.921 2127.83 153.064 L2126.35 152.717 Q2122.39 151.884 2120.63 150.171 Q2118.87 148.435 2118.87 145.426 Q2118.87 141.768 2121.46 139.778 Q2124.05 137.787 2128.82 137.787 Q2131.18 137.787 2133.27 138.134 Q2135.35 138.481 2137.11 139.176 Z\" fill=\"#000000\" fill-rule=\"evenodd\" fill-opacity=\"1\" /><path clip-path=\"url(#clip140)\" d=\"M2145.28 138.412 L2149.54 138.412 L2149.54 164.338 L2145.28 164.338 L2145.28 138.412 M2145.28 128.319 L2149.54 128.319 L2149.54 133.713 L2145.28 133.713 L2145.28 128.319 Z\" fill=\"#000000\" fill-rule=\"evenodd\" fill-opacity=\"1\" /><path clip-path=\"url(#clip140)\" d=\"M2180 148.689 L2180 164.338 L2175.74 164.338 L2175.74 148.828 Q2175.74 145.148 2174.31 143.319 Q2172.87 141.49 2170 141.49 Q2166.55 141.49 2164.56 143.69 Q2162.57 145.889 2162.57 149.685 L2162.57 164.338 L2158.29 164.338 L2158.29 138.412 L2162.57 138.412 L2162.57 142.44 Q2164.1 140.102 2166.16 138.944 Q2168.24 137.787 2170.95 137.787 Q2175.42 137.787 2177.71 140.565 Q2180 143.319 2180 148.689 Z\" fill=\"#000000\" fill-rule=\"evenodd\" fill-opacity=\"1\" /><path clip-path=\"url(#clip140)\" d=\"M2198.73 128.366 Q2195.63 133.69 2194.12 138.898 Q2192.62 144.106 2192.62 149.453 Q2192.62 154.801 2194.12 160.055 Q2195.65 165.287 2198.73 170.588 L2195.03 170.588 Q2191.55 165.148 2189.82 159.893 Q2188.11 154.639 2188.11 149.453 Q2188.11 144.291 2189.82 139.06 Q2191.53 133.828 2195.03 128.366 L2198.73 128.366 Z\" fill=\"#000000\" fill-rule=\"evenodd\" fill-opacity=\"1\" /><path clip-path=\"url(#clip140)\" d=\"M2228.54 138.412 L2219.17 151.027 L2229.03 164.338 L2224.01 164.338 L2216.46 154.152 L2208.92 164.338 L2203.89 164.338 L2213.96 150.773 L2204.75 138.412 L2209.77 138.412 L2216.65 147.648 L2223.52 138.412 L2228.54 138.412 Z\" fill=\"#000000\" fill-rule=\"evenodd\" fill-opacity=\"1\" /><path clip-path=\"url(#clip140)\" d=\"M2234.38 128.366 L2238.08 128.366 Q2241.55 133.828 2243.27 139.06 Q2245 144.291 2245 149.453 Q2245 154.639 2243.27 159.893 Q2241.55 165.148 2238.08 170.588 L2234.38 170.588 Q2237.46 165.287 2238.96 160.055 Q2240.49 154.801 2240.49 149.453 Q2240.49 144.106 2238.96 138.898 Q2237.46 133.69 2234.38 128.366 Z\" fill=\"#000000\" fill-rule=\"evenodd\" fill-opacity=\"1\" /><polyline clip-path=\"url(#clip140)\" style=\"stroke:#e26f46; stroke-linecap:round; stroke-linejoin:round; stroke-width:4; stroke-opacity:1; fill:none\" points=\"1950.78,198.898 2094.7,198.898 \"/>\n<path clip-path=\"url(#clip140)\" d=\"M2139.19 191.247 L2139.19 195.229 Q2137.39 194.233 2135.56 193.747 Q2133.75 193.238 2131.9 193.238 Q2127.76 193.238 2125.47 195.877 Q2123.17 198.492 2123.17 203.238 Q2123.17 207.983 2125.47 210.622 Q2127.76 213.238 2131.9 213.238 Q2133.75 213.238 2135.56 212.752 Q2137.39 212.242 2139.19 211.247 L2139.19 215.182 Q2137.41 216.016 2135.49 216.432 Q2133.59 216.849 2131.44 216.849 Q2125.58 216.849 2122.13 213.168 Q2118.68 209.488 2118.68 203.238 Q2118.68 196.895 2122.16 193.261 Q2125.65 189.627 2131.72 189.627 Q2133.68 189.627 2135.56 190.043 Q2137.43 190.437 2139.19 191.247 Z\" fill=\"#000000\" fill-rule=\"evenodd\" fill-opacity=\"1\" /><path clip-path=\"url(#clip140)\" d=\"M2156.65 193.238 Q2153.22 193.238 2151.23 195.923 Q2149.24 198.585 2149.24 203.238 Q2149.24 207.891 2151.21 210.576 Q2153.2 213.238 2156.65 213.238 Q2160.05 213.238 2162.04 210.553 Q2164.03 207.867 2164.03 203.238 Q2164.03 198.631 2162.04 195.946 Q2160.05 193.238 2156.65 193.238 M2156.65 189.627 Q2162.2 189.627 2165.37 193.238 Q2168.54 196.849 2168.54 203.238 Q2168.54 209.604 2165.37 213.238 Q2162.2 216.849 2156.65 216.849 Q2151.07 216.849 2147.9 213.238 Q2144.75 209.604 2144.75 203.238 Q2144.75 196.849 2147.9 193.238 Q2151.07 189.627 2156.65 189.627 Z\" fill=\"#000000\" fill-rule=\"evenodd\" fill-opacity=\"1\" /><path clip-path=\"url(#clip140)\" d=\"M2192.13 191.016 L2192.13 195.043 Q2190.33 194.117 2188.38 193.655 Q2186.44 193.192 2184.36 193.192 Q2181.18 193.192 2179.59 194.164 Q2178.01 195.136 2178.01 197.08 Q2178.01 198.562 2179.15 199.418 Q2180.28 200.252 2183.71 201.016 L2185.17 201.34 Q2189.7 202.312 2191.6 204.094 Q2193.52 205.854 2193.52 209.025 Q2193.52 212.636 2190.65 214.742 Q2187.8 216.849 2182.8 216.849 Q2180.72 216.849 2178.45 216.432 Q2176.21 216.039 2173.71 215.228 L2173.71 210.83 Q2176.07 212.057 2178.36 212.682 Q2180.65 213.284 2182.9 213.284 Q2185.91 213.284 2187.53 212.266 Q2189.15 211.224 2189.15 209.349 Q2189.15 207.613 2187.97 206.687 Q2186.81 205.761 2182.85 204.904 L2181.37 204.557 Q2177.41 203.724 2175.65 202.011 Q2173.89 200.275 2173.89 197.266 Q2173.89 193.608 2176.48 191.618 Q2179.08 189.627 2183.85 189.627 Q2186.21 189.627 2188.29 189.974 Q2190.37 190.321 2192.13 191.016 Z\" fill=\"#000000\" fill-rule=\"evenodd\" fill-opacity=\"1\" /><path clip-path=\"url(#clip140)\" d=\"M2210.54 180.206 Q2207.43 185.53 2205.93 190.738 Q2204.42 195.946 2204.42 201.293 Q2204.42 206.641 2205.93 211.895 Q2207.46 217.127 2210.54 222.428 L2206.83 222.428 Q2203.36 216.988 2201.62 211.733 Q2199.91 206.479 2199.91 201.293 Q2199.91 196.131 2201.62 190.9 Q2203.34 185.668 2206.83 180.206 L2210.54 180.206 Z\" fill=\"#000000\" fill-rule=\"evenodd\" fill-opacity=\"1\" /><path clip-path=\"url(#clip140)\" d=\"M2240.35 190.252 L2230.98 202.867 L2240.84 216.178 L2235.81 216.178 L2228.27 205.992 L2220.72 216.178 L2215.7 216.178 L2225.77 202.613 L2216.55 190.252 L2221.58 190.252 L2228.45 199.488 L2235.33 190.252 L2240.35 190.252 Z\" fill=\"#000000\" fill-rule=\"evenodd\" fill-opacity=\"1\" /><path clip-path=\"url(#clip140)\" d=\"M2246.18 180.206 L2249.89 180.206 Q2253.36 185.668 2255.07 190.9 Q2256.81 196.131 2256.81 201.293 Q2256.81 206.479 2255.07 211.733 Q2253.36 216.988 2249.89 222.428 L2246.18 222.428 Q2249.26 217.127 2250.77 211.895 Q2252.29 206.641 2252.29 201.293 Q2252.29 195.946 2250.77 190.738 Q2249.26 185.53 2246.18 180.206 Z\" fill=\"#000000\" fill-rule=\"evenodd\" fill-opacity=\"1\" /></svg>\n"
     },
     "execution_count": 55,
     "metadata": {},
     "output_type": "execute_result"
    }
   ],
   "source": [
    "x = 1:.1:10\n",
    "y = sin.(x)\n",
    "z = cos.(x)\n",
    "\n",
    "plot(x, y, label=\"sin(x)\")\n",
    "plot!(x, z, label=\"cos(x)\") # Hold on the previous plot"
   ]
  },
  {
   "cell_type": "code",
   "execution_count": 56,
   "metadata": {},
   "outputs": [
    {
     "data": {
      "text/latex": [
       "\\textbf{Scatter Plot}\n",
       "\n"
      ],
      "text/markdown": [
       "**Scatter Plot**\n"
      ],
      "text/plain": [
       "  \u001b[1mScatter Plot\u001b[22m"
      ]
     },
     "execution_count": 56,
     "metadata": {},
     "output_type": "execute_result"
    }
   ],
   "source": [
    "md\"**Scatter Plot**\""
   ]
  },
  {
   "cell_type": "code",
   "execution_count": 57,
   "metadata": {},
   "outputs": [
    {
     "data": {
      "image/svg+xml": "<?xml version=\"1.0\" encoding=\"utf-8\"?>\n<svg xmlns=\"http://www.w3.org/2000/svg\" xmlns:xlink=\"http://www.w3.org/1999/xlink\" width=\"600\" height=\"400\" viewBox=\"0 0 2400 1600\">\n<defs>\n  <clipPath id=\"clip180\">\n    <rect x=\"0\" y=\"0\" width=\"2400\" height=\"1600\"/>\n  </clipPath>\n</defs>\n<path clip-path=\"url(#clip180)\" d=\"M0 1600 L2400 1600 L2400 0 L0 0  Z\" fill=\"#ffffff\" fill-rule=\"evenodd\" fill-opacity=\"1\"/>\n<defs>\n  <clipPath id=\"clip181\">\n    <rect x=\"480\" y=\"0\" width=\"1681\" height=\"1600\"/>\n  </clipPath>\n</defs>\n<path clip-path=\"url(#clip180)\" d=\"M193.936 1486.45 L2352.76 1486.45 L2352.76 47.2441 L193.936 47.2441  Z\" fill=\"#ffffff\" fill-rule=\"evenodd\" fill-opacity=\"1\"/>\n<defs>\n  <clipPath id=\"clip182\">\n    <rect x=\"193\" y=\"47\" width=\"2160\" height=\"1440\"/>\n  </clipPath>\n</defs>\n<polyline clip-path=\"url(#clip182)\" style=\"stroke:#000000; stroke-linecap:round; stroke-linejoin:round; stroke-width:2; stroke-opacity:0.1; fill:none\" points=\"481.326,1486.45 481.326,47.2441 \"/>\n<polyline clip-path=\"url(#clip182)\" style=\"stroke:#000000; stroke-linecap:round; stroke-linejoin:round; stroke-width:2; stroke-opacity:0.1; fill:none\" points=\"933.909,1486.45 933.909,47.2441 \"/>\n<polyline clip-path=\"url(#clip182)\" style=\"stroke:#000000; stroke-linecap:round; stroke-linejoin:round; stroke-width:2; stroke-opacity:0.1; fill:none\" points=\"1386.49,1486.45 1386.49,47.2441 \"/>\n<polyline clip-path=\"url(#clip182)\" style=\"stroke:#000000; stroke-linecap:round; stroke-linejoin:round; stroke-width:2; stroke-opacity:0.1; fill:none\" points=\"1839.07,1486.45 1839.07,47.2441 \"/>\n<polyline clip-path=\"url(#clip182)\" style=\"stroke:#000000; stroke-linecap:round; stroke-linejoin:round; stroke-width:2; stroke-opacity:0.1; fill:none\" points=\"2291.66,1486.45 2291.66,47.2441 \"/>\n<polyline clip-path=\"url(#clip180)\" style=\"stroke:#000000; stroke-linecap:round; stroke-linejoin:round; stroke-width:4; stroke-opacity:1; fill:none\" points=\"193.936,1486.45 2352.76,1486.45 \"/>\n<polyline clip-path=\"url(#clip180)\" style=\"stroke:#000000; stroke-linecap:round; stroke-linejoin:round; stroke-width:4; stroke-opacity:1; fill:none\" points=\"481.326,1486.45 481.326,1467.55 \"/>\n<polyline clip-path=\"url(#clip180)\" style=\"stroke:#000000; stroke-linecap:round; stroke-linejoin:round; stroke-width:4; stroke-opacity:1; fill:none\" points=\"933.909,1486.45 933.909,1467.55 \"/>\n<polyline clip-path=\"url(#clip180)\" style=\"stroke:#000000; stroke-linecap:round; stroke-linejoin:round; stroke-width:4; stroke-opacity:1; fill:none\" points=\"1386.49,1486.45 1386.49,1467.55 \"/>\n<polyline clip-path=\"url(#clip180)\" style=\"stroke:#000000; stroke-linecap:round; stroke-linejoin:round; stroke-width:4; stroke-opacity:1; fill:none\" points=\"1839.07,1486.45 1839.07,1467.55 \"/>\n<polyline clip-path=\"url(#clip180)\" style=\"stroke:#000000; stroke-linecap:round; stroke-linejoin:round; stroke-width:4; stroke-opacity:1; fill:none\" points=\"2291.66,1486.45 2291.66,1467.55 \"/>\n<path clip-path=\"url(#clip180)\" d=\"M475.979 1544.91 L492.298 1544.91 L492.298 1548.85 L470.354 1548.85 L470.354 1544.91 Q473.016 1542.16 477.599 1537.53 Q482.206 1532.88 483.386 1531.53 Q485.632 1529.01 486.511 1527.27 Q487.414 1525.51 487.414 1523.82 Q487.414 1521.07 485.47 1519.33 Q483.548 1517.6 480.446 1517.6 Q478.247 1517.6 475.794 1518.36 Q473.363 1519.13 470.585 1520.68 L470.585 1515.95 Q473.409 1514.82 475.863 1514.24 Q478.317 1513.66 480.354 1513.66 Q485.724 1513.66 488.919 1516.35 Q492.113 1519.03 492.113 1523.52 Q492.113 1525.65 491.303 1527.57 Q490.516 1529.47 488.409 1532.07 Q487.831 1532.74 484.729 1535.95 Q481.627 1539.15 475.979 1544.91 Z\" fill=\"#000000\" fill-rule=\"evenodd\" fill-opacity=\"1\" /><path clip-path=\"url(#clip180)\" d=\"M936.918 1518.36 L925.113 1536.81 L936.918 1536.81 L936.918 1518.36 M935.691 1514.29 L941.571 1514.29 L941.571 1536.81 L946.501 1536.81 L946.501 1540.7 L941.571 1540.7 L941.571 1548.85 L936.918 1548.85 L936.918 1540.7 L921.316 1540.7 L921.316 1536.19 L935.691 1514.29 Z\" fill=\"#000000\" fill-rule=\"evenodd\" fill-opacity=\"1\" /><path clip-path=\"url(#clip180)\" d=\"M1386.9 1529.7 Q1383.75 1529.7 1381.9 1531.86 Q1380.07 1534.01 1380.07 1537.76 Q1380.07 1541.49 1381.9 1543.66 Q1383.75 1545.82 1386.9 1545.82 Q1390.04 1545.82 1391.87 1543.66 Q1393.73 1541.49 1393.73 1537.76 Q1393.73 1534.01 1391.87 1531.86 Q1390.04 1529.7 1386.9 1529.7 M1396.18 1515.05 L1396.18 1519.31 Q1394.42 1518.48 1392.61 1518.04 Q1390.83 1517.6 1389.07 1517.6 Q1384.44 1517.6 1381.99 1520.72 Q1379.56 1523.85 1379.21 1530.17 Q1380.58 1528.15 1382.64 1527.09 Q1384.7 1526 1387.17 1526 Q1392.38 1526 1395.39 1529.17 Q1398.42 1532.32 1398.42 1537.76 Q1398.42 1543.08 1395.28 1546.3 Q1392.13 1549.52 1386.9 1549.52 Q1380.9 1549.52 1377.73 1544.94 Q1374.56 1540.33 1374.56 1531.6 Q1374.56 1523.41 1378.45 1518.55 Q1382.34 1513.66 1388.89 1513.66 Q1390.65 1513.66 1392.43 1514.01 Q1394.23 1514.36 1396.18 1515.05 Z\" fill=\"#000000\" fill-rule=\"evenodd\" fill-opacity=\"1\" /><path clip-path=\"url(#clip180)\" d=\"M1839.07 1532.44 Q1835.74 1532.44 1833.82 1534.22 Q1831.92 1536 1831.92 1539.13 Q1831.92 1542.25 1833.82 1544.03 Q1835.74 1545.82 1839.07 1545.82 Q1842.41 1545.82 1844.33 1544.03 Q1846.25 1542.23 1846.25 1539.13 Q1846.25 1536 1844.33 1534.22 Q1842.43 1532.44 1839.07 1532.44 M1834.4 1530.45 Q1831.39 1529.7 1829.7 1527.64 Q1828.03 1525.58 1828.03 1522.62 Q1828.03 1518.48 1830.97 1516.07 Q1833.94 1513.66 1839.07 1513.66 Q1844.24 1513.66 1847.18 1516.07 Q1850.12 1518.48 1850.12 1522.62 Q1850.12 1525.58 1848.43 1527.64 Q1846.76 1529.7 1843.77 1530.45 Q1847.15 1531.23 1849.03 1533.52 Q1850.93 1535.82 1850.93 1539.13 Q1850.93 1544.15 1847.85 1546.83 Q1844.79 1549.52 1839.07 1549.52 Q1833.36 1549.52 1830.28 1546.83 Q1827.22 1544.15 1827.22 1539.13 Q1827.22 1535.82 1829.12 1533.52 Q1831.02 1531.23 1834.4 1530.45 M1832.69 1523.06 Q1832.69 1525.75 1834.35 1527.25 Q1836.04 1528.76 1839.07 1528.76 Q1842.08 1528.76 1843.77 1527.25 Q1845.49 1525.75 1845.49 1523.06 Q1845.49 1520.38 1843.77 1518.87 Q1842.08 1517.37 1839.07 1517.37 Q1836.04 1517.37 1834.35 1518.87 Q1832.69 1520.38 1832.69 1523.06 Z\" fill=\"#000000\" fill-rule=\"evenodd\" fill-opacity=\"1\" /><path clip-path=\"url(#clip180)\" d=\"M2266.34 1544.91 L2273.98 1544.91 L2273.98 1518.55 L2265.67 1520.21 L2265.67 1515.95 L2273.94 1514.29 L2278.61 1514.29 L2278.61 1544.91 L2286.25 1544.91 L2286.25 1548.85 L2266.34 1548.85 L2266.34 1544.91 Z\" fill=\"#000000\" fill-rule=\"evenodd\" fill-opacity=\"1\" /><path clip-path=\"url(#clip180)\" d=\"M2305.7 1517.37 Q2302.09 1517.37 2300.26 1520.93 Q2298.45 1524.47 2298.45 1531.6 Q2298.45 1538.71 2300.26 1542.27 Q2302.09 1545.82 2305.7 1545.82 Q2309.33 1545.82 2311.14 1542.27 Q2312.96 1538.71 2312.96 1531.6 Q2312.96 1524.47 2311.14 1520.93 Q2309.33 1517.37 2305.7 1517.37 M2305.7 1513.66 Q2311.51 1513.66 2314.56 1518.27 Q2317.64 1522.85 2317.64 1531.6 Q2317.64 1540.33 2314.56 1544.94 Q2311.51 1549.52 2305.7 1549.52 Q2299.89 1549.52 2296.81 1544.94 Q2293.75 1540.33 2293.75 1531.6 Q2293.75 1522.85 2296.81 1518.27 Q2299.89 1513.66 2305.7 1513.66 Z\" fill=\"#000000\" fill-rule=\"evenodd\" fill-opacity=\"1\" /><polyline clip-path=\"url(#clip182)\" style=\"stroke:#000000; stroke-linecap:round; stroke-linejoin:round; stroke-width:2; stroke-opacity:0.1; fill:none\" points=\"193.936,1447.88 2352.76,1447.88 \"/>\n<polyline clip-path=\"url(#clip182)\" style=\"stroke:#000000; stroke-linecap:round; stroke-linejoin:round; stroke-width:2; stroke-opacity:0.1; fill:none\" points=\"193.936,1105.97 2352.76,1105.97 \"/>\n<polyline clip-path=\"url(#clip182)\" style=\"stroke:#000000; stroke-linecap:round; stroke-linejoin:round; stroke-width:2; stroke-opacity:0.1; fill:none\" points=\"193.936,764.064 2352.76,764.064 \"/>\n<polyline clip-path=\"url(#clip182)\" style=\"stroke:#000000; stroke-linecap:round; stroke-linejoin:round; stroke-width:2; stroke-opacity:0.1; fill:none\" points=\"193.936,422.155 2352.76,422.155 \"/>\n<polyline clip-path=\"url(#clip182)\" style=\"stroke:#000000; stroke-linecap:round; stroke-linejoin:round; stroke-width:2; stroke-opacity:0.1; fill:none\" points=\"193.936,80.2461 2352.76,80.2461 \"/>\n<polyline clip-path=\"url(#clip180)\" style=\"stroke:#000000; stroke-linecap:round; stroke-linejoin:round; stroke-width:4; stroke-opacity:1; fill:none\" points=\"193.936,1486.45 193.936,47.2441 \"/>\n<polyline clip-path=\"url(#clip180)\" style=\"stroke:#000000; stroke-linecap:round; stroke-linejoin:round; stroke-width:4; stroke-opacity:1; fill:none\" points=\"193.936,1447.88 212.834,1447.88 \"/>\n<polyline clip-path=\"url(#clip180)\" style=\"stroke:#000000; stroke-linecap:round; stroke-linejoin:round; stroke-width:4; stroke-opacity:1; fill:none\" points=\"193.936,1105.97 212.834,1105.97 \"/>\n<polyline clip-path=\"url(#clip180)\" style=\"stroke:#000000; stroke-linecap:round; stroke-linejoin:round; stroke-width:4; stroke-opacity:1; fill:none\" points=\"193.936,764.064 212.834,764.064 \"/>\n<polyline clip-path=\"url(#clip180)\" style=\"stroke:#000000; stroke-linecap:round; stroke-linejoin:round; stroke-width:4; stroke-opacity:1; fill:none\" points=\"193.936,422.155 212.834,422.155 \"/>\n<polyline clip-path=\"url(#clip180)\" style=\"stroke:#000000; stroke-linecap:round; stroke-linejoin:round; stroke-width:4; stroke-opacity:1; fill:none\" points=\"193.936,80.2461 212.834,80.2461 \"/>\n<path clip-path=\"url(#clip180)\" d=\"M50.9921 1448.33 L80.6679 1448.33 L80.6679 1452.27 L50.9921 1452.27 L50.9921 1448.33 Z\" fill=\"#000000\" fill-rule=\"evenodd\" fill-opacity=\"1\" /><path clip-path=\"url(#clip180)\" d=\"M91.5706 1461.23 L99.2095 1461.23 L99.2095 1434.86 L90.8993 1436.53 L90.8993 1432.27 L99.1632 1430.6 L103.839 1430.6 L103.839 1461.23 L111.478 1461.23 L111.478 1465.16 L91.5706 1465.16 L91.5706 1461.23 Z\" fill=\"#000000\" fill-rule=\"evenodd\" fill-opacity=\"1\" /><path clip-path=\"url(#clip180)\" d=\"M120.922 1459.28 L125.807 1459.28 L125.807 1465.16 L120.922 1465.16 L120.922 1459.28 Z\" fill=\"#000000\" fill-rule=\"evenodd\" fill-opacity=\"1\" /><path clip-path=\"url(#clip180)\" d=\"M145.992 1433.68 Q142.381 1433.68 140.552 1437.24 Q138.746 1440.79 138.746 1447.92 Q138.746 1455.02 140.552 1458.59 Q142.381 1462.13 145.992 1462.13 Q149.626 1462.13 151.431 1458.59 Q153.26 1455.02 153.26 1447.92 Q153.26 1440.79 151.431 1437.24 Q149.626 1433.68 145.992 1433.68 M145.992 1429.98 Q151.802 1429.98 154.857 1434.58 Q157.936 1439.17 157.936 1447.92 Q157.936 1456.64 154.857 1461.25 Q151.802 1465.83 145.992 1465.83 Q140.181 1465.83 137.103 1461.25 Q134.047 1456.64 134.047 1447.92 Q134.047 1439.17 137.103 1434.58 Q140.181 1429.98 145.992 1429.98 Z\" fill=\"#000000\" fill-rule=\"evenodd\" fill-opacity=\"1\" /><path clip-path=\"url(#clip180)\" d=\"M51.9875 1106.42 L81.6633 1106.42 L81.6633 1110.36 L51.9875 1110.36 L51.9875 1106.42 Z\" fill=\"#000000\" fill-rule=\"evenodd\" fill-opacity=\"1\" /><path clip-path=\"url(#clip180)\" d=\"M101.756 1091.77 Q98.1447 1091.77 96.316 1095.34 Q94.5104 1098.88 94.5104 1106.01 Q94.5104 1113.11 96.316 1116.68 Q98.1447 1120.22 101.756 1120.22 Q105.39 1120.22 107.196 1116.68 Q109.024 1113.11 109.024 1106.01 Q109.024 1098.88 107.196 1095.34 Q105.39 1091.77 101.756 1091.77 M101.756 1088.07 Q107.566 1088.07 110.621 1092.67 Q113.7 1097.26 113.7 1106.01 Q113.7 1114.73 110.621 1119.34 Q107.566 1123.92 101.756 1123.92 Q95.9456 1123.92 92.8669 1119.34 Q89.8114 1114.73 89.8114 1106.01 Q89.8114 1097.26 92.8669 1092.67 Q95.9456 1088.07 101.756 1088.07 Z\" fill=\"#000000\" fill-rule=\"evenodd\" fill-opacity=\"1\" /><path clip-path=\"url(#clip180)\" d=\"M121.918 1117.37 L126.802 1117.37 L126.802 1123.25 L121.918 1123.25 L121.918 1117.37 Z\" fill=\"#000000\" fill-rule=\"evenodd\" fill-opacity=\"1\" /><path clip-path=\"url(#clip180)\" d=\"M137.033 1088.69 L155.39 1088.69 L155.39 1092.63 L141.316 1092.63 L141.316 1101.1 Q142.334 1100.75 143.353 1100.59 Q144.371 1100.41 145.39 1100.41 Q151.177 1100.41 154.556 1103.58 Q157.936 1106.75 157.936 1112.16 Q157.936 1117.74 154.464 1120.84 Q150.992 1123.92 144.672 1123.92 Q142.496 1123.92 140.228 1123.55 Q137.982 1123.18 135.575 1122.44 L135.575 1117.74 Q137.658 1118.88 139.881 1119.43 Q142.103 1119.99 144.58 1119.99 Q148.584 1119.99 150.922 1117.88 Q153.26 1115.78 153.26 1112.16 Q153.26 1108.55 150.922 1106.45 Q148.584 1104.34 144.58 1104.34 Q142.705 1104.34 140.83 1104.76 Q138.978 1105.17 137.033 1106.05 L137.033 1088.69 Z\" fill=\"#000000\" fill-rule=\"evenodd\" fill-opacity=\"1\" /><path clip-path=\"url(#clip180)\" d=\"M100.76 749.862 Q97.1493 749.862 95.3206 753.427 Q93.515 756.969 93.515 764.098 Q93.515 771.205 95.3206 774.77 Q97.1493 778.311 100.76 778.311 Q104.395 778.311 106.2 774.77 Q108.029 771.205 108.029 764.098 Q108.029 756.969 106.2 753.427 Q104.395 749.862 100.76 749.862 M100.76 746.159 Q106.571 746.159 109.626 750.765 Q112.705 755.348 112.705 764.098 Q112.705 772.825 109.626 777.432 Q106.571 782.015 100.76 782.015 Q94.9502 782.015 91.8715 777.432 Q88.816 772.825 88.816 764.098 Q88.816 755.348 91.8715 750.765 Q94.9502 746.159 100.76 746.159 Z\" fill=\"#000000\" fill-rule=\"evenodd\" fill-opacity=\"1\" /><path clip-path=\"url(#clip180)\" d=\"M120.922 775.464 L125.807 775.464 L125.807 781.344 L120.922 781.344 L120.922 775.464 Z\" fill=\"#000000\" fill-rule=\"evenodd\" fill-opacity=\"1\" /><path clip-path=\"url(#clip180)\" d=\"M145.992 749.862 Q142.381 749.862 140.552 753.427 Q138.746 756.969 138.746 764.098 Q138.746 771.205 140.552 774.77 Q142.381 778.311 145.992 778.311 Q149.626 778.311 151.431 774.77 Q153.26 771.205 153.26 764.098 Q153.26 756.969 151.431 753.427 Q149.626 749.862 145.992 749.862 M145.992 746.159 Q151.802 746.159 154.857 750.765 Q157.936 755.348 157.936 764.098 Q157.936 772.825 154.857 777.432 Q151.802 782.015 145.992 782.015 Q140.181 782.015 137.103 777.432 Q134.047 772.825 134.047 764.098 Q134.047 755.348 137.103 750.765 Q140.181 746.159 145.992 746.159 Z\" fill=\"#000000\" fill-rule=\"evenodd\" fill-opacity=\"1\" /><path clip-path=\"url(#clip180)\" d=\"M101.756 407.954 Q98.1447 407.954 96.316 411.518 Q94.5104 415.06 94.5104 422.19 Q94.5104 429.296 96.316 432.861 Q98.1447 436.402 101.756 436.402 Q105.39 436.402 107.196 432.861 Q109.024 429.296 109.024 422.19 Q109.024 415.06 107.196 411.518 Q105.39 407.954 101.756 407.954 M101.756 404.25 Q107.566 404.25 110.621 408.856 Q113.7 413.44 113.7 422.19 Q113.7 430.916 110.621 435.523 Q107.566 440.106 101.756 440.106 Q95.9456 440.106 92.8669 435.523 Q89.8114 430.916 89.8114 422.19 Q89.8114 413.44 92.8669 408.856 Q95.9456 404.25 101.756 404.25 Z\" fill=\"#000000\" fill-rule=\"evenodd\" fill-opacity=\"1\" /><path clip-path=\"url(#clip180)\" d=\"M121.918 433.555 L126.802 433.555 L126.802 439.435 L121.918 439.435 L121.918 433.555 Z\" fill=\"#000000\" fill-rule=\"evenodd\" fill-opacity=\"1\" /><path clip-path=\"url(#clip180)\" d=\"M137.033 404.875 L155.39 404.875 L155.39 408.81 L141.316 408.81 L141.316 417.282 Q142.334 416.935 143.353 416.773 Q144.371 416.588 145.39 416.588 Q151.177 416.588 154.556 419.759 Q157.936 422.93 157.936 428.347 Q157.936 433.926 154.464 437.027 Q150.992 440.106 144.672 440.106 Q142.496 440.106 140.228 439.736 Q137.982 439.365 135.575 438.625 L135.575 433.926 Q137.658 435.06 139.881 435.615 Q142.103 436.171 144.58 436.171 Q148.584 436.171 150.922 434.065 Q153.26 431.958 153.26 428.347 Q153.26 424.736 150.922 422.629 Q148.584 420.523 144.58 420.523 Q142.705 420.523 140.83 420.94 Q138.978 421.356 137.033 422.236 L137.033 404.875 Z\" fill=\"#000000\" fill-rule=\"evenodd\" fill-opacity=\"1\" /><path clip-path=\"url(#clip180)\" d=\"M91.5706 93.591 L99.2095 93.591 L99.2095 67.2254 L90.8993 68.892 L90.8993 64.6328 L99.1632 62.9661 L103.839 62.9661 L103.839 93.591 L111.478 93.591 L111.478 97.5261 L91.5706 97.5261 L91.5706 93.591 Z\" fill=\"#000000\" fill-rule=\"evenodd\" fill-opacity=\"1\" /><path clip-path=\"url(#clip180)\" d=\"M120.922 91.6465 L125.807 91.6465 L125.807 97.5261 L120.922 97.5261 L120.922 91.6465 Z\" fill=\"#000000\" fill-rule=\"evenodd\" fill-opacity=\"1\" /><path clip-path=\"url(#clip180)\" d=\"M145.992 66.0448 Q142.381 66.0448 140.552 69.6096 Q138.746 73.1512 138.746 80.2808 Q138.746 87.3873 140.552 90.9521 Q142.381 94.4937 145.992 94.4937 Q149.626 94.4937 151.431 90.9521 Q153.26 87.3873 153.26 80.2808 Q153.26 73.1512 151.431 69.6096 Q149.626 66.0448 145.992 66.0448 M145.992 62.3411 Q151.802 62.3411 154.857 66.9476 Q157.936 71.5309 157.936 80.2808 Q157.936 89.0076 154.857 93.6141 Q151.802 98.1974 145.992 98.1974 Q140.181 98.1974 137.103 93.6141 Q134.047 89.0076 134.047 80.2808 Q134.047 71.5309 137.103 66.9476 Q140.181 62.3411 145.992 62.3411 Z\" fill=\"#000000\" fill-rule=\"evenodd\" fill-opacity=\"1\" /><circle clip-path=\"url(#clip182)\" cx=\"255.035\" cy=\"394.595\" r=\"14.4\" fill=\"#009af9\" fill-rule=\"evenodd\" fill-opacity=\"1\" stroke=\"#000000\" stroke-opacity=\"1\" stroke-width=\"3.2\"/>\n<circle clip-path=\"url(#clip182)\" cx=\"481.326\" cy=\"863.559\" r=\"14.4\" fill=\"#009af9\" fill-rule=\"evenodd\" fill-opacity=\"1\" stroke=\"#000000\" stroke-opacity=\"1\" stroke-width=\"3.2\"/>\n<circle clip-path=\"url(#clip182)\" cx=\"707.617\" cy=\"963.833\" r=\"14.4\" fill=\"#009af9\" fill-rule=\"evenodd\" fill-opacity=\"1\" stroke=\"#000000\" stroke-opacity=\"1\" stroke-width=\"3.2\"/>\n<circle clip-path=\"url(#clip182)\" cx=\"933.909\" cy=\"496.105\" r=\"14.4\" fill=\"#009af9\" fill-rule=\"evenodd\" fill-opacity=\"1\" stroke=\"#000000\" stroke-opacity=\"1\" stroke-width=\"3.2\"/>\n<circle clip-path=\"url(#clip182)\" cx=\"1160.2\" cy=\"225.411\" r=\"14.4\" fill=\"#009af9\" fill-rule=\"evenodd\" fill-opacity=\"1\" stroke=\"#000000\" stroke-opacity=\"1\" stroke-width=\"3.2\"/>\n<circle clip-path=\"url(#clip182)\" cx=\"1386.49\" cy=\"1255.03\" r=\"14.4\" fill=\"#009af9\" fill-rule=\"evenodd\" fill-opacity=\"1\" stroke=\"#000000\" stroke-opacity=\"1\" stroke-width=\"3.2\"/>\n<circle clip-path=\"url(#clip182)\" cx=\"1612.78\" cy=\"1341.09\" r=\"14.4\" fill=\"#009af9\" fill-rule=\"evenodd\" fill-opacity=\"1\" stroke=\"#000000\" stroke-opacity=\"1\" stroke-width=\"3.2\"/>\n<circle clip-path=\"url(#clip182)\" cx=\"1839.07\" cy=\"1445.72\" r=\"14.4\" fill=\"#009af9\" fill-rule=\"evenodd\" fill-opacity=\"1\" stroke=\"#000000\" stroke-opacity=\"1\" stroke-width=\"3.2\"/>\n<circle clip-path=\"url(#clip182)\" cx=\"2065.37\" cy=\"87.9763\" r=\"14.4\" fill=\"#009af9\" fill-rule=\"evenodd\" fill-opacity=\"1\" stroke=\"#000000\" stroke-opacity=\"1\" stroke-width=\"3.2\"/>\n<circle clip-path=\"url(#clip182)\" cx=\"2291.66\" cy=\"379.499\" r=\"14.4\" fill=\"#009af9\" fill-rule=\"evenodd\" fill-opacity=\"1\" stroke=\"#000000\" stroke-opacity=\"1\" stroke-width=\"3.2\"/>\n</svg>\n"
     },
     "execution_count": 57,
     "metadata": {},
     "output_type": "execute_result"
    }
   ],
   "source": [
    "x = range(1, 10)\n",
    "y = cos.(x.^3)\n",
    "scatter(x, y, legend=false)"
   ]
  },
  {
   "cell_type": "code",
   "execution_count": 58,
   "metadata": {},
   "outputs": [
    {
     "data": {
      "text/latex": [
       "\\textbf{Uniform Distribtion}\n",
       "\n"
      ],
      "text/markdown": [
       "**Uniform Distribtion**\n"
      ],
      "text/plain": [
       "  \u001b[1mUniform Distribtion\u001b[22m"
      ]
     },
     "execution_count": 58,
     "metadata": {},
     "output_type": "execute_result"
    }
   ],
   "source": [
    "md\"**Uniform Distribtion**\""
   ]
  },
  {
   "cell_type": "code",
   "execution_count": 59,
   "metadata": {},
   "outputs": [],
   "source": [
    "?rand;"
   ]
  },
  {
   "cell_type": "code",
   "execution_count": 60,
   "metadata": {},
   "outputs": [
    {
     "data": {
      "image/svg+xml": "<?xml version=\"1.0\" encoding=\"utf-8\"?>\n<svg xmlns=\"http://www.w3.org/2000/svg\" xmlns:xlink=\"http://www.w3.org/1999/xlink\" width=\"600\" height=\"400\" viewBox=\"0 0 2400 1600\">\n<defs>\n  <clipPath id=\"clip220\">\n    <rect x=\"0\" y=\"0\" width=\"2400\" height=\"1600\"/>\n  </clipPath>\n</defs>\n<path clip-path=\"url(#clip220)\" d=\"M0 1600 L2400 1600 L2400 0 L0 0  Z\" fill=\"#ffffff\" fill-rule=\"evenodd\" fill-opacity=\"1\"/>\n<defs>\n  <clipPath id=\"clip221\">\n    <rect x=\"480\" y=\"0\" width=\"1681\" height=\"1600\"/>\n  </clipPath>\n</defs>\n<path clip-path=\"url(#clip220)\" d=\"M201.019 1486.45 L2352.76 1486.45 L2352.76 47.2441 L201.019 47.2441  Z\" fill=\"#ffffff\" fill-rule=\"evenodd\" fill-opacity=\"1\"/>\n<defs>\n  <clipPath id=\"clip222\">\n    <rect x=\"201\" y=\"47\" width=\"2153\" height=\"1440\"/>\n  </clipPath>\n</defs>\n<polyline clip-path=\"url(#clip222)\" style=\"stroke:#000000; stroke-linecap:round; stroke-linejoin:round; stroke-width:2; stroke-opacity:0.1; fill:none\" points=\"319.369,1486.45 319.369,47.2441 \"/>\n<polyline clip-path=\"url(#clip222)\" style=\"stroke:#000000; stroke-linecap:round; stroke-linejoin:round; stroke-width:2; stroke-opacity:0.1; fill:none\" points=\"798.128,1486.45 798.128,47.2441 \"/>\n<polyline clip-path=\"url(#clip222)\" style=\"stroke:#000000; stroke-linecap:round; stroke-linejoin:round; stroke-width:2; stroke-opacity:0.1; fill:none\" points=\"1276.89,1486.45 1276.89,47.2441 \"/>\n<polyline clip-path=\"url(#clip222)\" style=\"stroke:#000000; stroke-linecap:round; stroke-linejoin:round; stroke-width:2; stroke-opacity:0.1; fill:none\" points=\"1755.65,1486.45 1755.65,47.2441 \"/>\n<polyline clip-path=\"url(#clip222)\" style=\"stroke:#000000; stroke-linecap:round; stroke-linejoin:round; stroke-width:2; stroke-opacity:0.1; fill:none\" points=\"2234.41,1486.45 2234.41,47.2441 \"/>\n<polyline clip-path=\"url(#clip220)\" style=\"stroke:#000000; stroke-linecap:round; stroke-linejoin:round; stroke-width:4; stroke-opacity:1; fill:none\" points=\"201.019,1486.45 2352.76,1486.45 \"/>\n<polyline clip-path=\"url(#clip220)\" style=\"stroke:#000000; stroke-linecap:round; stroke-linejoin:round; stroke-width:4; stroke-opacity:1; fill:none\" points=\"319.369,1486.45 319.369,1467.55 \"/>\n<polyline clip-path=\"url(#clip220)\" style=\"stroke:#000000; stroke-linecap:round; stroke-linejoin:round; stroke-width:4; stroke-opacity:1; fill:none\" points=\"798.128,1486.45 798.128,1467.55 \"/>\n<polyline clip-path=\"url(#clip220)\" style=\"stroke:#000000; stroke-linecap:round; stroke-linejoin:round; stroke-width:4; stroke-opacity:1; fill:none\" points=\"1276.89,1486.45 1276.89,1467.55 \"/>\n<polyline clip-path=\"url(#clip220)\" style=\"stroke:#000000; stroke-linecap:round; stroke-linejoin:round; stroke-width:4; stroke-opacity:1; fill:none\" points=\"1755.65,1486.45 1755.65,1467.55 \"/>\n<polyline clip-path=\"url(#clip220)\" style=\"stroke:#000000; stroke-linecap:round; stroke-linejoin:round; stroke-width:4; stroke-opacity:1; fill:none\" points=\"2234.41,1486.45 2234.41,1467.55 \"/>\n<path clip-path=\"url(#clip220)\" d=\"M281.672 1517.37 Q278.061 1517.37 276.232 1520.93 Q274.427 1524.47 274.427 1531.6 Q274.427 1538.71 276.232 1542.27 Q278.061 1545.82 281.672 1545.82 Q285.306 1545.82 287.112 1542.27 Q288.941 1538.71 288.941 1531.6 Q288.941 1524.47 287.112 1520.93 Q285.306 1517.37 281.672 1517.37 M281.672 1513.66 Q287.482 1513.66 290.538 1518.27 Q293.616 1522.85 293.616 1531.6 Q293.616 1540.33 290.538 1544.94 Q287.482 1549.52 281.672 1549.52 Q275.862 1549.52 272.783 1544.94 Q269.728 1540.33 269.728 1531.6 Q269.728 1522.85 272.783 1518.27 Q275.862 1513.66 281.672 1513.66 Z\" fill=\"#000000\" fill-rule=\"evenodd\" fill-opacity=\"1\" /><path clip-path=\"url(#clip220)\" d=\"M301.834 1542.97 L306.718 1542.97 L306.718 1548.85 L301.834 1548.85 L301.834 1542.97 Z\" fill=\"#000000\" fill-rule=\"evenodd\" fill-opacity=\"1\" /><path clip-path=\"url(#clip220)\" d=\"M326.903 1517.37 Q323.292 1517.37 321.464 1520.93 Q319.658 1524.47 319.658 1531.6 Q319.658 1538.71 321.464 1542.27 Q323.292 1545.82 326.903 1545.82 Q330.538 1545.82 332.343 1542.27 Q334.172 1538.71 334.172 1531.6 Q334.172 1524.47 332.343 1520.93 Q330.538 1517.37 326.903 1517.37 M326.903 1513.66 Q332.713 1513.66 335.769 1518.27 Q338.848 1522.85 338.848 1531.6 Q338.848 1540.33 335.769 1544.94 Q332.713 1549.52 326.903 1549.52 Q321.093 1549.52 318.014 1544.94 Q314.959 1540.33 314.959 1531.6 Q314.959 1522.85 318.014 1518.27 Q321.093 1513.66 326.903 1513.66 Z\" fill=\"#000000\" fill-rule=\"evenodd\" fill-opacity=\"1\" /><path clip-path=\"url(#clip220)\" d=\"M357.065 1517.37 Q353.454 1517.37 351.625 1520.93 Q349.82 1524.47 349.82 1531.6 Q349.82 1538.71 351.625 1542.27 Q353.454 1545.82 357.065 1545.82 Q360.699 1545.82 362.505 1542.27 Q364.334 1538.71 364.334 1531.6 Q364.334 1524.47 362.505 1520.93 Q360.699 1517.37 357.065 1517.37 M357.065 1513.66 Q362.875 1513.66 365.931 1518.27 Q369.01 1522.85 369.01 1531.6 Q369.01 1540.33 365.931 1544.94 Q362.875 1549.52 357.065 1549.52 Q351.255 1549.52 348.176 1544.94 Q345.121 1540.33 345.121 1531.6 Q345.121 1522.85 348.176 1518.27 Q351.255 1513.66 357.065 1513.66 Z\" fill=\"#000000\" fill-rule=\"evenodd\" fill-opacity=\"1\" /><path clip-path=\"url(#clip220)\" d=\"M760.929 1517.37 Q757.318 1517.37 755.489 1520.93 Q753.684 1524.47 753.684 1531.6 Q753.684 1538.71 755.489 1542.27 Q757.318 1545.82 760.929 1545.82 Q764.563 1545.82 766.369 1542.27 Q768.198 1538.71 768.198 1531.6 Q768.198 1524.47 766.369 1520.93 Q764.563 1517.37 760.929 1517.37 M760.929 1513.66 Q766.739 1513.66 769.795 1518.27 Q772.874 1522.85 772.874 1531.6 Q772.874 1540.33 769.795 1544.94 Q766.739 1549.52 760.929 1549.52 Q755.119 1549.52 752.04 1544.94 Q748.985 1540.33 748.985 1531.6 Q748.985 1522.85 752.04 1518.27 Q755.119 1513.66 760.929 1513.66 Z\" fill=\"#000000\" fill-rule=\"evenodd\" fill-opacity=\"1\" /><path clip-path=\"url(#clip220)\" d=\"M781.091 1542.97 L785.975 1542.97 L785.975 1548.85 L781.091 1548.85 L781.091 1542.97 Z\" fill=\"#000000\" fill-rule=\"evenodd\" fill-opacity=\"1\" /><path clip-path=\"url(#clip220)\" d=\"M800.188 1544.91 L816.508 1544.91 L816.508 1548.85 L794.563 1548.85 L794.563 1544.91 Q797.225 1542.16 801.809 1537.53 Q806.415 1532.88 807.596 1531.53 Q809.841 1529.01 810.721 1527.27 Q811.623 1525.51 811.623 1523.82 Q811.623 1521.07 809.679 1519.33 Q807.758 1517.6 804.656 1517.6 Q802.457 1517.6 800.003 1518.36 Q797.573 1519.13 794.795 1520.68 L794.795 1515.95 Q797.619 1514.82 800.073 1514.24 Q802.526 1513.66 804.563 1513.66 Q809.934 1513.66 813.128 1516.35 Q816.322 1519.03 816.322 1523.52 Q816.322 1525.65 815.512 1527.57 Q814.725 1529.47 812.619 1532.07 Q812.04 1532.74 808.938 1535.95 Q805.836 1539.15 800.188 1544.91 Z\" fill=\"#000000\" fill-rule=\"evenodd\" fill-opacity=\"1\" /><path clip-path=\"url(#clip220)\" d=\"M826.369 1514.29 L844.725 1514.29 L844.725 1518.22 L830.651 1518.22 L830.651 1526.7 Q831.67 1526.35 832.688 1526.19 Q833.707 1526 834.725 1526 Q840.512 1526 843.892 1529.17 Q847.271 1532.34 847.271 1537.76 Q847.271 1543.34 843.799 1546.44 Q840.327 1549.52 834.008 1549.52 Q831.832 1549.52 829.563 1549.15 Q827.318 1548.78 824.91 1548.04 L824.91 1543.34 Q826.994 1544.47 829.216 1545.03 Q831.438 1545.58 833.915 1545.58 Q837.92 1545.58 840.258 1543.48 Q842.595 1541.37 842.595 1537.76 Q842.595 1534.15 840.258 1532.04 Q837.92 1529.94 833.915 1529.94 Q832.04 1529.94 830.165 1530.35 Q828.313 1530.77 826.369 1531.65 L826.369 1514.29 Z\" fill=\"#000000\" fill-rule=\"evenodd\" fill-opacity=\"1\" /><path clip-path=\"url(#clip220)\" d=\"M1239.19 1517.37 Q1235.58 1517.37 1233.75 1520.93 Q1231.95 1524.47 1231.95 1531.6 Q1231.95 1538.71 1233.75 1542.27 Q1235.58 1545.82 1239.19 1545.82 Q1242.83 1545.82 1244.63 1542.27 Q1246.46 1538.71 1246.46 1531.6 Q1246.46 1524.47 1244.63 1520.93 Q1242.83 1517.37 1239.19 1517.37 M1239.19 1513.66 Q1245 1513.66 1248.06 1518.27 Q1251.14 1522.85 1251.14 1531.6 Q1251.14 1540.33 1248.06 1544.94 Q1245 1549.52 1239.19 1549.52 Q1233.38 1549.52 1230.3 1544.94 Q1227.25 1540.33 1227.25 1531.6 Q1227.25 1522.85 1230.3 1518.27 Q1233.38 1513.66 1239.19 1513.66 Z\" fill=\"#000000\" fill-rule=\"evenodd\" fill-opacity=\"1\" /><path clip-path=\"url(#clip220)\" d=\"M1259.35 1542.97 L1264.24 1542.97 L1264.24 1548.85 L1259.35 1548.85 L1259.35 1542.97 Z\" fill=\"#000000\" fill-rule=\"evenodd\" fill-opacity=\"1\" /><path clip-path=\"url(#clip220)\" d=\"M1274.47 1514.29 L1292.83 1514.29 L1292.83 1518.22 L1278.75 1518.22 L1278.75 1526.7 Q1279.77 1526.35 1280.79 1526.19 Q1281.81 1526 1282.83 1526 Q1288.61 1526 1291.99 1529.17 Q1295.37 1532.34 1295.37 1537.76 Q1295.37 1543.34 1291.9 1546.44 Q1288.43 1549.52 1282.11 1549.52 Q1279.93 1549.52 1277.66 1549.15 Q1275.42 1548.78 1273.01 1548.04 L1273.01 1543.34 Q1275.09 1544.47 1277.32 1545.03 Q1279.54 1545.58 1282.01 1545.58 Q1286.02 1545.58 1288.36 1543.48 Q1290.7 1541.37 1290.7 1537.76 Q1290.7 1534.15 1288.36 1532.04 Q1286.02 1529.94 1282.01 1529.94 Q1280.14 1529.94 1278.26 1530.35 Q1276.41 1530.77 1274.47 1531.65 L1274.47 1514.29 Z\" fill=\"#000000\" fill-rule=\"evenodd\" fill-opacity=\"1\" /><path clip-path=\"url(#clip220)\" d=\"M1314.58 1517.37 Q1310.97 1517.37 1309.14 1520.93 Q1307.34 1524.47 1307.34 1531.6 Q1307.34 1538.71 1309.14 1542.27 Q1310.97 1545.82 1314.58 1545.82 Q1318.22 1545.82 1320.02 1542.27 Q1321.85 1538.71 1321.85 1531.6 Q1321.85 1524.47 1320.02 1520.93 Q1318.22 1517.37 1314.58 1517.37 M1314.58 1513.66 Q1320.39 1513.66 1323.45 1518.27 Q1326.53 1522.85 1326.53 1531.6 Q1326.53 1540.33 1323.45 1544.94 Q1320.39 1549.52 1314.58 1549.52 Q1308.77 1549.52 1305.7 1544.94 Q1302.64 1540.33 1302.64 1531.6 Q1302.64 1522.85 1305.7 1518.27 Q1308.77 1513.66 1314.58 1513.66 Z\" fill=\"#000000\" fill-rule=\"evenodd\" fill-opacity=\"1\" /><path clip-path=\"url(#clip220)\" d=\"M1718.45 1517.37 Q1714.84 1517.37 1713.01 1520.93 Q1711.2 1524.47 1711.2 1531.6 Q1711.2 1538.71 1713.01 1542.27 Q1714.84 1545.82 1718.45 1545.82 Q1722.08 1545.82 1723.89 1542.27 Q1725.72 1538.71 1725.72 1531.6 Q1725.72 1524.47 1723.89 1520.93 Q1722.08 1517.37 1718.45 1517.37 M1718.45 1513.66 Q1724.26 1513.66 1727.31 1518.27 Q1730.39 1522.85 1730.39 1531.6 Q1730.39 1540.33 1727.31 1544.94 Q1724.26 1549.52 1718.45 1549.52 Q1712.64 1549.52 1709.56 1544.94 Q1706.5 1540.33 1706.5 1531.6 Q1706.5 1522.85 1709.56 1518.27 Q1712.64 1513.66 1718.45 1513.66 Z\" fill=\"#000000\" fill-rule=\"evenodd\" fill-opacity=\"1\" /><path clip-path=\"url(#clip220)\" d=\"M1738.61 1542.97 L1743.49 1542.97 L1743.49 1548.85 L1738.61 1548.85 L1738.61 1542.97 Z\" fill=\"#000000\" fill-rule=\"evenodd\" fill-opacity=\"1\" /><path clip-path=\"url(#clip220)\" d=\"M1752.5 1514.29 L1774.72 1514.29 L1774.72 1516.28 L1762.17 1548.85 L1757.29 1548.85 L1769.1 1518.22 L1752.5 1518.22 L1752.5 1514.29 Z\" fill=\"#000000\" fill-rule=\"evenodd\" fill-opacity=\"1\" /><path clip-path=\"url(#clip220)\" d=\"M1783.89 1514.29 L1802.24 1514.29 L1802.24 1518.22 L1788.17 1518.22 L1788.17 1526.7 Q1789.19 1526.35 1790.21 1526.19 Q1791.23 1526 1792.24 1526 Q1798.03 1526 1801.41 1529.17 Q1804.79 1532.34 1804.79 1537.76 Q1804.79 1543.34 1801.32 1546.44 Q1797.85 1549.52 1791.53 1549.52 Q1789.35 1549.52 1787.08 1549.15 Q1784.84 1548.78 1782.43 1548.04 L1782.43 1543.34 Q1784.51 1544.47 1786.73 1545.03 Q1788.96 1545.58 1791.43 1545.58 Q1795.44 1545.58 1797.78 1543.48 Q1800.11 1541.37 1800.11 1537.76 Q1800.11 1534.15 1797.78 1532.04 Q1795.44 1529.94 1791.43 1529.94 Q1789.56 1529.94 1787.68 1530.35 Q1785.83 1530.77 1783.89 1531.65 L1783.89 1514.29 Z\" fill=\"#000000\" fill-rule=\"evenodd\" fill-opacity=\"1\" /><path clip-path=\"url(#clip220)\" d=\"M2186.48 1544.91 L2194.12 1544.91 L2194.12 1518.55 L2185.81 1520.21 L2185.81 1515.95 L2194.07 1514.29 L2198.75 1514.29 L2198.75 1544.91 L2206.39 1544.91 L2206.39 1548.85 L2186.48 1548.85 L2186.48 1544.91 Z\" fill=\"#000000\" fill-rule=\"evenodd\" fill-opacity=\"1\" /><path clip-path=\"url(#clip220)\" d=\"M2215.83 1542.97 L2220.71 1542.97 L2220.71 1548.85 L2215.83 1548.85 L2215.83 1542.97 Z\" fill=\"#000000\" fill-rule=\"evenodd\" fill-opacity=\"1\" /><path clip-path=\"url(#clip220)\" d=\"M2240.9 1517.37 Q2237.29 1517.37 2235.46 1520.93 Q2233.65 1524.47 2233.65 1531.6 Q2233.65 1538.71 2235.46 1542.27 Q2237.29 1545.82 2240.9 1545.82 Q2244.53 1545.82 2246.34 1542.27 Q2248.17 1538.71 2248.17 1531.6 Q2248.17 1524.47 2246.34 1520.93 Q2244.53 1517.37 2240.9 1517.37 M2240.9 1513.66 Q2246.71 1513.66 2249.77 1518.27 Q2252.84 1522.85 2252.84 1531.6 Q2252.84 1540.33 2249.77 1544.94 Q2246.71 1549.52 2240.9 1549.52 Q2235.09 1549.52 2232.01 1544.94 Q2228.96 1540.33 2228.96 1531.6 Q2228.96 1522.85 2232.01 1518.27 Q2235.09 1513.66 2240.9 1513.66 Z\" fill=\"#000000\" fill-rule=\"evenodd\" fill-opacity=\"1\" /><path clip-path=\"url(#clip220)\" d=\"M2271.06 1517.37 Q2267.45 1517.37 2265.62 1520.93 Q2263.82 1524.47 2263.82 1531.6 Q2263.82 1538.71 2265.62 1542.27 Q2267.45 1545.82 2271.06 1545.82 Q2274.7 1545.82 2276.5 1542.27 Q2278.33 1538.71 2278.33 1531.6 Q2278.33 1524.47 2276.5 1520.93 Q2274.7 1517.37 2271.06 1517.37 M2271.06 1513.66 Q2276.87 1513.66 2279.93 1518.27 Q2283.01 1522.85 2283.01 1531.6 Q2283.01 1540.33 2279.93 1544.94 Q2276.87 1549.52 2271.06 1549.52 Q2265.25 1549.52 2262.17 1544.94 Q2259.12 1540.33 2259.12 1531.6 Q2259.12 1522.85 2262.17 1518.27 Q2265.25 1513.66 2271.06 1513.66 Z\" fill=\"#000000\" fill-rule=\"evenodd\" fill-opacity=\"1\" /><polyline clip-path=\"url(#clip222)\" style=\"stroke:#000000; stroke-linecap:round; stroke-linejoin:round; stroke-width:2; stroke-opacity:0.1; fill:none\" points=\"201.019,1445.72 2352.76,1445.72 \"/>\n<polyline clip-path=\"url(#clip222)\" style=\"stroke:#000000; stroke-linecap:round; stroke-linejoin:round; stroke-width:2; stroke-opacity:0.1; fill:none\" points=\"201.019,1122.6 2352.76,1122.6 \"/>\n<polyline clip-path=\"url(#clip222)\" style=\"stroke:#000000; stroke-linecap:round; stroke-linejoin:round; stroke-width:2; stroke-opacity:0.1; fill:none\" points=\"201.019,799.481 2352.76,799.481 \"/>\n<polyline clip-path=\"url(#clip222)\" style=\"stroke:#000000; stroke-linecap:round; stroke-linejoin:round; stroke-width:2; stroke-opacity:0.1; fill:none\" points=\"201.019,476.363 2352.76,476.363 \"/>\n<polyline clip-path=\"url(#clip222)\" style=\"stroke:#000000; stroke-linecap:round; stroke-linejoin:round; stroke-width:2; stroke-opacity:0.1; fill:none\" points=\"201.019,153.246 2352.76,153.246 \"/>\n<polyline clip-path=\"url(#clip220)\" style=\"stroke:#000000; stroke-linecap:round; stroke-linejoin:round; stroke-width:4; stroke-opacity:1; fill:none\" points=\"201.019,1486.45 201.019,47.2441 \"/>\n<polyline clip-path=\"url(#clip220)\" style=\"stroke:#000000; stroke-linecap:round; stroke-linejoin:round; stroke-width:4; stroke-opacity:1; fill:none\" points=\"201.019,1445.72 219.917,1445.72 \"/>\n<polyline clip-path=\"url(#clip220)\" style=\"stroke:#000000; stroke-linecap:round; stroke-linejoin:round; stroke-width:4; stroke-opacity:1; fill:none\" points=\"201.019,1122.6 219.917,1122.6 \"/>\n<polyline clip-path=\"url(#clip220)\" style=\"stroke:#000000; stroke-linecap:round; stroke-linejoin:round; stroke-width:4; stroke-opacity:1; fill:none\" points=\"201.019,799.481 219.917,799.481 \"/>\n<polyline clip-path=\"url(#clip220)\" style=\"stroke:#000000; stroke-linecap:round; stroke-linejoin:round; stroke-width:4; stroke-opacity:1; fill:none\" points=\"201.019,476.363 219.917,476.363 \"/>\n<polyline clip-path=\"url(#clip220)\" style=\"stroke:#000000; stroke-linecap:round; stroke-linejoin:round; stroke-width:4; stroke-opacity:1; fill:none\" points=\"201.019,153.246 219.917,153.246 \"/>\n<path clip-path=\"url(#clip220)\" d=\"M153.075 1431.51 Q149.464 1431.51 147.635 1435.08 Q145.83 1438.62 145.83 1445.75 Q145.83 1452.86 147.635 1456.42 Q149.464 1459.96 153.075 1459.96 Q156.709 1459.96 158.515 1456.42 Q160.343 1452.86 160.343 1445.75 Q160.343 1438.62 158.515 1435.08 Q156.709 1431.51 153.075 1431.51 M153.075 1427.81 Q158.885 1427.81 161.941 1432.42 Q165.019 1437 165.019 1445.75 Q165.019 1454.48 161.941 1459.08 Q158.885 1463.67 153.075 1463.67 Q147.265 1463.67 144.186 1459.08 Q141.131 1454.48 141.131 1445.75 Q141.131 1437 144.186 1432.42 Q147.265 1427.81 153.075 1427.81 Z\" fill=\"#000000\" fill-rule=\"evenodd\" fill-opacity=\"1\" /><path clip-path=\"url(#clip220)\" d=\"M82.7975 1105.32 L101.154 1105.32 L101.154 1109.25 L87.0799 1109.25 L87.0799 1117.73 Q88.0984 1117.38 89.1169 1117.22 Q90.1354 1117.03 91.1539 1117.03 Q96.941 1117.03 100.321 1120.2 Q103.7 1123.37 103.7 1128.79 Q103.7 1134.37 100.228 1137.47 Q96.7558 1140.55 90.4364 1140.55 Q88.2604 1140.55 85.9919 1140.18 Q83.7466 1139.81 81.3392 1139.07 L81.3392 1134.37 Q83.4225 1135.5 85.6447 1136.06 Q87.8669 1136.61 90.3438 1136.61 Q94.3484 1136.61 96.6863 1134.51 Q99.0243 1132.4 99.0243 1128.79 Q99.0243 1125.18 96.6863 1123.07 Q94.3484 1120.97 90.3438 1120.97 Q88.4688 1120.97 86.5938 1121.38 Q84.7419 1121.8 82.7975 1122.68 L82.7975 1105.32 Z\" fill=\"#000000\" fill-rule=\"evenodd\" fill-opacity=\"1\" /><path clip-path=\"url(#clip220)\" d=\"M122.913 1108.4 Q119.302 1108.4 117.473 1111.96 Q115.668 1115.5 115.668 1122.63 Q115.668 1129.74 117.473 1133.3 Q119.302 1136.85 122.913 1136.85 Q126.547 1136.85 128.353 1133.3 Q130.182 1129.74 130.182 1122.63 Q130.182 1115.5 128.353 1111.96 Q126.547 1108.4 122.913 1108.4 M122.913 1104.69 Q128.723 1104.69 131.779 1109.3 Q134.857 1113.88 134.857 1122.63 Q134.857 1131.36 131.779 1135.97 Q128.723 1140.55 122.913 1140.55 Q117.103 1140.55 114.024 1135.97 Q110.969 1131.36 110.969 1122.63 Q110.969 1113.88 114.024 1109.3 Q117.103 1104.69 122.913 1104.69 Z\" fill=\"#000000\" fill-rule=\"evenodd\" fill-opacity=\"1\" /><path clip-path=\"url(#clip220)\" d=\"M153.075 1108.4 Q149.464 1108.4 147.635 1111.96 Q145.83 1115.5 145.83 1122.63 Q145.83 1129.74 147.635 1133.3 Q149.464 1136.85 153.075 1136.85 Q156.709 1136.85 158.515 1133.3 Q160.343 1129.74 160.343 1122.63 Q160.343 1115.5 158.515 1111.96 Q156.709 1108.4 153.075 1108.4 M153.075 1104.69 Q158.885 1104.69 161.941 1109.3 Q165.019 1113.88 165.019 1122.63 Q165.019 1131.36 161.941 1135.97 Q158.885 1140.55 153.075 1140.55 Q147.265 1140.55 144.186 1135.97 Q141.131 1131.36 141.131 1122.63 Q141.131 1113.88 144.186 1109.3 Q147.265 1104.69 153.075 1104.69 Z\" fill=\"#000000\" fill-rule=\"evenodd\" fill-opacity=\"1\" /><path clip-path=\"url(#clip220)\" d=\"M53.3995 812.826 L61.0384 812.826 L61.0384 786.46 L52.7282 788.127 L52.7282 783.868 L60.9921 782.201 L65.668 782.201 L65.668 812.826 L73.3068 812.826 L73.3068 816.761 L53.3995 816.761 L53.3995 812.826 Z\" fill=\"#000000\" fill-rule=\"evenodd\" fill-opacity=\"1\" /><path clip-path=\"url(#clip220)\" d=\"M92.7512 785.28 Q89.1401 785.28 87.3114 788.844 Q85.5058 792.386 85.5058 799.516 Q85.5058 806.622 87.3114 810.187 Q89.1401 813.728 92.7512 813.728 Q96.3854 813.728 98.1909 810.187 Q100.02 806.622 100.02 799.516 Q100.02 792.386 98.1909 788.844 Q96.3854 785.28 92.7512 785.28 M92.7512 781.576 Q98.5613 781.576 101.617 786.182 Q104.696 790.766 104.696 799.516 Q104.696 808.242 101.617 812.849 Q98.5613 817.432 92.7512 817.432 Q86.941 817.432 83.8623 812.849 Q80.8068 808.242 80.8068 799.516 Q80.8068 790.766 83.8623 786.182 Q86.941 781.576 92.7512 781.576 Z\" fill=\"#000000\" fill-rule=\"evenodd\" fill-opacity=\"1\" /><path clip-path=\"url(#clip220)\" d=\"M122.913 785.28 Q119.302 785.28 117.473 788.844 Q115.668 792.386 115.668 799.516 Q115.668 806.622 117.473 810.187 Q119.302 813.728 122.913 813.728 Q126.547 813.728 128.353 810.187 Q130.182 806.622 130.182 799.516 Q130.182 792.386 128.353 788.844 Q126.547 785.28 122.913 785.28 M122.913 781.576 Q128.723 781.576 131.779 786.182 Q134.857 790.766 134.857 799.516 Q134.857 808.242 131.779 812.849 Q128.723 817.432 122.913 817.432 Q117.103 817.432 114.024 812.849 Q110.969 808.242 110.969 799.516 Q110.969 790.766 114.024 786.182 Q117.103 781.576 122.913 781.576 Z\" fill=\"#000000\" fill-rule=\"evenodd\" fill-opacity=\"1\" /><path clip-path=\"url(#clip220)\" d=\"M153.075 785.28 Q149.464 785.28 147.635 788.844 Q145.83 792.386 145.83 799.516 Q145.83 806.622 147.635 810.187 Q149.464 813.728 153.075 813.728 Q156.709 813.728 158.515 810.187 Q160.343 806.622 160.343 799.516 Q160.343 792.386 158.515 788.844 Q156.709 785.28 153.075 785.28 M153.075 781.576 Q158.885 781.576 161.941 786.182 Q165.019 790.766 165.019 799.516 Q165.019 808.242 161.941 812.849 Q158.885 817.432 153.075 817.432 Q147.265 817.432 144.186 812.849 Q141.131 808.242 141.131 799.516 Q141.131 790.766 144.186 786.182 Q147.265 781.576 153.075 781.576 Z\" fill=\"#000000\" fill-rule=\"evenodd\" fill-opacity=\"1\" /><path clip-path=\"url(#clip220)\" d=\"M53.3995 489.708 L61.0384 489.708 L61.0384 463.343 L52.7282 465.009 L52.7282 460.75 L60.9921 459.083 L65.668 459.083 L65.668 489.708 L73.3068 489.708 L73.3068 493.643 L53.3995 493.643 L53.3995 489.708 Z\" fill=\"#000000\" fill-rule=\"evenodd\" fill-opacity=\"1\" /><path clip-path=\"url(#clip220)\" d=\"M82.7975 459.083 L101.154 459.083 L101.154 463.019 L87.0799 463.019 L87.0799 471.491 Q88.0984 471.144 89.1169 470.982 Q90.1354 470.796 91.1539 470.796 Q96.941 470.796 100.321 473.968 Q103.7 477.139 103.7 482.556 Q103.7 488.134 100.228 491.236 Q96.7558 494.315 90.4364 494.315 Q88.2604 494.315 85.9919 493.944 Q83.7466 493.574 81.3392 492.833 L81.3392 488.134 Q83.4225 489.268 85.6447 489.824 Q87.8669 490.38 90.3438 490.38 Q94.3484 490.38 96.6863 488.273 Q99.0243 486.167 99.0243 482.556 Q99.0243 478.944 96.6863 476.838 Q94.3484 474.731 90.3438 474.731 Q88.4688 474.731 86.5938 475.148 Q84.7419 475.565 82.7975 476.444 L82.7975 459.083 Z\" fill=\"#000000\" fill-rule=\"evenodd\" fill-opacity=\"1\" /><path clip-path=\"url(#clip220)\" d=\"M122.913 462.162 Q119.302 462.162 117.473 465.727 Q115.668 469.269 115.668 476.398 Q115.668 483.505 117.473 487.069 Q119.302 490.611 122.913 490.611 Q126.547 490.611 128.353 487.069 Q130.182 483.505 130.182 476.398 Q130.182 469.269 128.353 465.727 Q126.547 462.162 122.913 462.162 M122.913 458.458 Q128.723 458.458 131.779 463.065 Q134.857 467.648 134.857 476.398 Q134.857 485.125 131.779 489.731 Q128.723 494.315 122.913 494.315 Q117.103 494.315 114.024 489.731 Q110.969 485.125 110.969 476.398 Q110.969 467.648 114.024 463.065 Q117.103 458.458 122.913 458.458 Z\" fill=\"#000000\" fill-rule=\"evenodd\" fill-opacity=\"1\" /><path clip-path=\"url(#clip220)\" d=\"M153.075 462.162 Q149.464 462.162 147.635 465.727 Q145.83 469.269 145.83 476.398 Q145.83 483.505 147.635 487.069 Q149.464 490.611 153.075 490.611 Q156.709 490.611 158.515 487.069 Q160.343 483.505 160.343 476.398 Q160.343 469.269 158.515 465.727 Q156.709 462.162 153.075 462.162 M153.075 458.458 Q158.885 458.458 161.941 463.065 Q165.019 467.648 165.019 476.398 Q165.019 485.125 161.941 489.731 Q158.885 494.315 153.075 494.315 Q147.265 494.315 144.186 489.731 Q141.131 485.125 141.131 476.398 Q141.131 467.648 144.186 463.065 Q147.265 458.458 153.075 458.458 Z\" fill=\"#000000\" fill-rule=\"evenodd\" fill-opacity=\"1\" /><path clip-path=\"url(#clip220)\" d=\"M56.6171 166.591 L72.9365 166.591 L72.9365 170.526 L50.9921 170.526 L50.9921 166.591 Q53.6541 163.836 58.2375 159.207 Q62.8439 154.554 64.0245 153.211 Q66.2698 150.688 67.1494 148.952 Q68.0522 147.193 68.0522 145.503 Q68.0522 142.748 66.1078 141.012 Q64.1865 139.276 61.0847 139.276 Q58.8856 139.276 56.4319 140.04 Q54.0014 140.804 51.2236 142.355 L51.2236 137.633 Q54.0477 136.498 56.5014 135.92 Q58.955 135.341 60.9921 135.341 Q66.3624 135.341 69.5568 138.026 Q72.7513 140.711 72.7513 145.202 Q72.7513 147.332 71.9411 149.253 Q71.1541 151.151 69.0476 153.744 Q68.4689 154.415 65.367 157.633 Q62.2652 160.827 56.6171 166.591 Z\" fill=\"#000000\" fill-rule=\"evenodd\" fill-opacity=\"1\" /><path clip-path=\"url(#clip220)\" d=\"M92.7512 139.045 Q89.1401 139.045 87.3114 142.609 Q85.5058 146.151 85.5058 153.281 Q85.5058 160.387 87.3114 163.952 Q89.1401 167.494 92.7512 167.494 Q96.3854 167.494 98.1909 163.952 Q100.02 160.387 100.02 153.281 Q100.02 146.151 98.1909 142.609 Q96.3854 139.045 92.7512 139.045 M92.7512 135.341 Q98.5613 135.341 101.617 139.947 Q104.696 144.531 104.696 153.281 Q104.696 162.008 101.617 166.614 Q98.5613 171.197 92.7512 171.197 Q86.941 171.197 83.8623 166.614 Q80.8068 162.008 80.8068 153.281 Q80.8068 144.531 83.8623 139.947 Q86.941 135.341 92.7512 135.341 Z\" fill=\"#000000\" fill-rule=\"evenodd\" fill-opacity=\"1\" /><path clip-path=\"url(#clip220)\" d=\"M122.913 139.045 Q119.302 139.045 117.473 142.609 Q115.668 146.151 115.668 153.281 Q115.668 160.387 117.473 163.952 Q119.302 167.494 122.913 167.494 Q126.547 167.494 128.353 163.952 Q130.182 160.387 130.182 153.281 Q130.182 146.151 128.353 142.609 Q126.547 139.045 122.913 139.045 M122.913 135.341 Q128.723 135.341 131.779 139.947 Q134.857 144.531 134.857 153.281 Q134.857 162.008 131.779 166.614 Q128.723 171.197 122.913 171.197 Q117.103 171.197 114.024 166.614 Q110.969 162.008 110.969 153.281 Q110.969 144.531 114.024 139.947 Q117.103 135.341 122.913 135.341 Z\" fill=\"#000000\" fill-rule=\"evenodd\" fill-opacity=\"1\" /><path clip-path=\"url(#clip220)\" d=\"M153.075 139.045 Q149.464 139.045 147.635 142.609 Q145.83 146.151 145.83 153.281 Q145.83 160.387 147.635 163.952 Q149.464 167.494 153.075 167.494 Q156.709 167.494 158.515 163.952 Q160.343 160.387 160.343 153.281 Q160.343 146.151 158.515 142.609 Q156.709 139.045 153.075 139.045 M153.075 135.341 Q158.885 135.341 161.941 139.947 Q165.019 144.531 165.019 153.281 Q165.019 162.008 161.941 166.614 Q158.885 171.197 153.075 171.197 Q147.265 171.197 144.186 166.614 Q141.131 162.008 141.131 153.281 Q141.131 144.531 144.186 139.947 Q147.265 135.341 153.075 135.341 Z\" fill=\"#000000\" fill-rule=\"evenodd\" fill-opacity=\"1\" /><path clip-path=\"url(#clip222)\" d=\"M319.369 199.775 L319.369 1445.72 L357.669 1445.72 L357.669 199.775 L319.369 199.775 L319.369 199.775  Z\" fill=\"#009af9\" fill-rule=\"evenodd\" fill-opacity=\"1\"/>\n<polyline clip-path=\"url(#clip222)\" style=\"stroke:#000000; stroke-linecap:round; stroke-linejoin:round; stroke-width:4; stroke-opacity:1; fill:none\" points=\"319.369,199.775 319.369,1445.72 357.669,1445.72 357.669,199.775 319.369,199.775 \"/>\n<path clip-path=\"url(#clip222)\" d=\"M357.669 167.463 L357.669 1445.72 L395.97 1445.72 L395.97 167.463 L357.669 167.463 L357.669 167.463  Z\" fill=\"#009af9\" fill-rule=\"evenodd\" fill-opacity=\"1\"/>\n<polyline clip-path=\"url(#clip222)\" style=\"stroke:#000000; stroke-linecap:round; stroke-linejoin:round; stroke-width:4; stroke-opacity:1; fill:none\" points=\"357.669,167.463 357.669,1445.72 395.97,1445.72 395.97,167.463 357.669,167.463 \"/>\n<path clip-path=\"url(#clip222)\" d=\"M395.97 122.227 L395.97 1445.72 L434.271 1445.72 L434.271 122.227 L395.97 122.227 L395.97 122.227  Z\" fill=\"#009af9\" fill-rule=\"evenodd\" fill-opacity=\"1\"/>\n<polyline clip-path=\"url(#clip222)\" style=\"stroke:#000000; stroke-linecap:round; stroke-linejoin:round; stroke-width:4; stroke-opacity:1; fill:none\" points=\"395.97,122.227 395.97,1445.72 434.271,1445.72 434.271,122.227 395.97,122.227 \"/>\n<path clip-path=\"url(#clip222)\" d=\"M434.271 120.288 L434.271 1445.72 L472.572 1445.72 L472.572 120.288 L434.271 120.288 L434.271 120.288  Z\" fill=\"#009af9\" fill-rule=\"evenodd\" fill-opacity=\"1\"/>\n<polyline clip-path=\"url(#clip222)\" style=\"stroke:#000000; stroke-linecap:round; stroke-linejoin:round; stroke-width:4; stroke-opacity:1; fill:none\" points=\"434.271,120.288 434.271,1445.72 472.572,1445.72 472.572,120.288 434.271,120.288 \"/>\n<path clip-path=\"url(#clip222)\" d=\"M472.572 195.897 L472.572 1445.72 L510.872 1445.72 L510.872 195.897 L472.572 195.897 L472.572 195.897  Z\" fill=\"#009af9\" fill-rule=\"evenodd\" fill-opacity=\"1\"/>\n<polyline clip-path=\"url(#clip222)\" style=\"stroke:#000000; stroke-linecap:round; stroke-linejoin:round; stroke-width:4; stroke-opacity:1; fill:none\" points=\"472.572,195.897 472.572,1445.72 510.872,1445.72 510.872,195.897 472.572,195.897 \"/>\n<path clip-path=\"url(#clip222)\" d=\"M510.872 157.123 L510.872 1445.72 L549.173 1445.72 L549.173 157.123 L510.872 157.123 L510.872 157.123  Z\" fill=\"#009af9\" fill-rule=\"evenodd\" fill-opacity=\"1\"/>\n<polyline clip-path=\"url(#clip222)\" style=\"stroke:#000000; stroke-linecap:round; stroke-linejoin:round; stroke-width:4; stroke-opacity:1; fill:none\" points=\"510.872,157.123 510.872,1445.72 549.173,1445.72 549.173,157.123 510.872,157.123 \"/>\n<path clip-path=\"url(#clip222)\" d=\"M549.173 87.9763 L549.173 1445.72 L587.474 1445.72 L587.474 87.9763 L549.173 87.9763 L549.173 87.9763  Z\" fill=\"#009af9\" fill-rule=\"evenodd\" fill-opacity=\"1\"/>\n<polyline clip-path=\"url(#clip222)\" style=\"stroke:#000000; stroke-linecap:round; stroke-linejoin:round; stroke-width:4; stroke-opacity:1; fill:none\" points=\"549.173,87.9763 549.173,1445.72 587.474,1445.72 587.474,87.9763 549.173,87.9763 \"/>\n<path clip-path=\"url(#clip222)\" d=\"M587.474 144.199 L587.474 1445.72 L625.775 1445.72 L625.775 144.199 L587.474 144.199 L587.474 144.199  Z\" fill=\"#009af9\" fill-rule=\"evenodd\" fill-opacity=\"1\"/>\n<polyline clip-path=\"url(#clip222)\" style=\"stroke:#000000; stroke-linecap:round; stroke-linejoin:round; stroke-width:4; stroke-opacity:1; fill:none\" points=\"587.474,144.199 587.474,1445.72 625.775,1445.72 625.775,144.199 587.474,144.199 \"/>\n<path clip-path=\"url(#clip222)\" d=\"M625.775 179.742 L625.775 1445.72 L664.075 1445.72 L664.075 179.742 L625.775 179.742 L625.775 179.742  Z\" fill=\"#009af9\" fill-rule=\"evenodd\" fill-opacity=\"1\"/>\n<polyline clip-path=\"url(#clip222)\" style=\"stroke:#000000; stroke-linecap:round; stroke-linejoin:round; stroke-width:4; stroke-opacity:1; fill:none\" points=\"625.775,179.742 625.775,1445.72 664.075,1445.72 664.075,179.742 625.775,179.742 \"/>\n<path clip-path=\"url(#clip222)\" d=\"M664.075 145.491 L664.075 1445.72 L702.376 1445.72 L702.376 145.491 L664.075 145.491 L664.075 145.491  Z\" fill=\"#009af9\" fill-rule=\"evenodd\" fill-opacity=\"1\"/>\n<polyline clip-path=\"url(#clip222)\" style=\"stroke:#000000; stroke-linecap:round; stroke-linejoin:round; stroke-width:4; stroke-opacity:1; fill:none\" points=\"664.075,145.491 664.075,1445.72 702.376,1445.72 702.376,145.491 664.075,145.491 \"/>\n<path clip-path=\"url(#clip222)\" d=\"M702.376 109.948 L702.376 1445.72 L740.677 1445.72 L740.677 109.948 L702.376 109.948 L702.376 109.948  Z\" fill=\"#009af9\" fill-rule=\"evenodd\" fill-opacity=\"1\"/>\n<polyline clip-path=\"url(#clip222)\" style=\"stroke:#000000; stroke-linecap:round; stroke-linejoin:round; stroke-width:4; stroke-opacity:1; fill:none\" points=\"702.376,109.948 702.376,1445.72 740.677,1445.72 740.677,109.948 702.376,109.948 \"/>\n<path clip-path=\"url(#clip222)\" d=\"M740.677 182.327 L740.677 1445.72 L778.978 1445.72 L778.978 182.327 L740.677 182.327 L740.677 182.327  Z\" fill=\"#009af9\" fill-rule=\"evenodd\" fill-opacity=\"1\"/>\n<polyline clip-path=\"url(#clip222)\" style=\"stroke:#000000; stroke-linecap:round; stroke-linejoin:round; stroke-width:4; stroke-opacity:1; fill:none\" points=\"740.677,182.327 740.677,1445.72 778.978,1445.72 778.978,182.327 740.677,182.327 \"/>\n<path clip-path=\"url(#clip222)\" d=\"M778.978 159.062 L778.978 1445.72 L817.278 1445.72 L817.278 159.062 L778.978 159.062 L778.978 159.062  Z\" fill=\"#009af9\" fill-rule=\"evenodd\" fill-opacity=\"1\"/>\n<polyline clip-path=\"url(#clip222)\" style=\"stroke:#000000; stroke-linecap:round; stroke-linejoin:round; stroke-width:4; stroke-opacity:1; fill:none\" points=\"778.978,159.062 778.978,1445.72 817.278,1445.72 817.278,159.062 778.978,159.062 \"/>\n<path clip-path=\"url(#clip222)\" d=\"M817.278 176.51 L817.278 1445.72 L855.579 1445.72 L855.579 176.51 L817.278 176.51 L817.278 176.51  Z\" fill=\"#009af9\" fill-rule=\"evenodd\" fill-opacity=\"1\"/>\n<polyline clip-path=\"url(#clip222)\" style=\"stroke:#000000; stroke-linecap:round; stroke-linejoin:round; stroke-width:4; stroke-opacity:1; fill:none\" points=\"817.278,176.51 817.278,1445.72 855.579,1445.72 855.579,176.51 817.278,176.51 \"/>\n<path clip-path=\"url(#clip222)\" d=\"M855.579 182.973 L855.579 1445.72 L893.88 1445.72 L893.88 182.973 L855.579 182.973 L855.579 182.973  Z\" fill=\"#009af9\" fill-rule=\"evenodd\" fill-opacity=\"1\"/>\n<polyline clip-path=\"url(#clip222)\" style=\"stroke:#000000; stroke-linecap:round; stroke-linejoin:round; stroke-width:4; stroke-opacity:1; fill:none\" points=\"855.579,182.973 855.579,1445.72 893.88,1445.72 893.88,182.973 855.579,182.973 \"/>\n<path clip-path=\"url(#clip222)\" d=\"M893.88 118.349 L893.88 1445.72 L932.181 1445.72 L932.181 118.349 L893.88 118.349 L893.88 118.349  Z\" fill=\"#009af9\" fill-rule=\"evenodd\" fill-opacity=\"1\"/>\n<polyline clip-path=\"url(#clip222)\" style=\"stroke:#000000; stroke-linecap:round; stroke-linejoin:round; stroke-width:4; stroke-opacity:1; fill:none\" points=\"893.88,118.349 893.88,1445.72 932.181,1445.72 932.181,118.349 893.88,118.349 \"/>\n<path clip-path=\"url(#clip222)\" d=\"M932.181 179.742 L932.181 1445.72 L970.482 1445.72 L970.482 179.742 L932.181 179.742 L932.181 179.742  Z\" fill=\"#009af9\" fill-rule=\"evenodd\" fill-opacity=\"1\"/>\n<polyline clip-path=\"url(#clip222)\" style=\"stroke:#000000; stroke-linecap:round; stroke-linejoin:round; stroke-width:4; stroke-opacity:1; fill:none\" points=\"932.181,179.742 932.181,1445.72 970.482,1445.72 970.482,179.742 932.181,179.742 \"/>\n<path clip-path=\"url(#clip222)\" d=\"M970.482 163.586 L970.482 1445.72 L1008.78 1445.72 L1008.78 163.586 L970.482 163.586 L970.482 163.586  Z\" fill=\"#009af9\" fill-rule=\"evenodd\" fill-opacity=\"1\"/>\n<polyline clip-path=\"url(#clip222)\" style=\"stroke:#000000; stroke-linecap:round; stroke-linejoin:round; stroke-width:4; stroke-opacity:1; fill:none\" points=\"970.482,163.586 970.482,1445.72 1008.78,1445.72 1008.78,163.586 970.482,163.586 \"/>\n<path clip-path=\"url(#clip222)\" d=\"M1008.78 143.552 L1008.78 1445.72 L1047.08 1445.72 L1047.08 143.552 L1008.78 143.552 L1008.78 143.552  Z\" fill=\"#009af9\" fill-rule=\"evenodd\" fill-opacity=\"1\"/>\n<polyline clip-path=\"url(#clip222)\" style=\"stroke:#000000; stroke-linecap:round; stroke-linejoin:round; stroke-width:4; stroke-opacity:1; fill:none\" points=\"1008.78,143.552 1008.78,1445.72 1047.08,1445.72 1047.08,143.552 1008.78,143.552 \"/>\n<path clip-path=\"url(#clip222)\" d=\"M1047.08 130.628 L1047.08 1445.72 L1085.38 1445.72 L1085.38 130.628 L1047.08 130.628 L1047.08 130.628  Z\" fill=\"#009af9\" fill-rule=\"evenodd\" fill-opacity=\"1\"/>\n<polyline clip-path=\"url(#clip222)\" style=\"stroke:#000000; stroke-linecap:round; stroke-linejoin:round; stroke-width:4; stroke-opacity:1; fill:none\" points=\"1047.08,130.628 1047.08,1445.72 1085.38,1445.72 1085.38,130.628 1047.08,130.628 \"/>\n<path clip-path=\"url(#clip222)\" d=\"M1085.38 139.675 L1085.38 1445.72 L1123.68 1445.72 L1123.68 139.675 L1085.38 139.675 L1085.38 139.675  Z\" fill=\"#009af9\" fill-rule=\"evenodd\" fill-opacity=\"1\"/>\n<polyline clip-path=\"url(#clip222)\" style=\"stroke:#000000; stroke-linecap:round; stroke-linejoin:round; stroke-width:4; stroke-opacity:1; fill:none\" points=\"1085.38,139.675 1085.38,1445.72 1123.68,1445.72 1123.68,139.675 1085.38,139.675 \"/>\n<path clip-path=\"url(#clip222)\" d=\"M1123.68 147.43 L1123.68 1445.72 L1161.99 1445.72 L1161.99 147.43 L1123.68 147.43 L1123.68 147.43  Z\" fill=\"#009af9\" fill-rule=\"evenodd\" fill-opacity=\"1\"/>\n<polyline clip-path=\"url(#clip222)\" style=\"stroke:#000000; stroke-linecap:round; stroke-linejoin:round; stroke-width:4; stroke-opacity:1; fill:none\" points=\"1123.68,147.43 1123.68,1445.72 1161.99,1445.72 1161.99,147.43 1123.68,147.43 \"/>\n<path clip-path=\"url(#clip222)\" d=\"M1161.99 144.199 L1161.99 1445.72 L1200.29 1445.72 L1200.29 144.199 L1161.99 144.199 L1161.99 144.199  Z\" fill=\"#009af9\" fill-rule=\"evenodd\" fill-opacity=\"1\"/>\n<polyline clip-path=\"url(#clip222)\" style=\"stroke:#000000; stroke-linecap:round; stroke-linejoin:round; stroke-width:4; stroke-opacity:1; fill:none\" points=\"1161.99,144.199 1161.99,1445.72 1200.29,1445.72 1200.29,144.199 1161.99,144.199 \"/>\n<path clip-path=\"url(#clip222)\" d=\"M1200.29 129.335 L1200.29 1445.72 L1238.59 1445.72 L1238.59 129.335 L1200.29 129.335 L1200.29 129.335  Z\" fill=\"#009af9\" fill-rule=\"evenodd\" fill-opacity=\"1\"/>\n<polyline clip-path=\"url(#clip222)\" style=\"stroke:#000000; stroke-linecap:round; stroke-linejoin:round; stroke-width:4; stroke-opacity:1; fill:none\" points=\"1200.29,129.335 1200.29,1445.72 1238.59,1445.72 1238.59,129.335 1200.29,129.335 \"/>\n<path clip-path=\"url(#clip222)\" d=\"M1238.59 135.151 L1238.59 1445.72 L1276.89 1445.72 L1276.89 135.151 L1238.59 135.151 L1238.59 135.151  Z\" fill=\"#009af9\" fill-rule=\"evenodd\" fill-opacity=\"1\"/>\n<polyline clip-path=\"url(#clip222)\" style=\"stroke:#000000; stroke-linecap:round; stroke-linejoin:round; stroke-width:4; stroke-opacity:1; fill:none\" points=\"1238.59,135.151 1238.59,1445.72 1276.89,1445.72 1276.89,135.151 1238.59,135.151 \"/>\n<path clip-path=\"url(#clip222)\" d=\"M1276.89 146.137 L1276.89 1445.72 L1315.19 1445.72 L1315.19 146.137 L1276.89 146.137 L1276.89 146.137  Z\" fill=\"#009af9\" fill-rule=\"evenodd\" fill-opacity=\"1\"/>\n<polyline clip-path=\"url(#clip222)\" style=\"stroke:#000000; stroke-linecap:round; stroke-linejoin:round; stroke-width:4; stroke-opacity:1; fill:none\" points=\"1276.89,146.137 1276.89,1445.72 1315.19,1445.72 1315.19,146.137 1276.89,146.137 \"/>\n<path clip-path=\"url(#clip222)\" d=\"M1315.19 163.586 L1315.19 1445.72 L1353.49 1445.72 L1353.49 163.586 L1315.19 163.586 L1315.19 163.586  Z\" fill=\"#009af9\" fill-rule=\"evenodd\" fill-opacity=\"1\"/>\n<polyline clip-path=\"url(#clip222)\" style=\"stroke:#000000; stroke-linecap:round; stroke-linejoin:round; stroke-width:4; stroke-opacity:1; fill:none\" points=\"1315.19,163.586 1315.19,1445.72 1353.49,1445.72 1353.49,163.586 1315.19,163.586 \"/>\n<path clip-path=\"url(#clip222)\" d=\"M1353.49 184.265 L1353.49 1445.72 L1391.79 1445.72 L1391.79 184.265 L1353.49 184.265 L1353.49 184.265  Z\" fill=\"#009af9\" fill-rule=\"evenodd\" fill-opacity=\"1\"/>\n<polyline clip-path=\"url(#clip222)\" style=\"stroke:#000000; stroke-linecap:round; stroke-linejoin:round; stroke-width:4; stroke-opacity:1; fill:none\" points=\"1353.49,184.265 1353.49,1445.72 1391.79,1445.72 1391.79,184.265 1353.49,184.265 \"/>\n<path clip-path=\"url(#clip222)\" d=\"M1391.79 186.85 L1391.79 1445.72 L1430.09 1445.72 L1430.09 186.85 L1391.79 186.85 L1391.79 186.85  Z\" fill=\"#009af9\" fill-rule=\"evenodd\" fill-opacity=\"1\"/>\n<polyline clip-path=\"url(#clip222)\" style=\"stroke:#000000; stroke-linecap:round; stroke-linejoin:round; stroke-width:4; stroke-opacity:1; fill:none\" points=\"1391.79,186.85 1391.79,1445.72 1430.09,1445.72 1430.09,186.85 1391.79,186.85 \"/>\n<path clip-path=\"url(#clip222)\" d=\"M1430.09 140.321 L1430.09 1445.72 L1468.39 1445.72 L1468.39 140.321 L1430.09 140.321 L1430.09 140.321  Z\" fill=\"#009af9\" fill-rule=\"evenodd\" fill-opacity=\"1\"/>\n<polyline clip-path=\"url(#clip222)\" style=\"stroke:#000000; stroke-linecap:round; stroke-linejoin:round; stroke-width:4; stroke-opacity:1; fill:none\" points=\"1430.09,140.321 1430.09,1445.72 1468.39,1445.72 1468.39,140.321 1430.09,140.321 \"/>\n<path clip-path=\"url(#clip222)\" d=\"M1468.39 143.552 L1468.39 1445.72 L1506.69 1445.72 L1506.69 143.552 L1468.39 143.552 L1468.39 143.552  Z\" fill=\"#009af9\" fill-rule=\"evenodd\" fill-opacity=\"1\"/>\n<polyline clip-path=\"url(#clip222)\" style=\"stroke:#000000; stroke-linecap:round; stroke-linejoin:round; stroke-width:4; stroke-opacity:1; fill:none\" points=\"1468.39,143.552 1468.39,1445.72 1506.69,1445.72 1506.69,143.552 1468.39,143.552 \"/>\n<path clip-path=\"url(#clip222)\" d=\"M1506.69 122.227 L1506.69 1445.72 L1544.99 1445.72 L1544.99 122.227 L1506.69 122.227 L1506.69 122.227  Z\" fill=\"#009af9\" fill-rule=\"evenodd\" fill-opacity=\"1\"/>\n<polyline clip-path=\"url(#clip222)\" style=\"stroke:#000000; stroke-linecap:round; stroke-linejoin:round; stroke-width:4; stroke-opacity:1; fill:none\" points=\"1506.69,122.227 1506.69,1445.72 1544.99,1445.72 1544.99,122.227 1506.69,122.227 \"/>\n<path clip-path=\"url(#clip222)\" d=\"M1544.99 155.831 L1544.99 1445.72 L1583.29 1445.72 L1583.29 155.831 L1544.99 155.831 L1544.99 155.831  Z\" fill=\"#009af9\" fill-rule=\"evenodd\" fill-opacity=\"1\"/>\n<polyline clip-path=\"url(#clip222)\" style=\"stroke:#000000; stroke-linecap:round; stroke-linejoin:round; stroke-width:4; stroke-opacity:1; fill:none\" points=\"1544.99,155.831 1544.99,1445.72 1583.29,1445.72 1583.29,155.831 1544.99,155.831 \"/>\n<path clip-path=\"url(#clip222)\" d=\"M1583.29 113.179 L1583.29 1445.72 L1621.59 1445.72 L1621.59 113.179 L1583.29 113.179 L1583.29 113.179  Z\" fill=\"#009af9\" fill-rule=\"evenodd\" fill-opacity=\"1\"/>\n<polyline clip-path=\"url(#clip222)\" style=\"stroke:#000000; stroke-linecap:round; stroke-linejoin:round; stroke-width:4; stroke-opacity:1; fill:none\" points=\"1583.29,113.179 1583.29,1445.72 1621.59,1445.72 1621.59,113.179 1583.29,113.179 \"/>\n<path clip-path=\"url(#clip222)\" d=\"M1621.59 198.482 L1621.59 1445.72 L1659.9 1445.72 L1659.9 198.482 L1621.59 198.482 L1621.59 198.482  Z\" fill=\"#009af9\" fill-rule=\"evenodd\" fill-opacity=\"1\"/>\n<polyline clip-path=\"url(#clip222)\" style=\"stroke:#000000; stroke-linecap:round; stroke-linejoin:round; stroke-width:4; stroke-opacity:1; fill:none\" points=\"1621.59,198.482 1621.59,1445.72 1659.9,1445.72 1659.9,198.482 1621.59,198.482 \"/>\n<path clip-path=\"url(#clip222)\" d=\"M1659.9 161.001 L1659.9 1445.72 L1698.2 1445.72 L1698.2 161.001 L1659.9 161.001 L1659.9 161.001  Z\" fill=\"#009af9\" fill-rule=\"evenodd\" fill-opacity=\"1\"/>\n<polyline clip-path=\"url(#clip222)\" style=\"stroke:#000000; stroke-linecap:round; stroke-linejoin:round; stroke-width:4; stroke-opacity:1; fill:none\" points=\"1659.9,161.001 1659.9,1445.72 1698.2,1445.72 1698.2,161.001 1659.9,161.001 \"/>\n<path clip-path=\"url(#clip222)\" d=\"M1698.2 160.355 L1698.2 1445.72 L1736.5 1445.72 L1736.5 160.355 L1698.2 160.355 L1698.2 160.355  Z\" fill=\"#009af9\" fill-rule=\"evenodd\" fill-opacity=\"1\"/>\n<polyline clip-path=\"url(#clip222)\" style=\"stroke:#000000; stroke-linecap:round; stroke-linejoin:round; stroke-width:4; stroke-opacity:1; fill:none\" points=\"1698.2,160.355 1698.2,1445.72 1736.5,1445.72 1736.5,160.355 1698.2,160.355 \"/>\n<path clip-path=\"url(#clip222)\" d=\"M1736.5 115.118 L1736.5 1445.72 L1774.8 1445.72 L1774.8 115.118 L1736.5 115.118 L1736.5 115.118  Z\" fill=\"#009af9\" fill-rule=\"evenodd\" fill-opacity=\"1\"/>\n<polyline clip-path=\"url(#clip222)\" style=\"stroke:#000000; stroke-linecap:round; stroke-linejoin:round; stroke-width:4; stroke-opacity:1; fill:none\" points=\"1736.5,115.118 1736.5,1445.72 1774.8,1445.72 1774.8,115.118 1736.5,115.118 \"/>\n<path clip-path=\"url(#clip222)\" d=\"M1774.8 145.491 L1774.8 1445.72 L1813.1 1445.72 L1813.1 145.491 L1774.8 145.491 L1774.8 145.491  Z\" fill=\"#009af9\" fill-rule=\"evenodd\" fill-opacity=\"1\"/>\n<polyline clip-path=\"url(#clip222)\" style=\"stroke:#000000; stroke-linecap:round; stroke-linejoin:round; stroke-width:4; stroke-opacity:1; fill:none\" points=\"1774.8,145.491 1774.8,1445.72 1813.1,1445.72 1813.1,145.491 1774.8,145.491 \"/>\n<path clip-path=\"url(#clip222)\" d=\"M1813.1 206.883 L1813.1 1445.72 L1851.4 1445.72 L1851.4 206.883 L1813.1 206.883 L1813.1 206.883  Z\" fill=\"#009af9\" fill-rule=\"evenodd\" fill-opacity=\"1\"/>\n<polyline clip-path=\"url(#clip222)\" style=\"stroke:#000000; stroke-linecap:round; stroke-linejoin:round; stroke-width:4; stroke-opacity:1; fill:none\" points=\"1813.1,206.883 1813.1,1445.72 1851.4,1445.72 1851.4,206.883 1813.1,206.883 \"/>\n<path clip-path=\"url(#clip222)\" d=\"M1851.4 182.973 L1851.4 1445.72 L1889.7 1445.72 L1889.7 182.973 L1851.4 182.973 L1851.4 182.973  Z\" fill=\"#009af9\" fill-rule=\"evenodd\" fill-opacity=\"1\"/>\n<polyline clip-path=\"url(#clip222)\" style=\"stroke:#000000; stroke-linecap:round; stroke-linejoin:round; stroke-width:4; stroke-opacity:1; fill:none\" points=\"1851.4,182.973 1851.4,1445.72 1889.7,1445.72 1889.7,182.973 1851.4,182.973 \"/>\n<path clip-path=\"url(#clip222)\" d=\"M1889.7 125.458 L1889.7 1445.72 L1928 1445.72 L1928 125.458 L1889.7 125.458 L1889.7 125.458  Z\" fill=\"#009af9\" fill-rule=\"evenodd\" fill-opacity=\"1\"/>\n<polyline clip-path=\"url(#clip222)\" style=\"stroke:#000000; stroke-linecap:round; stroke-linejoin:round; stroke-width:4; stroke-opacity:1; fill:none\" points=\"1889.7,125.458 1889.7,1445.72 1928,1445.72 1928,125.458 1889.7,125.458 \"/>\n<path clip-path=\"url(#clip222)\" d=\"M1928 148.722 L1928 1445.72 L1966.3 1445.72 L1966.3 148.722 L1928 148.722 L1928 148.722  Z\" fill=\"#009af9\" fill-rule=\"evenodd\" fill-opacity=\"1\"/>\n<polyline clip-path=\"url(#clip222)\" style=\"stroke:#000000; stroke-linecap:round; stroke-linejoin:round; stroke-width:4; stroke-opacity:1; fill:none\" points=\"1928,148.722 1928,1445.72 1966.3,1445.72 1966.3,148.722 1928,148.722 \"/>\n<path clip-path=\"url(#clip222)\" d=\"M1966.3 154.538 L1966.3 1445.72 L2004.6 1445.72 L2004.6 154.538 L1966.3 154.538 L1966.3 154.538  Z\" fill=\"#009af9\" fill-rule=\"evenodd\" fill-opacity=\"1\"/>\n<polyline clip-path=\"url(#clip222)\" style=\"stroke:#000000; stroke-linecap:round; stroke-linejoin:round; stroke-width:4; stroke-opacity:1; fill:none\" points=\"1966.3,154.538 1966.3,1445.72 2004.6,1445.72 2004.6,154.538 1966.3,154.538 \"/>\n<path clip-path=\"url(#clip222)\" d=\"M2004.6 186.85 L2004.6 1445.72 L2042.9 1445.72 L2042.9 186.85 L2004.6 186.85 L2004.6 186.85  Z\" fill=\"#009af9\" fill-rule=\"evenodd\" fill-opacity=\"1\"/>\n<polyline clip-path=\"url(#clip222)\" style=\"stroke:#000000; stroke-linecap:round; stroke-linejoin:round; stroke-width:4; stroke-opacity:1; fill:none\" points=\"2004.6,186.85 2004.6,1445.72 2042.9,1445.72 2042.9,186.85 2004.6,186.85 \"/>\n<path clip-path=\"url(#clip222)\" d=\"M2042.9 141.614 L2042.9 1445.72 L2081.2 1445.72 L2081.2 141.614 L2042.9 141.614 L2042.9 141.614  Z\" fill=\"#009af9\" fill-rule=\"evenodd\" fill-opacity=\"1\"/>\n<polyline clip-path=\"url(#clip222)\" style=\"stroke:#000000; stroke-linecap:round; stroke-linejoin:round; stroke-width:4; stroke-opacity:1; fill:none\" points=\"2042.9,141.614 2042.9,1445.72 2081.2,1445.72 2081.2,141.614 2042.9,141.614 \"/>\n<path clip-path=\"url(#clip222)\" d=\"M2081.2 164.878 L2081.2 1445.72 L2119.5 1445.72 L2119.5 164.878 L2081.2 164.878 L2081.2 164.878  Z\" fill=\"#009af9\" fill-rule=\"evenodd\" fill-opacity=\"1\"/>\n<polyline clip-path=\"url(#clip222)\" style=\"stroke:#000000; stroke-linecap:round; stroke-linejoin:round; stroke-width:4; stroke-opacity:1; fill:none\" points=\"2081.2,164.878 2081.2,1445.72 2119.5,1445.72 2119.5,164.878 2081.2,164.878 \"/>\n<path clip-path=\"url(#clip222)\" d=\"M2119.5 131.274 L2119.5 1445.72 L2157.81 1445.72 L2157.81 131.274 L2119.5 131.274 L2119.5 131.274  Z\" fill=\"#009af9\" fill-rule=\"evenodd\" fill-opacity=\"1\"/>\n<polyline clip-path=\"url(#clip222)\" style=\"stroke:#000000; stroke-linecap:round; stroke-linejoin:round; stroke-width:4; stroke-opacity:1; fill:none\" points=\"2119.5,131.274 2119.5,1445.72 2157.81,1445.72 2157.81,131.274 2119.5,131.274 \"/>\n<path clip-path=\"url(#clip222)\" d=\"M2157.81 185.558 L2157.81 1445.72 L2196.11 1445.72 L2196.11 185.558 L2157.81 185.558 L2157.81 185.558  Z\" fill=\"#009af9\" fill-rule=\"evenodd\" fill-opacity=\"1\"/>\n<polyline clip-path=\"url(#clip222)\" style=\"stroke:#000000; stroke-linecap:round; stroke-linejoin:round; stroke-width:4; stroke-opacity:1; fill:none\" points=\"2157.81,185.558 2157.81,1445.72 2196.11,1445.72 2196.11,185.558 2157.81,185.558 \"/>\n<path clip-path=\"url(#clip222)\" d=\"M2196.11 134.505 L2196.11 1445.72 L2234.41 1445.72 L2234.41 134.505 L2196.11 134.505 L2196.11 134.505  Z\" fill=\"#009af9\" fill-rule=\"evenodd\" fill-opacity=\"1\"/>\n<polyline clip-path=\"url(#clip222)\" style=\"stroke:#000000; stroke-linecap:round; stroke-linejoin:round; stroke-width:4; stroke-opacity:1; fill:none\" points=\"2196.11,134.505 2196.11,1445.72 2234.41,1445.72 2234.41,134.505 2196.11,134.505 \"/>\n<circle clip-path=\"url(#clip222)\" style=\"fill:#009af9; stroke:none; fill-opacity:0\" cx=\"338.519\" cy=\"199.775\" r=\"2\"/>\n<circle clip-path=\"url(#clip222)\" style=\"fill:#009af9; stroke:none; fill-opacity:0\" cx=\"376.82\" cy=\"167.463\" r=\"2\"/>\n<circle clip-path=\"url(#clip222)\" style=\"fill:#009af9; stroke:none; fill-opacity:0\" cx=\"415.121\" cy=\"122.227\" r=\"2\"/>\n<circle clip-path=\"url(#clip222)\" style=\"fill:#009af9; stroke:none; fill-opacity:0\" cx=\"453.421\" cy=\"120.288\" r=\"2\"/>\n<circle clip-path=\"url(#clip222)\" style=\"fill:#009af9; stroke:none; fill-opacity:0\" cx=\"491.722\" cy=\"195.897\" r=\"2\"/>\n<circle clip-path=\"url(#clip222)\" style=\"fill:#009af9; stroke:none; fill-opacity:0\" cx=\"530.023\" cy=\"157.123\" r=\"2\"/>\n<circle clip-path=\"url(#clip222)\" style=\"fill:#009af9; stroke:none; fill-opacity:0\" cx=\"568.324\" cy=\"87.9763\" r=\"2\"/>\n<circle clip-path=\"url(#clip222)\" style=\"fill:#009af9; stroke:none; fill-opacity:0\" cx=\"606.624\" cy=\"144.199\" r=\"2\"/>\n<circle clip-path=\"url(#clip222)\" style=\"fill:#009af9; stroke:none; fill-opacity:0\" cx=\"644.925\" cy=\"179.742\" r=\"2\"/>\n<circle clip-path=\"url(#clip222)\" style=\"fill:#009af9; stroke:none; fill-opacity:0\" cx=\"683.226\" cy=\"145.491\" r=\"2\"/>\n<circle clip-path=\"url(#clip222)\" style=\"fill:#009af9; stroke:none; fill-opacity:0\" cx=\"721.527\" cy=\"109.948\" r=\"2\"/>\n<circle clip-path=\"url(#clip222)\" style=\"fill:#009af9; stroke:none; fill-opacity:0\" cx=\"759.827\" cy=\"182.327\" r=\"2\"/>\n<circle clip-path=\"url(#clip222)\" style=\"fill:#009af9; stroke:none; fill-opacity:0\" cx=\"798.128\" cy=\"159.062\" r=\"2\"/>\n<circle clip-path=\"url(#clip222)\" style=\"fill:#009af9; stroke:none; fill-opacity:0\" cx=\"836.429\" cy=\"176.51\" r=\"2\"/>\n<circle clip-path=\"url(#clip222)\" style=\"fill:#009af9; stroke:none; fill-opacity:0\" cx=\"874.73\" cy=\"182.973\" r=\"2\"/>\n<circle clip-path=\"url(#clip222)\" style=\"fill:#009af9; stroke:none; fill-opacity:0\" cx=\"913.03\" cy=\"118.349\" r=\"2\"/>\n<circle clip-path=\"url(#clip222)\" style=\"fill:#009af9; stroke:none; fill-opacity:0\" cx=\"951.331\" cy=\"179.742\" r=\"2\"/>\n<circle clip-path=\"url(#clip222)\" style=\"fill:#009af9; stroke:none; fill-opacity:0\" cx=\"989.632\" cy=\"163.586\" r=\"2\"/>\n<circle clip-path=\"url(#clip222)\" style=\"fill:#009af9; stroke:none; fill-opacity:0\" cx=\"1027.93\" cy=\"143.552\" r=\"2\"/>\n<circle clip-path=\"url(#clip222)\" style=\"fill:#009af9; stroke:none; fill-opacity:0\" cx=\"1066.23\" cy=\"130.628\" r=\"2\"/>\n<circle clip-path=\"url(#clip222)\" style=\"fill:#009af9; stroke:none; fill-opacity:0\" cx=\"1104.53\" cy=\"139.675\" r=\"2\"/>\n<circle clip-path=\"url(#clip222)\" style=\"fill:#009af9; stroke:none; fill-opacity:0\" cx=\"1142.83\" cy=\"147.43\" r=\"2\"/>\n<circle clip-path=\"url(#clip222)\" style=\"fill:#009af9; stroke:none; fill-opacity:0\" cx=\"1181.14\" cy=\"144.199\" r=\"2\"/>\n<circle clip-path=\"url(#clip222)\" style=\"fill:#009af9; stroke:none; fill-opacity:0\" cx=\"1219.44\" cy=\"129.335\" r=\"2\"/>\n<circle clip-path=\"url(#clip222)\" style=\"fill:#009af9; stroke:none; fill-opacity:0\" cx=\"1257.74\" cy=\"135.151\" r=\"2\"/>\n<circle clip-path=\"url(#clip222)\" style=\"fill:#009af9; stroke:none; fill-opacity:0\" cx=\"1296.04\" cy=\"146.137\" r=\"2\"/>\n<circle clip-path=\"url(#clip222)\" style=\"fill:#009af9; stroke:none; fill-opacity:0\" cx=\"1334.34\" cy=\"163.586\" r=\"2\"/>\n<circle clip-path=\"url(#clip222)\" style=\"fill:#009af9; stroke:none; fill-opacity:0\" cx=\"1372.64\" cy=\"184.265\" r=\"2\"/>\n<circle clip-path=\"url(#clip222)\" style=\"fill:#009af9; stroke:none; fill-opacity:0\" cx=\"1410.94\" cy=\"186.85\" r=\"2\"/>\n<circle clip-path=\"url(#clip222)\" style=\"fill:#009af9; stroke:none; fill-opacity:0\" cx=\"1449.24\" cy=\"140.321\" r=\"2\"/>\n<circle clip-path=\"url(#clip222)\" style=\"fill:#009af9; stroke:none; fill-opacity:0\" cx=\"1487.54\" cy=\"143.552\" r=\"2\"/>\n<circle clip-path=\"url(#clip222)\" style=\"fill:#009af9; stroke:none; fill-opacity:0\" cx=\"1525.84\" cy=\"122.227\" r=\"2\"/>\n<circle clip-path=\"url(#clip222)\" style=\"fill:#009af9; stroke:none; fill-opacity:0\" cx=\"1564.14\" cy=\"155.831\" r=\"2\"/>\n<circle clip-path=\"url(#clip222)\" style=\"fill:#009af9; stroke:none; fill-opacity:0\" cx=\"1602.44\" cy=\"113.179\" r=\"2\"/>\n<circle clip-path=\"url(#clip222)\" style=\"fill:#009af9; stroke:none; fill-opacity:0\" cx=\"1640.74\" cy=\"198.482\" r=\"2\"/>\n<circle clip-path=\"url(#clip222)\" style=\"fill:#009af9; stroke:none; fill-opacity:0\" cx=\"1679.05\" cy=\"161.001\" r=\"2\"/>\n<circle clip-path=\"url(#clip222)\" style=\"fill:#009af9; stroke:none; fill-opacity:0\" cx=\"1717.35\" cy=\"160.355\" r=\"2\"/>\n<circle clip-path=\"url(#clip222)\" style=\"fill:#009af9; stroke:none; fill-opacity:0\" cx=\"1755.65\" cy=\"115.118\" r=\"2\"/>\n<circle clip-path=\"url(#clip222)\" style=\"fill:#009af9; stroke:none; fill-opacity:0\" cx=\"1793.95\" cy=\"145.491\" r=\"2\"/>\n<circle clip-path=\"url(#clip222)\" style=\"fill:#009af9; stroke:none; fill-opacity:0\" cx=\"1832.25\" cy=\"206.883\" r=\"2\"/>\n<circle clip-path=\"url(#clip222)\" style=\"fill:#009af9; stroke:none; fill-opacity:0\" cx=\"1870.55\" cy=\"182.973\" r=\"2\"/>\n<circle clip-path=\"url(#clip222)\" style=\"fill:#009af9; stroke:none; fill-opacity:0\" cx=\"1908.85\" cy=\"125.458\" r=\"2\"/>\n<circle clip-path=\"url(#clip222)\" style=\"fill:#009af9; stroke:none; fill-opacity:0\" cx=\"1947.15\" cy=\"148.722\" r=\"2\"/>\n<circle clip-path=\"url(#clip222)\" style=\"fill:#009af9; stroke:none; fill-opacity:0\" cx=\"1985.45\" cy=\"154.538\" r=\"2\"/>\n<circle clip-path=\"url(#clip222)\" style=\"fill:#009af9; stroke:none; fill-opacity:0\" cx=\"2023.75\" cy=\"186.85\" r=\"2\"/>\n<circle clip-path=\"url(#clip222)\" style=\"fill:#009af9; stroke:none; fill-opacity:0\" cx=\"2062.05\" cy=\"141.614\" r=\"2\"/>\n<circle clip-path=\"url(#clip222)\" style=\"fill:#009af9; stroke:none; fill-opacity:0\" cx=\"2100.35\" cy=\"164.878\" r=\"2\"/>\n<circle clip-path=\"url(#clip222)\" style=\"fill:#009af9; stroke:none; fill-opacity:0\" cx=\"2138.65\" cy=\"131.274\" r=\"2\"/>\n<circle clip-path=\"url(#clip222)\" style=\"fill:#009af9; stroke:none; fill-opacity:0\" cx=\"2176.96\" cy=\"185.558\" r=\"2\"/>\n<circle clip-path=\"url(#clip222)\" style=\"fill:#009af9; stroke:none; fill-opacity:0\" cx=\"2215.26\" cy=\"134.505\" r=\"2\"/>\n</svg>\n"
     },
     "execution_count": 60,
     "metadata": {},
     "output_type": "execute_result"
    }
   ],
   "source": [
    "x = rand(10^5)\n",
    "histogram(x, bins=64, legend=false)"
   ]
  },
  {
   "cell_type": "code",
   "execution_count": 61,
   "metadata": {},
   "outputs": [
    {
     "data": {
      "text/latex": [
       "\\textbf{Normal Distribution}\n",
       "\n"
      ],
      "text/markdown": [
       "**Normal Distribution**\n"
      ],
      "text/plain": [
       "  \u001b[1mNormal Distribution\u001b[22m"
      ]
     },
     "execution_count": 61,
     "metadata": {},
     "output_type": "execute_result"
    }
   ],
   "source": [
    "md\"**Normal Distribution**\""
   ]
  },
  {
   "cell_type": "code",
   "execution_count": 62,
   "metadata": {},
   "outputs": [
    {
     "data": {
      "image/svg+xml": "<?xml version=\"1.0\" encoding=\"utf-8\"?>\n<svg xmlns=\"http://www.w3.org/2000/svg\" xmlns:xlink=\"http://www.w3.org/1999/xlink\" width=\"600\" height=\"400\" viewBox=\"0 0 2400 1600\">\n<defs>\n  <clipPath id=\"clip260\">\n    <rect x=\"0\" y=\"0\" width=\"2400\" height=\"1600\"/>\n  </clipPath>\n</defs>\n<path clip-path=\"url(#clip260)\" d=\"M0 1600 L2400 1600 L2400 0 L0 0  Z\" fill=\"#ffffff\" fill-rule=\"evenodd\" fill-opacity=\"1\"/>\n<defs>\n  <clipPath id=\"clip261\">\n    <rect x=\"480\" y=\"0\" width=\"1681\" height=\"1600\"/>\n  </clipPath>\n</defs>\n<path clip-path=\"url(#clip260)\" d=\"M202.177 1486.45 L2352.76 1486.45 L2352.76 47.2441 L202.177 47.2441  Z\" fill=\"#ffffff\" fill-rule=\"evenodd\" fill-opacity=\"1\"/>\n<defs>\n  <clipPath id=\"clip262\">\n    <rect x=\"202\" y=\"47\" width=\"2152\" height=\"1440\"/>\n  </clipPath>\n</defs>\n<polyline clip-path=\"url(#clip262)\" style=\"stroke:#000000; stroke-linecap:round; stroke-linejoin:round; stroke-width:2; stroke-opacity:0.1; fill:none\" points=\"366.034,1486.45 366.034,47.2441 \"/>\n<polyline clip-path=\"url(#clip262)\" style=\"stroke:#000000; stroke-linecap:round; stroke-linejoin:round; stroke-width:2; stroke-opacity:0.1; fill:none\" points=\"821.75,1486.45 821.75,47.2441 \"/>\n<polyline clip-path=\"url(#clip262)\" style=\"stroke:#000000; stroke-linecap:round; stroke-linejoin:round; stroke-width:2; stroke-opacity:0.1; fill:none\" points=\"1277.47,1486.45 1277.47,47.2441 \"/>\n<polyline clip-path=\"url(#clip262)\" style=\"stroke:#000000; stroke-linecap:round; stroke-linejoin:round; stroke-width:2; stroke-opacity:0.1; fill:none\" points=\"1733.18,1486.45 1733.18,47.2441 \"/>\n<polyline clip-path=\"url(#clip262)\" style=\"stroke:#000000; stroke-linecap:round; stroke-linejoin:round; stroke-width:2; stroke-opacity:0.1; fill:none\" points=\"2188.9,1486.45 2188.9,47.2441 \"/>\n<polyline clip-path=\"url(#clip260)\" style=\"stroke:#000000; stroke-linecap:round; stroke-linejoin:round; stroke-width:4; stroke-opacity:1; fill:none\" points=\"202.177,1486.45 2352.76,1486.45 \"/>\n<polyline clip-path=\"url(#clip260)\" style=\"stroke:#000000; stroke-linecap:round; stroke-linejoin:round; stroke-width:4; stroke-opacity:1; fill:none\" points=\"366.034,1486.45 366.034,1467.55 \"/>\n<polyline clip-path=\"url(#clip260)\" style=\"stroke:#000000; stroke-linecap:round; stroke-linejoin:round; stroke-width:4; stroke-opacity:1; fill:none\" points=\"821.75,1486.45 821.75,1467.55 \"/>\n<polyline clip-path=\"url(#clip260)\" style=\"stroke:#000000; stroke-linecap:round; stroke-linejoin:round; stroke-width:4; stroke-opacity:1; fill:none\" points=\"1277.47,1486.45 1277.47,1467.55 \"/>\n<polyline clip-path=\"url(#clip260)\" style=\"stroke:#000000; stroke-linecap:round; stroke-linejoin:round; stroke-width:4; stroke-opacity:1; fill:none\" points=\"1733.18,1486.45 1733.18,1467.55 \"/>\n<polyline clip-path=\"url(#clip260)\" style=\"stroke:#000000; stroke-linecap:round; stroke-linejoin:round; stroke-width:4; stroke-opacity:1; fill:none\" points=\"2188.9,1486.45 2188.9,1467.55 \"/>\n<path clip-path=\"url(#clip260)\" d=\"M334.935 1532.02 L364.61 1532.02 L364.61 1535.95 L334.935 1535.95 L334.935 1532.02 Z\" fill=\"#000000\" fill-rule=\"evenodd\" fill-opacity=\"1\" /><path clip-path=\"url(#clip260)\" d=\"M387.55 1518.36 L375.745 1536.81 L387.55 1536.81 L387.55 1518.36 M386.323 1514.29 L392.203 1514.29 L392.203 1536.81 L397.133 1536.81 L397.133 1540.7 L392.203 1540.7 L392.203 1548.85 L387.55 1548.85 L387.55 1540.7 L371.948 1540.7 L371.948 1536.19 L386.323 1514.29 Z\" fill=\"#000000\" fill-rule=\"evenodd\" fill-opacity=\"1\" /><path clip-path=\"url(#clip260)\" d=\"M791.692 1532.02 L821.368 1532.02 L821.368 1535.95 L791.692 1535.95 L791.692 1532.02 Z\" fill=\"#000000\" fill-rule=\"evenodd\" fill-opacity=\"1\" /><path clip-path=\"url(#clip260)\" d=\"M835.488 1544.91 L851.808 1544.91 L851.808 1548.85 L829.864 1548.85 L829.864 1544.91 Q832.526 1542.16 837.109 1537.53 Q841.715 1532.88 842.896 1531.53 Q845.141 1529.01 846.021 1527.27 Q846.924 1525.51 846.924 1523.82 Q846.924 1521.07 844.979 1519.33 Q843.058 1517.6 839.956 1517.6 Q837.757 1517.6 835.303 1518.36 Q832.873 1519.13 830.095 1520.68 L830.095 1515.95 Q832.919 1514.82 835.373 1514.24 Q837.826 1513.66 839.863 1513.66 Q845.234 1513.66 848.428 1516.35 Q851.623 1519.03 851.623 1523.52 Q851.623 1525.65 850.812 1527.57 Q850.025 1529.47 847.919 1532.07 Q847.34 1532.74 844.238 1535.95 Q841.137 1539.15 835.488 1544.91 Z\" fill=\"#000000\" fill-rule=\"evenodd\" fill-opacity=\"1\" /><path clip-path=\"url(#clip260)\" d=\"M1277.47 1517.37 Q1273.86 1517.37 1272.03 1520.93 Q1270.22 1524.47 1270.22 1531.6 Q1270.22 1538.71 1272.03 1542.27 Q1273.86 1545.82 1277.47 1545.82 Q1281.1 1545.82 1282.91 1542.27 Q1284.73 1538.71 1284.73 1531.6 Q1284.73 1524.47 1282.91 1520.93 Q1281.1 1517.37 1277.47 1517.37 M1277.47 1513.66 Q1283.28 1513.66 1286.33 1518.27 Q1289.41 1522.85 1289.41 1531.6 Q1289.41 1540.33 1286.33 1544.94 Q1283.28 1549.52 1277.47 1549.52 Q1271.66 1549.52 1268.58 1544.94 Q1265.52 1540.33 1265.52 1531.6 Q1265.52 1522.85 1268.58 1518.27 Q1271.66 1513.66 1277.47 1513.66 Z\" fill=\"#000000\" fill-rule=\"evenodd\" fill-opacity=\"1\" /><path clip-path=\"url(#clip260)\" d=\"M1727.84 1544.91 L1744.15 1544.91 L1744.15 1548.85 L1722.21 1548.85 L1722.21 1544.91 Q1724.87 1542.16 1729.46 1537.53 Q1734.06 1532.88 1735.24 1531.53 Q1737.49 1529.01 1738.37 1527.27 Q1739.27 1525.51 1739.27 1523.82 Q1739.27 1521.07 1737.33 1519.33 Q1735.4 1517.6 1732.3 1517.6 Q1730.1 1517.6 1727.65 1518.36 Q1725.22 1519.13 1722.44 1520.68 L1722.44 1515.95 Q1725.27 1514.82 1727.72 1514.24 Q1730.17 1513.66 1732.21 1513.66 Q1737.58 1513.66 1740.78 1516.35 Q1743.97 1519.03 1743.97 1523.52 Q1743.97 1525.65 1743.16 1527.57 Q1742.37 1529.47 1740.27 1532.07 Q1739.69 1532.74 1736.59 1535.95 Q1733.48 1539.15 1727.84 1544.91 Z\" fill=\"#000000\" fill-rule=\"evenodd\" fill-opacity=\"1\" /><path clip-path=\"url(#clip260)\" d=\"M2191.91 1518.36 L2180.1 1536.81 L2191.91 1536.81 L2191.91 1518.36 M2190.68 1514.29 L2196.56 1514.29 L2196.56 1536.81 L2201.49 1536.81 L2201.49 1540.7 L2196.56 1540.7 L2196.56 1548.85 L2191.91 1548.85 L2191.91 1540.7 L2176.31 1540.7 L2176.31 1536.19 L2190.68 1514.29 Z\" fill=\"#000000\" fill-rule=\"evenodd\" fill-opacity=\"1\" /><polyline clip-path=\"url(#clip262)\" style=\"stroke:#000000; stroke-linecap:round; stroke-linejoin:round; stroke-width:2; stroke-opacity:0.1; fill:none\" points=\"202.177,1445.72 2352.76,1445.72 \"/>\n<polyline clip-path=\"url(#clip262)\" style=\"stroke:#000000; stroke-linecap:round; stroke-linejoin:round; stroke-width:2; stroke-opacity:0.1; fill:none\" points=\"202.177,1100.76 2352.76,1100.76 \"/>\n<polyline clip-path=\"url(#clip262)\" style=\"stroke:#000000; stroke-linecap:round; stroke-linejoin:round; stroke-width:2; stroke-opacity:0.1; fill:none\" points=\"202.177,755.807 2352.76,755.807 \"/>\n<polyline clip-path=\"url(#clip262)\" style=\"stroke:#000000; stroke-linecap:round; stroke-linejoin:round; stroke-width:2; stroke-opacity:0.1; fill:none\" points=\"202.177,410.853 2352.76,410.853 \"/>\n<polyline clip-path=\"url(#clip262)\" style=\"stroke:#000000; stroke-linecap:round; stroke-linejoin:round; stroke-width:2; stroke-opacity:0.1; fill:none\" points=\"202.177,65.8992 2352.76,65.8992 \"/>\n<polyline clip-path=\"url(#clip260)\" style=\"stroke:#000000; stroke-linecap:round; stroke-linejoin:round; stroke-width:4; stroke-opacity:1; fill:none\" points=\"202.177,1486.45 202.177,47.2441 \"/>\n<polyline clip-path=\"url(#clip260)\" style=\"stroke:#000000; stroke-linecap:round; stroke-linejoin:round; stroke-width:4; stroke-opacity:1; fill:none\" points=\"202.177,1445.72 221.074,1445.72 \"/>\n<polyline clip-path=\"url(#clip260)\" style=\"stroke:#000000; stroke-linecap:round; stroke-linejoin:round; stroke-width:4; stroke-opacity:1; fill:none\" points=\"202.177,1100.76 221.074,1100.76 \"/>\n<polyline clip-path=\"url(#clip260)\" style=\"stroke:#000000; stroke-linecap:round; stroke-linejoin:round; stroke-width:4; stroke-opacity:1; fill:none\" points=\"202.177,755.807 221.074,755.807 \"/>\n<polyline clip-path=\"url(#clip260)\" style=\"stroke:#000000; stroke-linecap:round; stroke-linejoin:round; stroke-width:4; stroke-opacity:1; fill:none\" points=\"202.177,410.853 221.074,410.853 \"/>\n<polyline clip-path=\"url(#clip260)\" style=\"stroke:#000000; stroke-linecap:round; stroke-linejoin:round; stroke-width:4; stroke-opacity:1; fill:none\" points=\"202.177,65.8992 221.074,65.8992 \"/>\n<path clip-path=\"url(#clip260)\" d=\"M154.232 1431.51 Q150.621 1431.51 148.793 1435.08 Q146.987 1438.62 146.987 1445.75 Q146.987 1452.86 148.793 1456.42 Q150.621 1459.96 154.232 1459.96 Q157.867 1459.96 159.672 1456.42 Q161.501 1452.86 161.501 1445.75 Q161.501 1438.62 159.672 1435.08 Q157.867 1431.51 154.232 1431.51 M154.232 1427.81 Q160.042 1427.81 163.098 1432.42 Q166.177 1437 166.177 1445.75 Q166.177 1454.48 163.098 1459.08 Q160.042 1463.67 154.232 1463.67 Q148.422 1463.67 145.343 1459.08 Q142.288 1454.48 142.288 1445.75 Q142.288 1437 145.343 1432.42 Q148.422 1427.81 154.232 1427.81 Z\" fill=\"#000000\" fill-rule=\"evenodd\" fill-opacity=\"1\" /><path clip-path=\"url(#clip260)\" d=\"M57.7745 1114.11 L74.0939 1114.11 L74.0939 1118.04 L52.1495 1118.04 L52.1495 1114.11 Q54.8115 1111.35 59.3949 1106.72 Q64.0013 1102.07 65.1819 1100.73 Q67.4272 1098.2 68.3068 1096.47 Q69.2096 1094.71 69.2096 1093.02 Q69.2096 1090.26 67.2652 1088.53 Q65.3439 1086.79 62.2421 1086.79 Q60.043 1086.79 57.5893 1087.56 Q55.1588 1088.32 52.381 1089.87 L52.381 1085.15 Q55.2051 1084.01 57.6588 1083.44 Q60.1124 1082.86 62.1495 1082.86 Q67.5198 1082.86 70.7142 1085.54 Q73.9087 1088.23 73.9087 1092.72 Q73.9087 1094.85 73.0985 1096.77 Q72.3115 1098.67 70.205 1101.26 Q69.6263 1101.93 66.5245 1105.15 Q63.4226 1108.34 57.7745 1114.11 Z\" fill=\"#000000\" fill-rule=\"evenodd\" fill-opacity=\"1\" /><path clip-path=\"url(#clip260)\" d=\"M93.9086 1086.56 Q90.2975 1086.56 88.4688 1090.13 Q86.6632 1093.67 86.6632 1100.8 Q86.6632 1107.9 88.4688 1111.47 Q90.2975 1115.01 93.9086 1115.01 Q97.5428 1115.01 99.3483 1111.47 Q101.177 1107.9 101.177 1100.8 Q101.177 1093.67 99.3483 1090.13 Q97.5428 1086.56 93.9086 1086.56 M93.9086 1082.86 Q99.7187 1082.86 102.774 1087.46 Q105.853 1092.05 105.853 1100.8 Q105.853 1109.52 102.774 1114.13 Q99.7187 1118.71 93.9086 1118.71 Q88.0984 1118.71 85.0197 1114.13 Q81.9642 1109.52 81.9642 1100.8 Q81.9642 1092.05 85.0197 1087.46 Q88.0984 1082.86 93.9086 1082.86 Z\" fill=\"#000000\" fill-rule=\"evenodd\" fill-opacity=\"1\" /><path clip-path=\"url(#clip260)\" d=\"M124.07 1086.56 Q120.459 1086.56 118.631 1090.13 Q116.825 1093.67 116.825 1100.8 Q116.825 1107.9 118.631 1111.47 Q120.459 1115.01 124.07 1115.01 Q127.705 1115.01 129.51 1111.47 Q131.339 1107.9 131.339 1100.8 Q131.339 1093.67 129.51 1090.13 Q127.705 1086.56 124.07 1086.56 M124.07 1082.86 Q129.881 1082.86 132.936 1087.46 Q136.015 1092.05 136.015 1100.8 Q136.015 1109.52 132.936 1114.13 Q129.881 1118.71 124.07 1118.71 Q118.26 1118.71 115.182 1114.13 Q112.126 1109.52 112.126 1100.8 Q112.126 1092.05 115.182 1087.46 Q118.26 1082.86 124.07 1082.86 Z\" fill=\"#000000\" fill-rule=\"evenodd\" fill-opacity=\"1\" /><path clip-path=\"url(#clip260)\" d=\"M154.232 1086.56 Q150.621 1086.56 148.793 1090.13 Q146.987 1093.67 146.987 1100.8 Q146.987 1107.9 148.793 1111.47 Q150.621 1115.01 154.232 1115.01 Q157.867 1115.01 159.672 1111.47 Q161.501 1107.9 161.501 1100.8 Q161.501 1093.67 159.672 1090.13 Q157.867 1086.56 154.232 1086.56 M154.232 1082.86 Q160.042 1082.86 163.098 1087.46 Q166.177 1092.05 166.177 1100.8 Q166.177 1109.52 163.098 1114.13 Q160.042 1118.71 154.232 1118.71 Q148.422 1118.71 145.343 1114.13 Q142.288 1109.52 142.288 1100.8 Q142.288 1092.05 145.343 1087.46 Q148.422 1082.86 154.232 1082.86 Z\" fill=\"#000000\" fill-rule=\"evenodd\" fill-opacity=\"1\" /><path clip-path=\"url(#clip260)\" d=\"M66.5939 742.602 L54.7884 761.05 L66.5939 761.05 L66.5939 742.602 M65.367 738.527 L71.2466 738.527 L71.2466 761.05 L76.1772 761.05 L76.1772 764.939 L71.2466 764.939 L71.2466 773.087 L66.5939 773.087 L66.5939 764.939 L50.9921 764.939 L50.9921 760.425 L65.367 738.527 Z\" fill=\"#000000\" fill-rule=\"evenodd\" fill-opacity=\"1\" /><path clip-path=\"url(#clip260)\" d=\"M93.9086 741.606 Q90.2975 741.606 88.4688 745.171 Q86.6632 748.713 86.6632 755.842 Q86.6632 762.949 88.4688 766.513 Q90.2975 770.055 93.9086 770.055 Q97.5428 770.055 99.3483 766.513 Q101.177 762.949 101.177 755.842 Q101.177 748.713 99.3483 745.171 Q97.5428 741.606 93.9086 741.606 M93.9086 737.902 Q99.7187 737.902 102.774 742.509 Q105.853 747.092 105.853 755.842 Q105.853 764.569 102.774 769.175 Q99.7187 773.759 93.9086 773.759 Q88.0984 773.759 85.0197 769.175 Q81.9642 764.569 81.9642 755.842 Q81.9642 747.092 85.0197 742.509 Q88.0984 737.902 93.9086 737.902 Z\" fill=\"#000000\" fill-rule=\"evenodd\" fill-opacity=\"1\" /><path clip-path=\"url(#clip260)\" d=\"M124.07 741.606 Q120.459 741.606 118.631 745.171 Q116.825 748.713 116.825 755.842 Q116.825 762.949 118.631 766.513 Q120.459 770.055 124.07 770.055 Q127.705 770.055 129.51 766.513 Q131.339 762.949 131.339 755.842 Q131.339 748.713 129.51 745.171 Q127.705 741.606 124.07 741.606 M124.07 737.902 Q129.881 737.902 132.936 742.509 Q136.015 747.092 136.015 755.842 Q136.015 764.569 132.936 769.175 Q129.881 773.759 124.07 773.759 Q118.26 773.759 115.182 769.175 Q112.126 764.569 112.126 755.842 Q112.126 747.092 115.182 742.509 Q118.26 737.902 124.07 737.902 Z\" fill=\"#000000\" fill-rule=\"evenodd\" fill-opacity=\"1\" /><path clip-path=\"url(#clip260)\" d=\"M154.232 741.606 Q150.621 741.606 148.793 745.171 Q146.987 748.713 146.987 755.842 Q146.987 762.949 148.793 766.513 Q150.621 770.055 154.232 770.055 Q157.867 770.055 159.672 766.513 Q161.501 762.949 161.501 755.842 Q161.501 748.713 159.672 745.171 Q157.867 741.606 154.232 741.606 M154.232 737.902 Q160.042 737.902 163.098 742.509 Q166.177 747.092 166.177 755.842 Q166.177 764.569 163.098 769.175 Q160.042 773.759 154.232 773.759 Q148.422 773.759 145.343 769.175 Q142.288 764.569 142.288 755.842 Q142.288 747.092 145.343 742.509 Q148.422 737.902 154.232 737.902 Z\" fill=\"#000000\" fill-rule=\"evenodd\" fill-opacity=\"1\" /><path clip-path=\"url(#clip260)\" d=\"M64.3254 408.99 Q61.1773 408.99 59.3254 411.143 Q57.4967 413.295 57.4967 417.045 Q57.4967 420.772 59.3254 422.948 Q61.1773 425.101 64.3254 425.101 Q67.4735 425.101 69.3022 422.948 Q71.1541 420.772 71.1541 417.045 Q71.1541 413.295 69.3022 411.143 Q67.4735 408.99 64.3254 408.99 M73.6077 394.337 L73.6077 398.596 Q71.8485 397.763 70.0429 397.323 Q68.2606 396.884 66.5013 396.884 Q61.8717 396.884 59.418 400.008 Q56.9875 403.133 56.6402 409.453 Q58.006 407.439 60.0662 406.374 Q62.1263 405.286 64.6032 405.286 Q69.8115 405.286 72.8207 408.458 Q75.8531 411.606 75.8531 417.045 Q75.8531 422.369 72.705 425.587 Q69.5568 428.805 64.3254 428.805 Q58.33 428.805 55.1588 424.221 Q51.9875 419.615 51.9875 410.888 Q51.9875 402.694 55.8764 397.833 Q59.7652 392.948 66.3161 392.948 Q68.0754 392.948 69.8578 393.296 Q71.6633 393.643 73.6077 394.337 Z\" fill=\"#000000\" fill-rule=\"evenodd\" fill-opacity=\"1\" /><path clip-path=\"url(#clip260)\" d=\"M93.9086 396.652 Q90.2975 396.652 88.4688 400.217 Q86.6632 403.758 86.6632 410.888 Q86.6632 417.994 88.4688 421.559 Q90.2975 425.101 93.9086 425.101 Q97.5428 425.101 99.3483 421.559 Q101.177 417.994 101.177 410.888 Q101.177 403.758 99.3483 400.217 Q97.5428 396.652 93.9086 396.652 M93.9086 392.948 Q99.7187 392.948 102.774 397.555 Q105.853 402.138 105.853 410.888 Q105.853 419.615 102.774 424.221 Q99.7187 428.805 93.9086 428.805 Q88.0984 428.805 85.0197 424.221 Q81.9642 419.615 81.9642 410.888 Q81.9642 402.138 85.0197 397.555 Q88.0984 392.948 93.9086 392.948 Z\" fill=\"#000000\" fill-rule=\"evenodd\" fill-opacity=\"1\" /><path clip-path=\"url(#clip260)\" d=\"M124.07 396.652 Q120.459 396.652 118.631 400.217 Q116.825 403.758 116.825 410.888 Q116.825 417.994 118.631 421.559 Q120.459 425.101 124.07 425.101 Q127.705 425.101 129.51 421.559 Q131.339 417.994 131.339 410.888 Q131.339 403.758 129.51 400.217 Q127.705 396.652 124.07 396.652 M124.07 392.948 Q129.881 392.948 132.936 397.555 Q136.015 402.138 136.015 410.888 Q136.015 419.615 132.936 424.221 Q129.881 428.805 124.07 428.805 Q118.26 428.805 115.182 424.221 Q112.126 419.615 112.126 410.888 Q112.126 402.138 115.182 397.555 Q118.26 392.948 124.07 392.948 Z\" fill=\"#000000\" fill-rule=\"evenodd\" fill-opacity=\"1\" /><path clip-path=\"url(#clip260)\" d=\"M154.232 396.652 Q150.621 396.652 148.793 400.217 Q146.987 403.758 146.987 410.888 Q146.987 417.994 148.793 421.559 Q150.621 425.101 154.232 425.101 Q157.867 425.101 159.672 421.559 Q161.501 417.994 161.501 410.888 Q161.501 403.758 159.672 400.217 Q157.867 396.652 154.232 396.652 M154.232 392.948 Q160.042 392.948 163.098 397.555 Q166.177 402.138 166.177 410.888 Q166.177 419.615 163.098 424.221 Q160.042 428.805 154.232 428.805 Q148.422 428.805 145.343 424.221 Q142.288 419.615 142.288 410.888 Q142.288 402.138 145.343 397.555 Q148.422 392.948 154.232 392.948 Z\" fill=\"#000000\" fill-rule=\"evenodd\" fill-opacity=\"1\" /><path clip-path=\"url(#clip260)\" d=\"M63.7467 66.7673 Q60.4134 66.7673 58.4921 68.5497 Q56.5939 70.3321 56.5939 73.457 Q56.5939 76.582 58.4921 78.3644 Q60.4134 80.1468 63.7467 80.1468 Q67.08 80.1468 69.0013 78.3644 Q70.9226 76.5589 70.9226 73.457 Q70.9226 70.3321 69.0013 68.5497 Q67.1032 66.7673 63.7467 66.7673 M59.0708 64.7765 Q56.0615 64.0358 54.3717 61.9756 Q52.7051 59.9154 52.7051 56.9525 Q52.7051 52.809 55.6449 50.4016 Q58.6078 47.9942 63.7467 47.9942 Q68.9087 47.9942 71.8485 50.4016 Q74.7883 52.809 74.7883 56.9525 Q74.7883 59.9154 73.0985 61.9756 Q71.4318 64.0358 68.4457 64.7765 Q71.8253 65.5636 73.7003 67.8552 Q75.5985 70.1469 75.5985 73.457 Q75.5985 78.4802 72.5198 81.1653 Q69.4642 83.8505 63.7467 83.8505 Q58.0291 83.8505 54.9504 81.1653 Q51.8949 78.4802 51.8949 73.457 Q51.8949 70.1469 53.793 67.8552 Q55.6912 65.5636 59.0708 64.7765 M57.3578 57.3923 Q57.3578 60.0775 59.0245 61.5821 Q60.7143 63.0867 63.7467 63.0867 Q66.7559 63.0867 68.4457 61.5821 Q70.1587 60.0775 70.1587 57.3923 Q70.1587 54.7071 68.4457 53.2025 Q66.7559 51.6979 63.7467 51.6979 Q60.7143 51.6979 59.0245 53.2025 Q57.3578 54.7071 57.3578 57.3923 Z\" fill=\"#000000\" fill-rule=\"evenodd\" fill-opacity=\"1\" /><path clip-path=\"url(#clip260)\" d=\"M93.9086 51.6979 Q90.2975 51.6979 88.4688 55.2627 Q86.6632 58.8043 86.6632 65.9339 Q86.6632 73.0404 88.4688 76.6052 Q90.2975 80.1468 93.9086 80.1468 Q97.5428 80.1468 99.3483 76.6052 Q101.177 73.0404 101.177 65.9339 Q101.177 58.8043 99.3483 55.2627 Q97.5428 51.6979 93.9086 51.6979 M93.9086 47.9942 Q99.7187 47.9942 102.774 52.6007 Q105.853 57.184 105.853 65.9339 Q105.853 74.6607 102.774 79.2672 Q99.7187 83.8505 93.9086 83.8505 Q88.0984 83.8505 85.0197 79.2672 Q81.9642 74.6607 81.9642 65.9339 Q81.9642 57.184 85.0197 52.6007 Q88.0984 47.9942 93.9086 47.9942 Z\" fill=\"#000000\" fill-rule=\"evenodd\" fill-opacity=\"1\" /><path clip-path=\"url(#clip260)\" d=\"M124.07 51.6979 Q120.459 51.6979 118.631 55.2627 Q116.825 58.8043 116.825 65.9339 Q116.825 73.0404 118.631 76.6052 Q120.459 80.1468 124.07 80.1468 Q127.705 80.1468 129.51 76.6052 Q131.339 73.0404 131.339 65.9339 Q131.339 58.8043 129.51 55.2627 Q127.705 51.6979 124.07 51.6979 M124.07 47.9942 Q129.881 47.9942 132.936 52.6007 Q136.015 57.184 136.015 65.9339 Q136.015 74.6607 132.936 79.2672 Q129.881 83.8505 124.07 83.8505 Q118.26 83.8505 115.182 79.2672 Q112.126 74.6607 112.126 65.9339 Q112.126 57.184 115.182 52.6007 Q118.26 47.9942 124.07 47.9942 Z\" fill=\"#000000\" fill-rule=\"evenodd\" fill-opacity=\"1\" /><path clip-path=\"url(#clip260)\" d=\"M154.232 51.6979 Q150.621 51.6979 148.793 55.2627 Q146.987 58.8043 146.987 65.9339 Q146.987 73.0404 148.793 76.6052 Q150.621 80.1468 154.232 80.1468 Q157.867 80.1468 159.672 76.6052 Q161.501 73.0404 161.501 65.9339 Q161.501 58.8043 159.672 55.2627 Q157.867 51.6979 154.232 51.6979 M154.232 47.9942 Q160.042 47.9942 163.098 52.6007 Q166.177 57.184 166.177 65.9339 Q166.177 74.6607 163.098 79.2672 Q160.042 83.8505 154.232 83.8505 Q148.422 83.8505 145.343 79.2672 Q142.288 74.6607 142.288 65.9339 Q142.288 57.184 145.343 52.6007 Q148.422 47.9942 154.232 47.9942 Z\" fill=\"#000000\" fill-rule=\"evenodd\" fill-opacity=\"1\" /><path clip-path=\"url(#clip262)\" d=\"M320.462 1445.37 L320.462 1445.72 L366.034 1445.72 L366.034 1445.37 L320.462 1445.37 L320.462 1445.37  Z\" fill=\"#009af9\" fill-rule=\"evenodd\" fill-opacity=\"1\"/>\n<polyline clip-path=\"url(#clip262)\" style=\"stroke:#000000; stroke-linecap:round; stroke-linejoin:round; stroke-width:4; stroke-opacity:1; fill:none\" points=\"320.462,1445.37 320.462,1445.72 366.034,1445.72 366.034,1445.37 320.462,1445.37 \"/>\n<path clip-path=\"url(#clip262)\" d=\"M366.034 1444.85 L366.034 1445.72 L411.606 1445.72 L411.606 1444.85 L366.034 1444.85 L366.034 1444.85  Z\" fill=\"#009af9\" fill-rule=\"evenodd\" fill-opacity=\"1\"/>\n<polyline clip-path=\"url(#clip262)\" style=\"stroke:#000000; stroke-linecap:round; stroke-linejoin:round; stroke-width:4; stroke-opacity:1; fill:none\" points=\"366.034,1444.85 366.034,1445.72 411.606,1445.72 411.606,1444.85 366.034,1444.85 \"/>\n<path clip-path=\"url(#clip262)\" d=\"M411.606 1443.99 L411.606 1445.72 L457.177 1445.72 L457.177 1443.99 L411.606 1443.99 L411.606 1443.99  Z\" fill=\"#009af9\" fill-rule=\"evenodd\" fill-opacity=\"1\"/>\n<polyline clip-path=\"url(#clip262)\" style=\"stroke:#000000; stroke-linecap:round; stroke-linejoin:round; stroke-width:4; stroke-opacity:1; fill:none\" points=\"411.606,1443.99 411.606,1445.72 457.177,1445.72 457.177,1443.99 411.606,1443.99 \"/>\n<path clip-path=\"url(#clip262)\" d=\"M457.177 1443.3 L457.177 1445.72 L502.749 1445.72 L502.749 1443.3 L457.177 1443.3 L457.177 1443.3  Z\" fill=\"#009af9\" fill-rule=\"evenodd\" fill-opacity=\"1\"/>\n<polyline clip-path=\"url(#clip262)\" style=\"stroke:#000000; stroke-linecap:round; stroke-linejoin:round; stroke-width:4; stroke-opacity:1; fill:none\" points=\"457.177,1443.3 457.177,1445.72 502.749,1445.72 502.749,1443.3 457.177,1443.3 \"/>\n<path clip-path=\"url(#clip262)\" d=\"M502.749 1439.33 L502.749 1445.72 L548.32 1445.72 L548.32 1439.33 L502.749 1439.33 L502.749 1439.33  Z\" fill=\"#009af9\" fill-rule=\"evenodd\" fill-opacity=\"1\"/>\n<polyline clip-path=\"url(#clip262)\" style=\"stroke:#000000; stroke-linecap:round; stroke-linejoin:round; stroke-width:4; stroke-opacity:1; fill:none\" points=\"502.749,1439.33 502.749,1445.72 548.32,1445.72 548.32,1439.33 502.749,1439.33 \"/>\n<path clip-path=\"url(#clip262)\" d=\"M548.32 1433.3 L548.32 1445.72 L593.892 1445.72 L593.892 1433.3 L548.32 1433.3 L548.32 1433.3  Z\" fill=\"#009af9\" fill-rule=\"evenodd\" fill-opacity=\"1\"/>\n<polyline clip-path=\"url(#clip262)\" style=\"stroke:#000000; stroke-linecap:round; stroke-linejoin:round; stroke-width:4; stroke-opacity:1; fill:none\" points=\"548.32,1433.3 548.32,1445.72 593.892,1445.72 593.892,1433.3 548.32,1433.3 \"/>\n<path clip-path=\"url(#clip262)\" d=\"M593.892 1425.02 L593.892 1445.72 L639.464 1445.72 L639.464 1425.02 L593.892 1425.02 L593.892 1425.02  Z\" fill=\"#009af9\" fill-rule=\"evenodd\" fill-opacity=\"1\"/>\n<polyline clip-path=\"url(#clip262)\" style=\"stroke:#000000; stroke-linecap:round; stroke-linejoin:round; stroke-width:4; stroke-opacity:1; fill:none\" points=\"593.892,1425.02 593.892,1445.72 639.464,1445.72 639.464,1425.02 593.892,1425.02 \"/>\n<path clip-path=\"url(#clip262)\" d=\"M639.464 1410.01 L639.464 1445.72 L685.035 1445.72 L685.035 1410.01 L639.464 1410.01 L639.464 1410.01  Z\" fill=\"#009af9\" fill-rule=\"evenodd\" fill-opacity=\"1\"/>\n<polyline clip-path=\"url(#clip262)\" style=\"stroke:#000000; stroke-linecap:round; stroke-linejoin:round; stroke-width:4; stroke-opacity:1; fill:none\" points=\"639.464,1410.01 639.464,1445.72 685.035,1445.72 685.035,1410.01 639.464,1410.01 \"/>\n<path clip-path=\"url(#clip262)\" d=\"M685.035 1384.83 L685.035 1445.72 L730.607 1445.72 L730.607 1384.83 L685.035 1384.83 L685.035 1384.83  Z\" fill=\"#009af9\" fill-rule=\"evenodd\" fill-opacity=\"1\"/>\n<polyline clip-path=\"url(#clip262)\" style=\"stroke:#000000; stroke-linecap:round; stroke-linejoin:round; stroke-width:4; stroke-opacity:1; fill:none\" points=\"685.035,1384.83 685.035,1445.72 730.607,1445.72 730.607,1384.83 685.035,1384.83 \"/>\n<path clip-path=\"url(#clip262)\" d=\"M730.607 1338.43 L730.607 1445.72 L776.179 1445.72 L776.179 1338.43 L730.607 1338.43 L730.607 1338.43  Z\" fill=\"#009af9\" fill-rule=\"evenodd\" fill-opacity=\"1\"/>\n<polyline clip-path=\"url(#clip262)\" style=\"stroke:#000000; stroke-linecap:round; stroke-linejoin:round; stroke-width:4; stroke-opacity:1; fill:none\" points=\"730.607,1338.43 730.607,1445.72 776.179,1445.72 776.179,1338.43 730.607,1338.43 \"/>\n<path clip-path=\"url(#clip262)\" d=\"M776.179 1301.7 L776.179 1445.72 L821.75 1445.72 L821.75 1301.7 L776.179 1301.7 L776.179 1301.7  Z\" fill=\"#009af9\" fill-rule=\"evenodd\" fill-opacity=\"1\"/>\n<polyline clip-path=\"url(#clip262)\" style=\"stroke:#000000; stroke-linecap:round; stroke-linejoin:round; stroke-width:4; stroke-opacity:1; fill:none\" points=\"776.179,1301.7 776.179,1445.72 821.75,1445.72 821.75,1301.7 776.179,1301.7 \"/>\n<path clip-path=\"url(#clip262)\" d=\"M821.75 1220.98 L821.75 1445.72 L867.322 1445.72 L867.322 1220.98 L821.75 1220.98 L821.75 1220.98  Z\" fill=\"#009af9\" fill-rule=\"evenodd\" fill-opacity=\"1\"/>\n<polyline clip-path=\"url(#clip262)\" style=\"stroke:#000000; stroke-linecap:round; stroke-linejoin:round; stroke-width:4; stroke-opacity:1; fill:none\" points=\"821.75,1220.98 821.75,1445.72 867.322,1445.72 867.322,1220.98 821.75,1220.98 \"/>\n<path clip-path=\"url(#clip262)\" d=\"M867.322 1106.11 L867.322 1445.72 L912.893 1445.72 L912.893 1106.11 L867.322 1106.11 L867.322 1106.11  Z\" fill=\"#009af9\" fill-rule=\"evenodd\" fill-opacity=\"1\"/>\n<polyline clip-path=\"url(#clip262)\" style=\"stroke:#000000; stroke-linecap:round; stroke-linejoin:round; stroke-width:4; stroke-opacity:1; fill:none\" points=\"867.322,1106.11 867.322,1445.72 912.893,1445.72 912.893,1106.11 867.322,1106.11 \"/>\n<path clip-path=\"url(#clip262)\" d=\"M912.893 992.618 L912.893 1445.72 L958.465 1445.72 L958.465 992.618 L912.893 992.618 L912.893 992.618  Z\" fill=\"#009af9\" fill-rule=\"evenodd\" fill-opacity=\"1\"/>\n<polyline clip-path=\"url(#clip262)\" style=\"stroke:#000000; stroke-linecap:round; stroke-linejoin:round; stroke-width:4; stroke-opacity:1; fill:none\" points=\"912.893,992.618 912.893,1445.72 958.465,1445.72 958.465,992.618 912.893,992.618 \"/>\n<path clip-path=\"url(#clip262)\" d=\"M958.465 855.154 L958.465 1445.72 L1004.04 1445.72 L1004.04 855.154 L958.465 855.154 L958.465 855.154  Z\" fill=\"#009af9\" fill-rule=\"evenodd\" fill-opacity=\"1\"/>\n<polyline clip-path=\"url(#clip262)\" style=\"stroke:#000000; stroke-linecap:round; stroke-linejoin:round; stroke-width:4; stroke-opacity:1; fill:none\" points=\"958.465,855.154 958.465,1445.72 1004.04,1445.72 1004.04,855.154 958.465,855.154 \"/>\n<path clip-path=\"url(#clip262)\" d=\"M1004.04 708.894 L1004.04 1445.72 L1049.61 1445.72 L1049.61 708.894 L1004.04 708.894 L1004.04 708.894  Z\" fill=\"#009af9\" fill-rule=\"evenodd\" fill-opacity=\"1\"/>\n<polyline clip-path=\"url(#clip262)\" style=\"stroke:#000000; stroke-linecap:round; stroke-linejoin:round; stroke-width:4; stroke-opacity:1; fill:none\" points=\"1004.04,708.894 1004.04,1445.72 1049.61,1445.72 1049.61,708.894 1004.04,708.894 \"/>\n<path clip-path=\"url(#clip262)\" d=\"M1049.61 538.659 L1049.61 1445.72 L1095.18 1445.72 L1095.18 538.659 L1049.61 538.659 L1049.61 538.659  Z\" fill=\"#009af9\" fill-rule=\"evenodd\" fill-opacity=\"1\"/>\n<polyline clip-path=\"url(#clip262)\" style=\"stroke:#000000; stroke-linecap:round; stroke-linejoin:round; stroke-width:4; stroke-opacity:1; fill:none\" points=\"1049.61,538.659 1049.61,1445.72 1095.18,1445.72 1095.18,538.659 1049.61,538.659 \"/>\n<path clip-path=\"url(#clip262)\" d=\"M1095.18 352.211 L1095.18 1445.72 L1140.75 1445.72 L1140.75 352.211 L1095.18 352.211 L1095.18 352.211  Z\" fill=\"#009af9\" fill-rule=\"evenodd\" fill-opacity=\"1\"/>\n<polyline clip-path=\"url(#clip262)\" style=\"stroke:#000000; stroke-linecap:round; stroke-linejoin:round; stroke-width:4; stroke-opacity:1; fill:none\" points=\"1095.18,352.211 1095.18,1445.72 1140.75,1445.72 1140.75,352.211 1095.18,352.211 \"/>\n<path clip-path=\"url(#clip262)\" d=\"M1140.75 239.066 L1140.75 1445.72 L1186.32 1445.72 L1186.32 239.066 L1140.75 239.066 L1140.75 239.066  Z\" fill=\"#009af9\" fill-rule=\"evenodd\" fill-opacity=\"1\"/>\n<polyline clip-path=\"url(#clip262)\" style=\"stroke:#000000; stroke-linecap:round; stroke-linejoin:round; stroke-width:4; stroke-opacity:1; fill:none\" points=\"1140.75,239.066 1140.75,1445.72 1186.32,1445.72 1186.32,239.066 1140.75,239.066 \"/>\n<path clip-path=\"url(#clip262)\" d=\"M1186.32 112.813 L1186.32 1445.72 L1231.89 1445.72 L1231.89 112.813 L1186.32 112.813 L1186.32 112.813  Z\" fill=\"#009af9\" fill-rule=\"evenodd\" fill-opacity=\"1\"/>\n<polyline clip-path=\"url(#clip262)\" style=\"stroke:#000000; stroke-linecap:round; stroke-linejoin:round; stroke-width:4; stroke-opacity:1; fill:none\" points=\"1186.32,112.813 1186.32,1445.72 1231.89,1445.72 1231.89,112.813 1186.32,112.813 \"/>\n<path clip-path=\"url(#clip262)\" d=\"M1231.89 87.9763 L1231.89 1445.72 L1277.47 1445.72 L1277.47 87.9763 L1231.89 87.9763 L1231.89 87.9763  Z\" fill=\"#009af9\" fill-rule=\"evenodd\" fill-opacity=\"1\"/>\n<polyline clip-path=\"url(#clip262)\" style=\"stroke:#000000; stroke-linecap:round; stroke-linejoin:round; stroke-width:4; stroke-opacity:1; fill:none\" points=\"1231.89,87.9763 1231.89,1445.72 1277.47,1445.72 1277.47,87.9763 1231.89,87.9763 \"/>\n<path clip-path=\"url(#clip262)\" d=\"M1277.47 96.6001 L1277.47 1445.72 L1323.04 1445.72 L1323.04 96.6001 L1277.47 96.6001 L1277.47 96.6001  Z\" fill=\"#009af9\" fill-rule=\"evenodd\" fill-opacity=\"1\"/>\n<polyline clip-path=\"url(#clip262)\" style=\"stroke:#000000; stroke-linecap:round; stroke-linejoin:round; stroke-width:4; stroke-opacity:1; fill:none\" points=\"1277.47,96.6001 1277.47,1445.72 1323.04,1445.72 1323.04,96.6001 1277.47,96.6001 \"/>\n<path clip-path=\"url(#clip262)\" d=\"M1323.04 124.024 L1323.04 1445.72 L1368.61 1445.72 L1368.61 124.024 L1323.04 124.024 L1323.04 124.024  Z\" fill=\"#009af9\" fill-rule=\"evenodd\" fill-opacity=\"1\"/>\n<polyline clip-path=\"url(#clip262)\" style=\"stroke:#000000; stroke-linecap:round; stroke-linejoin:round; stroke-width:4; stroke-opacity:1; fill:none\" points=\"1323.04,124.024 1323.04,1445.72 1368.61,1445.72 1368.61,124.024 1323.04,124.024 \"/>\n<path clip-path=\"url(#clip262)\" d=\"M1368.61 235.617 L1368.61 1445.72 L1414.18 1445.72 L1414.18 235.617 L1368.61 235.617 L1368.61 235.617  Z\" fill=\"#009af9\" fill-rule=\"evenodd\" fill-opacity=\"1\"/>\n<polyline clip-path=\"url(#clip262)\" style=\"stroke:#000000; stroke-linecap:round; stroke-linejoin:round; stroke-width:4; stroke-opacity:1; fill:none\" points=\"1368.61,235.617 1368.61,1445.72 1414.18,1445.72 1414.18,235.617 1368.61,235.617 \"/>\n<path clip-path=\"url(#clip262)\" d=\"M1414.18 391.536 L1414.18 1445.72 L1459.75 1445.72 L1459.75 391.536 L1414.18 391.536 L1414.18 391.536  Z\" fill=\"#009af9\" fill-rule=\"evenodd\" fill-opacity=\"1\"/>\n<polyline clip-path=\"url(#clip262)\" style=\"stroke:#000000; stroke-linecap:round; stroke-linejoin:round; stroke-width:4; stroke-opacity:1; fill:none\" points=\"1414.18,391.536 1414.18,1445.72 1459.75,1445.72 1459.75,391.536 1414.18,391.536 \"/>\n<path clip-path=\"url(#clip262)\" d=\"M1459.75 517.272 L1459.75 1445.72 L1505.32 1445.72 L1505.32 517.272 L1459.75 517.272 L1459.75 517.272  Z\" fill=\"#009af9\" fill-rule=\"evenodd\" fill-opacity=\"1\"/>\n<polyline clip-path=\"url(#clip262)\" style=\"stroke:#000000; stroke-linecap:round; stroke-linejoin:round; stroke-width:4; stroke-opacity:1; fill:none\" points=\"1459.75,517.272 1459.75,1445.72 1505.32,1445.72 1505.32,517.272 1459.75,517.272 \"/>\n<path clip-path=\"url(#clip262)\" d=\"M1505.32 695.44 L1505.32 1445.72 L1550.9 1445.72 L1550.9 695.44 L1505.32 695.44 L1505.32 695.44  Z\" fill=\"#009af9\" fill-rule=\"evenodd\" fill-opacity=\"1\"/>\n<polyline clip-path=\"url(#clip262)\" style=\"stroke:#000000; stroke-linecap:round; stroke-linejoin:round; stroke-width:4; stroke-opacity:1; fill:none\" points=\"1505.32,695.44 1505.32,1445.72 1550.9,1445.72 1550.9,695.44 1505.32,695.44 \"/>\n<path clip-path=\"url(#clip262)\" d=\"M1550.9 854.119 L1550.9 1445.72 L1596.47 1445.72 L1596.47 854.119 L1550.9 854.119 L1550.9 854.119  Z\" fill=\"#009af9\" fill-rule=\"evenodd\" fill-opacity=\"1\"/>\n<polyline clip-path=\"url(#clip262)\" style=\"stroke:#000000; stroke-linecap:round; stroke-linejoin:round; stroke-width:4; stroke-opacity:1; fill:none\" points=\"1550.9,854.119 1550.9,1445.72 1596.47,1445.72 1596.47,854.119 1550.9,854.119 \"/>\n<path clip-path=\"url(#clip262)\" d=\"M1596.47 987.789 L1596.47 1445.72 L1642.04 1445.72 L1642.04 987.789 L1596.47 987.789 L1596.47 987.789  Z\" fill=\"#009af9\" fill-rule=\"evenodd\" fill-opacity=\"1\"/>\n<polyline clip-path=\"url(#clip262)\" style=\"stroke:#000000; stroke-linecap:round; stroke-linejoin:round; stroke-width:4; stroke-opacity:1; fill:none\" points=\"1596.47,987.789 1596.47,1445.72 1642.04,1445.72 1642.04,987.789 1596.47,987.789 \"/>\n<path clip-path=\"url(#clip262)\" d=\"M1642.04 1119.39 L1642.04 1445.72 L1687.61 1445.72 L1687.61 1119.39 L1642.04 1119.39 L1642.04 1119.39  Z\" fill=\"#009af9\" fill-rule=\"evenodd\" fill-opacity=\"1\"/>\n<polyline clip-path=\"url(#clip262)\" style=\"stroke:#000000; stroke-linecap:round; stroke-linejoin:round; stroke-width:4; stroke-opacity:1; fill:none\" points=\"1642.04,1119.39 1642.04,1445.72 1687.61,1445.72 1687.61,1119.39 1642.04,1119.39 \"/>\n<path clip-path=\"url(#clip262)\" d=\"M1687.61 1218.05 L1687.61 1445.72 L1733.18 1445.72 L1733.18 1218.05 L1687.61 1218.05 L1687.61 1218.05  Z\" fill=\"#009af9\" fill-rule=\"evenodd\" fill-opacity=\"1\"/>\n<polyline clip-path=\"url(#clip262)\" style=\"stroke:#000000; stroke-linecap:round; stroke-linejoin:round; stroke-width:4; stroke-opacity:1; fill:none\" points=\"1687.61,1218.05 1687.61,1445.72 1733.18,1445.72 1733.18,1218.05 1687.61,1218.05 \"/>\n<path clip-path=\"url(#clip262)\" d=\"M1733.18 1298.59 L1733.18 1445.72 L1778.75 1445.72 L1778.75 1298.59 L1733.18 1298.59 L1733.18 1298.59  Z\" fill=\"#009af9\" fill-rule=\"evenodd\" fill-opacity=\"1\"/>\n<polyline clip-path=\"url(#clip262)\" style=\"stroke:#000000; stroke-linecap:round; stroke-linejoin:round; stroke-width:4; stroke-opacity:1; fill:none\" points=\"1733.18,1298.59 1733.18,1445.72 1778.75,1445.72 1778.75,1298.59 1733.18,1298.59 \"/>\n<path clip-path=\"url(#clip262)\" d=\"M1778.75 1341.19 L1778.75 1445.72 L1824.33 1445.72 L1824.33 1341.19 L1778.75 1341.19 L1778.75 1341.19  Z\" fill=\"#009af9\" fill-rule=\"evenodd\" fill-opacity=\"1\"/>\n<polyline clip-path=\"url(#clip262)\" style=\"stroke:#000000; stroke-linecap:round; stroke-linejoin:round; stroke-width:4; stroke-opacity:1; fill:none\" points=\"1778.75,1341.19 1778.75,1445.72 1824.33,1445.72 1824.33,1341.19 1778.75,1341.19 \"/>\n<path clip-path=\"url(#clip262)\" d=\"M1824.33 1386.38 L1824.33 1445.72 L1869.9 1445.72 L1869.9 1386.38 L1824.33 1386.38 L1824.33 1386.38  Z\" fill=\"#009af9\" fill-rule=\"evenodd\" fill-opacity=\"1\"/>\n<polyline clip-path=\"url(#clip262)\" style=\"stroke:#000000; stroke-linecap:round; stroke-linejoin:round; stroke-width:4; stroke-opacity:1; fill:none\" points=\"1824.33,1386.38 1824.33,1445.72 1869.9,1445.72 1869.9,1386.38 1824.33,1386.38 \"/>\n<path clip-path=\"url(#clip262)\" d=\"M1869.9 1407.43 L1869.9 1445.72 L1915.47 1445.72 L1915.47 1407.43 L1869.9 1407.43 L1869.9 1407.43  Z\" fill=\"#009af9\" fill-rule=\"evenodd\" fill-opacity=\"1\"/>\n<polyline clip-path=\"url(#clip262)\" style=\"stroke:#000000; stroke-linecap:round; stroke-linejoin:round; stroke-width:4; stroke-opacity:1; fill:none\" points=\"1869.9,1407.43 1869.9,1445.72 1915.47,1445.72 1915.47,1407.43 1869.9,1407.43 \"/>\n<path clip-path=\"url(#clip262)\" d=\"M1915.47 1424.33 L1915.47 1445.72 L1961.04 1445.72 L1961.04 1424.33 L1915.47 1424.33 L1915.47 1424.33  Z\" fill=\"#009af9\" fill-rule=\"evenodd\" fill-opacity=\"1\"/>\n<polyline clip-path=\"url(#clip262)\" style=\"stroke:#000000; stroke-linecap:round; stroke-linejoin:round; stroke-width:4; stroke-opacity:1; fill:none\" points=\"1915.47,1424.33 1915.47,1445.72 1961.04,1445.72 1961.04,1424.33 1915.47,1424.33 \"/>\n<path clip-path=\"url(#clip262)\" d=\"M1961.04 1435.37 L1961.04 1445.72 L2006.61 1445.72 L2006.61 1435.37 L1961.04 1435.37 L1961.04 1435.37  Z\" fill=\"#009af9\" fill-rule=\"evenodd\" fill-opacity=\"1\"/>\n<polyline clip-path=\"url(#clip262)\" style=\"stroke:#000000; stroke-linecap:round; stroke-linejoin:round; stroke-width:4; stroke-opacity:1; fill:none\" points=\"1961.04,1435.37 1961.04,1445.72 2006.61,1445.72 2006.61,1435.37 1961.04,1435.37 \"/>\n<path clip-path=\"url(#clip262)\" d=\"M2006.61 1437.78 L2006.61 1445.72 L2052.18 1445.72 L2052.18 1437.78 L2006.61 1437.78 L2006.61 1437.78  Z\" fill=\"#009af9\" fill-rule=\"evenodd\" fill-opacity=\"1\"/>\n<polyline clip-path=\"url(#clip262)\" style=\"stroke:#000000; stroke-linecap:round; stroke-linejoin:round; stroke-width:4; stroke-opacity:1; fill:none\" points=\"2006.61,1437.78 2006.61,1445.72 2052.18,1445.72 2052.18,1437.78 2006.61,1437.78 \"/>\n<path clip-path=\"url(#clip262)\" d=\"M2052.18 1442.96 L2052.18 1445.72 L2097.76 1445.72 L2097.76 1442.96 L2052.18 1442.96 L2052.18 1442.96  Z\" fill=\"#009af9\" fill-rule=\"evenodd\" fill-opacity=\"1\"/>\n<polyline clip-path=\"url(#clip262)\" style=\"stroke:#000000; stroke-linecap:round; stroke-linejoin:round; stroke-width:4; stroke-opacity:1; fill:none\" points=\"2052.18,1442.96 2052.18,1445.72 2097.76,1445.72 2097.76,1442.96 2052.18,1442.96 \"/>\n<path clip-path=\"url(#clip262)\" d=\"M2097.76 1443.47 L2097.76 1445.72 L2143.33 1445.72 L2143.33 1443.47 L2097.76 1443.47 L2097.76 1443.47  Z\" fill=\"#009af9\" fill-rule=\"evenodd\" fill-opacity=\"1\"/>\n<polyline clip-path=\"url(#clip262)\" style=\"stroke:#000000; stroke-linecap:round; stroke-linejoin:round; stroke-width:4; stroke-opacity:1; fill:none\" points=\"2097.76,1443.47 2097.76,1445.72 2143.33,1445.72 2143.33,1443.47 2097.76,1443.47 \"/>\n<path clip-path=\"url(#clip262)\" d=\"M2143.33 1444.85 L2143.33 1445.72 L2188.9 1445.72 L2188.9 1444.85 L2143.33 1444.85 L2143.33 1444.85  Z\" fill=\"#009af9\" fill-rule=\"evenodd\" fill-opacity=\"1\"/>\n<polyline clip-path=\"url(#clip262)\" style=\"stroke:#000000; stroke-linecap:round; stroke-linejoin:round; stroke-width:4; stroke-opacity:1; fill:none\" points=\"2143.33,1444.85 2143.33,1445.72 2188.9,1445.72 2188.9,1444.85 2143.33,1444.85 \"/>\n<path clip-path=\"url(#clip262)\" d=\"M2188.9 1445.54 L2188.9 1445.72 L2234.47 1445.72 L2234.47 1445.54 L2188.9 1445.54 L2188.9 1445.54  Z\" fill=\"#009af9\" fill-rule=\"evenodd\" fill-opacity=\"1\"/>\n<polyline clip-path=\"url(#clip262)\" style=\"stroke:#000000; stroke-linecap:round; stroke-linejoin:round; stroke-width:4; stroke-opacity:1; fill:none\" points=\"2188.9,1445.54 2188.9,1445.72 2234.47,1445.72 2234.47,1445.54 2188.9,1445.54 \"/>\n<circle clip-path=\"url(#clip262)\" style=\"fill:#009af9; stroke:none; fill-opacity:0\" cx=\"343.248\" cy=\"1445.37\" r=\"2\"/>\n<circle clip-path=\"url(#clip262)\" style=\"fill:#009af9; stroke:none; fill-opacity:0\" cx=\"388.82\" cy=\"1444.85\" r=\"2\"/>\n<circle clip-path=\"url(#clip262)\" style=\"fill:#009af9; stroke:none; fill-opacity:0\" cx=\"434.391\" cy=\"1443.99\" r=\"2\"/>\n<circle clip-path=\"url(#clip262)\" style=\"fill:#009af9; stroke:none; fill-opacity:0\" cx=\"479.963\" cy=\"1443.3\" r=\"2\"/>\n<circle clip-path=\"url(#clip262)\" style=\"fill:#009af9; stroke:none; fill-opacity:0\" cx=\"525.535\" cy=\"1439.33\" r=\"2\"/>\n<circle clip-path=\"url(#clip262)\" style=\"fill:#009af9; stroke:none; fill-opacity:0\" cx=\"571.106\" cy=\"1433.3\" r=\"2\"/>\n<circle clip-path=\"url(#clip262)\" style=\"fill:#009af9; stroke:none; fill-opacity:0\" cx=\"616.678\" cy=\"1425.02\" r=\"2\"/>\n<circle clip-path=\"url(#clip262)\" style=\"fill:#009af9; stroke:none; fill-opacity:0\" cx=\"662.249\" cy=\"1410.01\" r=\"2\"/>\n<circle clip-path=\"url(#clip262)\" style=\"fill:#009af9; stroke:none; fill-opacity:0\" cx=\"707.821\" cy=\"1384.83\" r=\"2\"/>\n<circle clip-path=\"url(#clip262)\" style=\"fill:#009af9; stroke:none; fill-opacity:0\" cx=\"753.393\" cy=\"1338.43\" r=\"2\"/>\n<circle clip-path=\"url(#clip262)\" style=\"fill:#009af9; stroke:none; fill-opacity:0\" cx=\"798.964\" cy=\"1301.7\" r=\"2\"/>\n<circle clip-path=\"url(#clip262)\" style=\"fill:#009af9; stroke:none; fill-opacity:0\" cx=\"844.536\" cy=\"1220.98\" r=\"2\"/>\n<circle clip-path=\"url(#clip262)\" style=\"fill:#009af9; stroke:none; fill-opacity:0\" cx=\"890.108\" cy=\"1106.11\" r=\"2\"/>\n<circle clip-path=\"url(#clip262)\" style=\"fill:#009af9; stroke:none; fill-opacity:0\" cx=\"935.679\" cy=\"992.618\" r=\"2\"/>\n<circle clip-path=\"url(#clip262)\" style=\"fill:#009af9; stroke:none; fill-opacity:0\" cx=\"981.251\" cy=\"855.154\" r=\"2\"/>\n<circle clip-path=\"url(#clip262)\" style=\"fill:#009af9; stroke:none; fill-opacity:0\" cx=\"1026.82\" cy=\"708.894\" r=\"2\"/>\n<circle clip-path=\"url(#clip262)\" style=\"fill:#009af9; stroke:none; fill-opacity:0\" cx=\"1072.39\" cy=\"538.659\" r=\"2\"/>\n<circle clip-path=\"url(#clip262)\" style=\"fill:#009af9; stroke:none; fill-opacity:0\" cx=\"1117.97\" cy=\"352.211\" r=\"2\"/>\n<circle clip-path=\"url(#clip262)\" style=\"fill:#009af9; stroke:none; fill-opacity:0\" cx=\"1163.54\" cy=\"239.066\" r=\"2\"/>\n<circle clip-path=\"url(#clip262)\" style=\"fill:#009af9; stroke:none; fill-opacity:0\" cx=\"1209.11\" cy=\"112.813\" r=\"2\"/>\n<circle clip-path=\"url(#clip262)\" style=\"fill:#009af9; stroke:none; fill-opacity:0\" cx=\"1254.68\" cy=\"87.9763\" r=\"2\"/>\n<circle clip-path=\"url(#clip262)\" style=\"fill:#009af9; stroke:none; fill-opacity:0\" cx=\"1300.25\" cy=\"96.6001\" r=\"2\"/>\n<circle clip-path=\"url(#clip262)\" style=\"fill:#009af9; stroke:none; fill-opacity:0\" cx=\"1345.82\" cy=\"124.024\" r=\"2\"/>\n<circle clip-path=\"url(#clip262)\" style=\"fill:#009af9; stroke:none; fill-opacity:0\" cx=\"1391.4\" cy=\"235.617\" r=\"2\"/>\n<circle clip-path=\"url(#clip262)\" style=\"fill:#009af9; stroke:none; fill-opacity:0\" cx=\"1436.97\" cy=\"391.536\" r=\"2\"/>\n<circle clip-path=\"url(#clip262)\" style=\"fill:#009af9; stroke:none; fill-opacity:0\" cx=\"1482.54\" cy=\"517.272\" r=\"2\"/>\n<circle clip-path=\"url(#clip262)\" style=\"fill:#009af9; stroke:none; fill-opacity:0\" cx=\"1528.11\" cy=\"695.44\" r=\"2\"/>\n<circle clip-path=\"url(#clip262)\" style=\"fill:#009af9; stroke:none; fill-opacity:0\" cx=\"1573.68\" cy=\"854.119\" r=\"2\"/>\n<circle clip-path=\"url(#clip262)\" style=\"fill:#009af9; stroke:none; fill-opacity:0\" cx=\"1619.25\" cy=\"987.789\" r=\"2\"/>\n<circle clip-path=\"url(#clip262)\" style=\"fill:#009af9; stroke:none; fill-opacity:0\" cx=\"1664.83\" cy=\"1119.39\" r=\"2\"/>\n<circle clip-path=\"url(#clip262)\" style=\"fill:#009af9; stroke:none; fill-opacity:0\" cx=\"1710.4\" cy=\"1218.05\" r=\"2\"/>\n<circle clip-path=\"url(#clip262)\" style=\"fill:#009af9; stroke:none; fill-opacity:0\" cx=\"1755.97\" cy=\"1298.59\" r=\"2\"/>\n<circle clip-path=\"url(#clip262)\" style=\"fill:#009af9; stroke:none; fill-opacity:0\" cx=\"1801.54\" cy=\"1341.19\" r=\"2\"/>\n<circle clip-path=\"url(#clip262)\" style=\"fill:#009af9; stroke:none; fill-opacity:0\" cx=\"1847.11\" cy=\"1386.38\" r=\"2\"/>\n<circle clip-path=\"url(#clip262)\" style=\"fill:#009af9; stroke:none; fill-opacity:0\" cx=\"1892.68\" cy=\"1407.43\" r=\"2\"/>\n<circle clip-path=\"url(#clip262)\" style=\"fill:#009af9; stroke:none; fill-opacity:0\" cx=\"1938.25\" cy=\"1424.33\" r=\"2\"/>\n<circle clip-path=\"url(#clip262)\" style=\"fill:#009af9; stroke:none; fill-opacity:0\" cx=\"1983.83\" cy=\"1435.37\" r=\"2\"/>\n<circle clip-path=\"url(#clip262)\" style=\"fill:#009af9; stroke:none; fill-opacity:0\" cx=\"2029.4\" cy=\"1437.78\" r=\"2\"/>\n<circle clip-path=\"url(#clip262)\" style=\"fill:#009af9; stroke:none; fill-opacity:0\" cx=\"2074.97\" cy=\"1442.96\" r=\"2\"/>\n<circle clip-path=\"url(#clip262)\" style=\"fill:#009af9; stroke:none; fill-opacity:0\" cx=\"2120.54\" cy=\"1443.47\" r=\"2\"/>\n<circle clip-path=\"url(#clip262)\" style=\"fill:#009af9; stroke:none; fill-opacity:0\" cx=\"2166.11\" cy=\"1444.85\" r=\"2\"/>\n<circle clip-path=\"url(#clip262)\" style=\"fill:#009af9; stroke:none; fill-opacity:0\" cx=\"2211.68\" cy=\"1445.54\" r=\"2\"/>\n</svg>\n"
     },
     "execution_count": 62,
     "metadata": {},
     "output_type": "execute_result"
    }
   ],
   "source": [
    "x = randn(10^5)\n",
    "histogram(x, bins=64, legend=false)"
   ]
  },
  {
   "cell_type": "code",
   "execution_count": 63,
   "metadata": {},
   "outputs": [
    {
     "data": {
      "text/latex": [
       "\\textbf{Histogram in 2D}\n",
       "\n"
      ],
      "text/markdown": [
       "**Histogram in 2D**\n"
      ],
      "text/plain": [
       "  \u001b[1mHistogram in 2D\u001b[22m"
      ]
     },
     "execution_count": 63,
     "metadata": {},
     "output_type": "execute_result"
    }
   ],
   "source": [
    "md\"**Histogram in 2D**\""
   ]
  },
  {
   "cell_type": "code",
   "execution_count": 64,
   "metadata": {},
   "outputs": [
    {
     "data": {
      "image/svg+xml": "<?xml version=\"1.0\" encoding=\"utf-8\"?>\n<svg xmlns=\"http://www.w3.org/2000/svg\" xmlns:xlink=\"http://www.w3.org/1999/xlink\" width=\"600\" height=\"400\" viewBox=\"0 0 2400 1600\">\n<defs>\n  <clipPath id=\"clip300\">\n    <rect x=\"0\" y=\"0\" width=\"2400\" height=\"1600\"/>\n  </clipPath>\n</defs>\n<path clip-path=\"url(#clip300)\" d=\"M0 1600 L2400 1600 L2400 0 L0 0  Z\" fill=\"#ffffff\" fill-rule=\"evenodd\" fill-opacity=\"1\"/>\n<defs>\n  <clipPath id=\"clip301\">\n    <rect x=\"480\" y=\"0\" width=\"1681\" height=\"1600\"/>\n  </clipPath>\n</defs>\n<path clip-path=\"url(#clip300)\" d=\"M149.191 1486.45 L2112.76 1486.45 L2112.76 47.2441 L149.191 47.2441  Z\" fill=\"#ffffff\" fill-rule=\"evenodd\" fill-opacity=\"1\"/>\n<defs>\n  <clipPath id=\"clip302\">\n    <rect x=\"149\" y=\"47\" width=\"1965\" height=\"1440\"/>\n  </clipPath>\n</defs>\n<polyline clip-path=\"url(#clip302)\" style=\"stroke:#000000; stroke-linecap:round; stroke-linejoin:round; stroke-width:2; stroke-opacity:0.1; fill:none\" points=\"236.46,1486.45 236.46,47.2441 \"/>\n<polyline clip-path=\"url(#clip302)\" style=\"stroke:#000000; stroke-linecap:round; stroke-linejoin:round; stroke-width:2; stroke-opacity:0.1; fill:none\" points=\"672.808,1486.45 672.808,47.2441 \"/>\n<polyline clip-path=\"url(#clip302)\" style=\"stroke:#000000; stroke-linecap:round; stroke-linejoin:round; stroke-width:2; stroke-opacity:0.1; fill:none\" points=\"1109.16,1486.45 1109.16,47.2441 \"/>\n<polyline clip-path=\"url(#clip302)\" style=\"stroke:#000000; stroke-linecap:round; stroke-linejoin:round; stroke-width:2; stroke-opacity:0.1; fill:none\" points=\"1545.5,1486.45 1545.5,47.2441 \"/>\n<polyline clip-path=\"url(#clip302)\" style=\"stroke:#000000; stroke-linecap:round; stroke-linejoin:round; stroke-width:2; stroke-opacity:0.1; fill:none\" points=\"1981.85,1486.45 1981.85,47.2441 \"/>\n<polyline clip-path=\"url(#clip300)\" style=\"stroke:#000000; stroke-linecap:round; stroke-linejoin:round; stroke-width:4; stroke-opacity:1; fill:none\" points=\"149.191,1486.45 2112.76,1486.45 \"/>\n<polyline clip-path=\"url(#clip300)\" style=\"stroke:#000000; stroke-linecap:round; stroke-linejoin:round; stroke-width:4; stroke-opacity:1; fill:none\" points=\"236.46,1486.45 236.46,1467.55 \"/>\n<polyline clip-path=\"url(#clip300)\" style=\"stroke:#000000; stroke-linecap:round; stroke-linejoin:round; stroke-width:4; stroke-opacity:1; fill:none\" points=\"672.808,1486.45 672.808,1467.55 \"/>\n<polyline clip-path=\"url(#clip300)\" style=\"stroke:#000000; stroke-linecap:round; stroke-linejoin:round; stroke-width:4; stroke-opacity:1; fill:none\" points=\"1109.16,1486.45 1109.16,1467.55 \"/>\n<polyline clip-path=\"url(#clip300)\" style=\"stroke:#000000; stroke-linecap:round; stroke-linejoin:round; stroke-width:4; stroke-opacity:1; fill:none\" points=\"1545.5,1486.45 1545.5,1467.55 \"/>\n<polyline clip-path=\"url(#clip300)\" style=\"stroke:#000000; stroke-linecap:round; stroke-linejoin:round; stroke-width:4; stroke-opacity:1; fill:none\" points=\"1981.85,1486.45 1981.85,1467.55 \"/>\n<path clip-path=\"url(#clip300)\" d=\"M205.361 1532.02 L235.037 1532.02 L235.037 1535.95 L205.361 1535.95 L205.361 1532.02 Z\" fill=\"#000000\" fill-rule=\"evenodd\" fill-opacity=\"1\" /><path clip-path=\"url(#clip300)\" d=\"M257.977 1518.36 L246.171 1536.81 L257.977 1536.81 L257.977 1518.36 M256.75 1514.29 L262.629 1514.29 L262.629 1536.81 L267.56 1536.81 L267.56 1540.7 L262.629 1540.7 L262.629 1548.85 L257.977 1548.85 L257.977 1540.7 L242.375 1540.7 L242.375 1536.19 L256.75 1514.29 Z\" fill=\"#000000\" fill-rule=\"evenodd\" fill-opacity=\"1\" /><path clip-path=\"url(#clip300)\" d=\"M642.751 1532.02 L672.426 1532.02 L672.426 1535.95 L642.751 1535.95 L642.751 1532.02 Z\" fill=\"#000000\" fill-rule=\"evenodd\" fill-opacity=\"1\" /><path clip-path=\"url(#clip300)\" d=\"M686.547 1544.91 L702.866 1544.91 L702.866 1548.85 L680.922 1548.85 L680.922 1544.91 Q683.584 1542.16 688.167 1537.53 Q692.773 1532.88 693.954 1531.53 Q696.199 1529.01 697.079 1527.27 Q697.982 1525.51 697.982 1523.82 Q697.982 1521.07 696.037 1519.33 Q694.116 1517.6 691.014 1517.6 Q688.815 1517.6 686.361 1518.36 Q683.931 1519.13 681.153 1520.68 L681.153 1515.95 Q683.977 1514.82 686.431 1514.24 Q688.885 1513.66 690.922 1513.66 Q696.292 1513.66 699.486 1516.35 Q702.681 1519.03 702.681 1523.52 Q702.681 1525.65 701.871 1527.57 Q701.084 1529.47 698.977 1532.07 Q698.398 1532.74 695.297 1535.95 Q692.195 1539.15 686.547 1544.91 Z\" fill=\"#000000\" fill-rule=\"evenodd\" fill-opacity=\"1\" /><path clip-path=\"url(#clip300)\" d=\"M1109.16 1517.37 Q1105.54 1517.37 1103.72 1520.93 Q1101.91 1524.47 1101.91 1531.6 Q1101.91 1538.71 1103.72 1542.27 Q1105.54 1545.82 1109.16 1545.82 Q1112.79 1545.82 1114.6 1542.27 Q1116.42 1538.71 1116.42 1531.6 Q1116.42 1524.47 1114.6 1520.93 Q1112.79 1517.37 1109.16 1517.37 M1109.16 1513.66 Q1114.97 1513.66 1118.02 1518.27 Q1121.1 1522.85 1121.1 1531.6 Q1121.1 1540.33 1118.02 1544.94 Q1114.97 1549.52 1109.16 1549.52 Q1103.35 1549.52 1100.27 1544.94 Q1097.21 1540.33 1097.21 1531.6 Q1097.21 1522.85 1100.27 1518.27 Q1103.35 1513.66 1109.16 1513.66 Z\" fill=\"#000000\" fill-rule=\"evenodd\" fill-opacity=\"1\" /><path clip-path=\"url(#clip300)\" d=\"M1540.16 1544.91 L1556.48 1544.91 L1556.48 1548.85 L1534.53 1548.85 L1534.53 1544.91 Q1537.19 1542.16 1541.78 1537.53 Q1546.38 1532.88 1547.56 1531.53 Q1549.81 1529.01 1550.69 1527.27 Q1551.59 1525.51 1551.59 1523.82 Q1551.59 1521.07 1549.65 1519.33 Q1547.73 1517.6 1544.62 1517.6 Q1542.43 1517.6 1539.97 1518.36 Q1537.54 1519.13 1534.76 1520.68 L1534.76 1515.95 Q1537.59 1514.82 1540.04 1514.24 Q1542.49 1513.66 1544.53 1513.66 Q1549.9 1513.66 1553.1 1516.35 Q1556.29 1519.03 1556.29 1523.52 Q1556.29 1525.65 1555.48 1527.57 Q1554.69 1529.47 1552.59 1532.07 Q1552.01 1532.74 1548.91 1535.95 Q1545.8 1539.15 1540.16 1544.91 Z\" fill=\"#000000\" fill-rule=\"evenodd\" fill-opacity=\"1\" /><path clip-path=\"url(#clip300)\" d=\"M1984.86 1518.36 L1973.06 1536.81 L1984.86 1536.81 L1984.86 1518.36 M1983.63 1514.29 L1989.51 1514.29 L1989.51 1536.81 L1994.44 1536.81 L1994.44 1540.7 L1989.51 1540.7 L1989.51 1548.85 L1984.86 1548.85 L1984.86 1540.7 L1969.26 1540.7 L1969.26 1536.19 L1983.63 1514.29 Z\" fill=\"#000000\" fill-rule=\"evenodd\" fill-opacity=\"1\" /><polyline clip-path=\"url(#clip302)\" style=\"stroke:#000000; stroke-linecap:round; stroke-linejoin:round; stroke-width:2; stroke-opacity:0.1; fill:none\" points=\"149.191,1419.51 2112.76,1419.51 \"/>\n<polyline clip-path=\"url(#clip302)\" style=\"stroke:#000000; stroke-linecap:round; stroke-linejoin:round; stroke-width:2; stroke-opacity:0.1; fill:none\" points=\"149.191,1084.81 2112.76,1084.81 \"/>\n<polyline clip-path=\"url(#clip302)\" style=\"stroke:#000000; stroke-linecap:round; stroke-linejoin:round; stroke-width:2; stroke-opacity:0.1; fill:none\" points=\"149.191,750.111 2112.76,750.111 \"/>\n<polyline clip-path=\"url(#clip302)\" style=\"stroke:#000000; stroke-linecap:round; stroke-linejoin:round; stroke-width:2; stroke-opacity:0.1; fill:none\" points=\"149.191,415.413 2112.76,415.413 \"/>\n<polyline clip-path=\"url(#clip302)\" style=\"stroke:#000000; stroke-linecap:round; stroke-linejoin:round; stroke-width:2; stroke-opacity:0.1; fill:none\" points=\"149.191,80.7139 2112.76,80.7139 \"/>\n<polyline clip-path=\"url(#clip300)\" style=\"stroke:#000000; stroke-linecap:round; stroke-linejoin:round; stroke-width:4; stroke-opacity:1; fill:none\" points=\"149.191,1486.45 149.191,47.2441 \"/>\n<polyline clip-path=\"url(#clip300)\" style=\"stroke:#000000; stroke-linecap:round; stroke-linejoin:round; stroke-width:4; stroke-opacity:1; fill:none\" points=\"149.191,1419.51 166.03,1419.51 \"/>\n<polyline clip-path=\"url(#clip300)\" style=\"stroke:#000000; stroke-linecap:round; stroke-linejoin:round; stroke-width:4; stroke-opacity:1; fill:none\" points=\"149.191,1084.81 166.03,1084.81 \"/>\n<polyline clip-path=\"url(#clip300)\" style=\"stroke:#000000; stroke-linecap:round; stroke-linejoin:round; stroke-width:4; stroke-opacity:1; fill:none\" points=\"149.191,750.111 166.03,750.111 \"/>\n<polyline clip-path=\"url(#clip300)\" style=\"stroke:#000000; stroke-linecap:round; stroke-linejoin:round; stroke-width:4; stroke-opacity:1; fill:none\" points=\"149.191,415.413 166.03,415.413 \"/>\n<polyline clip-path=\"url(#clip300)\" style=\"stroke:#000000; stroke-linecap:round; stroke-linejoin:round; stroke-width:4; stroke-opacity:1; fill:none\" points=\"149.191,80.7139 166.03,80.7139 \"/>\n<path clip-path=\"url(#clip300)\" d=\"M50.9921 1419.96 L80.6679 1419.96 L80.6679 1423.89 L50.9921 1423.89 L50.9921 1419.96 Z\" fill=\"#000000\" fill-rule=\"evenodd\" fill-opacity=\"1\" /><path clip-path=\"url(#clip300)\" d=\"M103.608 1406.3 L91.8021 1424.75 L103.608 1424.75 L103.608 1406.3 M102.381 1402.23 L108.26 1402.23 L108.26 1424.75 L113.191 1424.75 L113.191 1428.64 L108.26 1428.64 L108.26 1436.79 L103.608 1436.79 L103.608 1428.64 L88.0058 1428.64 L88.0058 1424.13 L102.381 1402.23 Z\" fill=\"#000000\" fill-rule=\"evenodd\" fill-opacity=\"1\" /><path clip-path=\"url(#clip300)\" d=\"M53.0754 1085.26 L82.7512 1085.26 L82.7512 1089.2 L53.0754 1089.2 L53.0754 1085.26 Z\" fill=\"#000000\" fill-rule=\"evenodd\" fill-opacity=\"1\" /><path clip-path=\"url(#clip300)\" d=\"M96.8715 1098.15 L113.191 1098.15 L113.191 1102.09 L91.2465 1102.09 L91.2465 1098.15 Q93.9086 1095.4 98.4919 1090.77 Q103.098 1086.12 104.279 1084.77 Q106.524 1082.25 107.404 1080.52 Q108.307 1078.76 108.307 1077.07 Q108.307 1074.31 106.362 1072.58 Q104.441 1070.84 101.339 1070.84 Q99.14 1070.84 96.6863 1071.6 Q94.2558 1072.37 91.478 1073.92 L91.478 1069.2 Q94.3021 1068.06 96.7558 1067.48 Q99.2095 1066.9 101.246 1066.9 Q106.617 1066.9 109.811 1069.59 Q113.006 1072.27 113.006 1076.77 Q113.006 1078.9 112.196 1080.82 Q111.408 1082.71 109.302 1085.31 Q108.723 1085.98 105.621 1089.2 Q102.52 1092.39 96.8715 1098.15 Z\" fill=\"#000000\" fill-rule=\"evenodd\" fill-opacity=\"1\" /><path clip-path=\"url(#clip300)\" d=\"M101.246 735.91 Q97.6354 735.91 95.8067 739.475 Q94.0012 743.016 94.0012 750.146 Q94.0012 757.252 95.8067 760.817 Q97.6354 764.359 101.246 764.359 Q104.881 764.359 106.686 760.817 Q108.515 757.252 108.515 750.146 Q108.515 743.016 106.686 739.475 Q104.881 735.91 101.246 735.91 M101.246 732.206 Q107.057 732.206 110.112 736.813 Q113.191 741.396 113.191 750.146 Q113.191 758.873 110.112 763.479 Q107.057 768.062 101.246 768.062 Q95.4363 768.062 92.3576 763.479 Q89.3021 758.873 89.3021 750.146 Q89.3021 741.396 92.3576 736.813 Q95.4363 732.206 101.246 732.206 Z\" fill=\"#000000\" fill-rule=\"evenodd\" fill-opacity=\"1\" /><path clip-path=\"url(#clip300)\" d=\"M96.8715 428.757 L113.191 428.757 L113.191 432.693 L91.2465 432.693 L91.2465 428.757 Q93.9086 426.003 98.4919 421.373 Q103.098 416.72 104.279 415.378 Q106.524 412.855 107.404 411.119 Q108.307 409.359 108.307 407.669 Q108.307 404.915 106.362 403.179 Q104.441 401.443 101.339 401.443 Q99.14 401.443 96.6863 402.207 Q94.2558 402.97 91.478 404.521 L91.478 399.799 Q94.3021 398.665 96.7558 398.086 Q99.2095 397.508 101.246 397.508 Q106.617 397.508 109.811 400.193 Q113.006 402.878 113.006 407.369 Q113.006 409.498 112.196 411.419 Q111.408 413.318 109.302 415.91 Q108.723 416.581 105.621 419.799 Q102.52 422.993 96.8715 428.757 Z\" fill=\"#000000\" fill-rule=\"evenodd\" fill-opacity=\"1\" /><path clip-path=\"url(#clip300)\" d=\"M103.608 67.508 L91.8021 85.957 L103.608 85.957 L103.608 67.508 M102.381 63.4339 L108.26 63.4339 L108.26 85.957 L113.191 85.957 L113.191 89.8458 L108.26 89.8458 L108.26 97.9939 L103.608 97.9939 L103.608 89.8458 L88.0058 89.8458 L88.0058 85.332 L102.381 63.4339 Z\" fill=\"#000000\" fill-rule=\"evenodd\" fill-opacity=\"1\" /><g clip-path=\"url(#clip302)\">\n<image width=\"1964\" height=\"1439\" xlink:href=\"data:image/png;base64,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\n\" transform=\"translate(149, 47)\"/>\n</g>\n<defs>\n  <clipPath id=\"clip303\">\n    <rect x=\"2160\" y=\"47\" width=\"73\" height=\"1440\"/>\n  </clipPath>\n</defs>\n<g clip-path=\"url(#clip303)\">\n<image width=\"72\" height=\"1439\" xlink:href=\"data:image/png;base64,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\nBYGCQOE/LrLuTX/wFc8AAAAASUVORK5CYII=\n\" transform=\"translate(2161, 47)\"/>\n</g>\n<path clip-path=\"url(#clip300)\" d=\"M2269.43 1282.55 L2277.07 1282.55 L2277.07 1256.18 L2268.76 1257.85 L2268.76 1253.59 L2277.02 1251.92 L2281.7 1251.92 L2281.7 1282.55 L2289.33 1282.55 L2289.33 1286.48 L2269.43 1286.48 L2269.43 1282.55 Z\" fill=\"#000000\" fill-rule=\"evenodd\" fill-opacity=\"1\" /><path clip-path=\"url(#clip300)\" d=\"M2308.78 1255 Q2305.17 1255 2303.34 1258.57 Q2301.53 1262.11 2301.53 1269.24 Q2301.53 1276.35 2303.34 1279.91 Q2305.17 1283.45 2308.78 1283.45 Q2312.41 1283.45 2314.22 1279.91 Q2316.05 1276.35 2316.05 1269.24 Q2316.05 1262.11 2314.22 1258.57 Q2312.41 1255 2308.78 1255 M2308.78 1251.3 Q2314.59 1251.3 2317.64 1255.91 Q2320.72 1260.49 2320.72 1269.24 Q2320.72 1277.97 2317.64 1282.57 Q2314.59 1287.16 2308.78 1287.16 Q2302.97 1287.16 2299.89 1282.57 Q2296.83 1277.97 2296.83 1269.24 Q2296.83 1260.49 2299.89 1255.91 Q2302.97 1251.3 2308.78 1251.3 Z\" fill=\"#000000\" fill-rule=\"evenodd\" fill-opacity=\"1\" /><path clip-path=\"url(#clip300)\" d=\"M2338.94 1255 Q2335.33 1255 2333.5 1258.57 Q2331.7 1262.11 2331.7 1269.24 Q2331.7 1276.35 2333.5 1279.91 Q2335.33 1283.45 2338.94 1283.45 Q2342.57 1283.45 2344.38 1279.91 Q2346.21 1276.35 2346.21 1269.24 Q2346.21 1262.11 2344.38 1258.57 Q2342.57 1255 2338.94 1255 M2338.94 1251.3 Q2344.75 1251.3 2347.81 1255.91 Q2350.89 1260.49 2350.89 1269.24 Q2350.89 1277.97 2347.81 1282.57 Q2344.75 1287.16 2338.94 1287.16 Q2333.13 1287.16 2330.05 1282.57 Q2327 1277.97 2327 1269.24 Q2327 1260.49 2330.05 1255.91 Q2333.13 1251.3 2338.94 1251.3 Z\" fill=\"#000000\" fill-rule=\"evenodd\" fill-opacity=\"1\" /><path clip-path=\"url(#clip300)\" d=\"M2274.38 1066.78 L2290.7 1066.78 L2290.7 1070.71 L2268.76 1070.71 L2268.76 1066.78 Q2271.42 1064.02 2276 1059.39 Q2280.61 1054.74 2281.79 1053.4 Q2284.03 1050.87 2284.91 1049.14 Q2285.82 1047.38 2285.82 1045.69 Q2285.82 1042.93 2283.87 1041.2 Q2281.95 1039.46 2278.85 1039.46 Q2276.65 1039.46 2274.2 1040.23 Q2271.77 1040.99 2268.99 1042.54 L2268.99 1037.82 Q2271.81 1036.68 2274.27 1036.11 Q2276.72 1035.53 2278.76 1035.53 Q2284.13 1035.53 2287.32 1038.21 Q2290.52 1040.9 2290.52 1045.39 Q2290.52 1047.52 2289.7 1049.44 Q2288.92 1051.34 2286.81 1053.93 Q2286.23 1054.6 2283.13 1057.82 Q2280.03 1061.01 2274.38 1066.78 Z\" fill=\"#000000\" fill-rule=\"evenodd\" fill-opacity=\"1\" /><path clip-path=\"url(#clip300)\" d=\"M2310.51 1039.23 Q2306.9 1039.23 2305.08 1042.79 Q2303.27 1046.34 2303.27 1053.47 Q2303.27 1060.57 2305.08 1064.14 Q2306.9 1067.68 2310.51 1067.68 Q2314.15 1067.68 2315.95 1064.14 Q2317.78 1060.57 2317.78 1053.47 Q2317.78 1046.34 2315.95 1042.79 Q2314.15 1039.23 2310.51 1039.23 M2310.51 1035.53 Q2316.33 1035.53 2319.38 1040.13 Q2322.46 1044.72 2322.46 1053.47 Q2322.46 1062.19 2319.38 1066.8 Q2316.33 1071.38 2310.51 1071.38 Q2304.7 1071.38 2301.63 1066.8 Q2298.57 1062.19 2298.57 1053.47 Q2298.57 1044.72 2301.63 1040.13 Q2304.7 1035.53 2310.51 1035.53 Z\" fill=\"#000000\" fill-rule=\"evenodd\" fill-opacity=\"1\" /><path clip-path=\"url(#clip300)\" d=\"M2340.68 1039.23 Q2337.07 1039.23 2335.24 1042.79 Q2333.43 1046.34 2333.43 1053.47 Q2333.43 1060.57 2335.24 1064.14 Q2337.07 1067.68 2340.68 1067.68 Q2344.31 1067.68 2346.12 1064.14 Q2347.95 1060.57 2347.95 1053.47 Q2347.95 1046.34 2346.12 1042.79 Q2344.31 1039.23 2340.68 1039.23 M2340.68 1035.53 Q2346.49 1035.53 2349.54 1040.13 Q2352.62 1044.72 2352.62 1053.47 Q2352.62 1062.19 2349.54 1066.8 Q2346.49 1071.38 2340.68 1071.38 Q2334.87 1071.38 2331.79 1066.8 Q2328.73 1062.19 2328.73 1053.47 Q2328.73 1044.72 2331.79 1040.13 Q2334.87 1035.53 2340.68 1035.53 Z\" fill=\"#000000\" fill-rule=\"evenodd\" fill-opacity=\"1\" /><path clip-path=\"url(#clip300)\" d=\"M2284.38 836.305 Q2287.74 837.022 2289.61 839.291 Q2291.51 841.559 2291.51 844.893 Q2291.51 850.008 2287.99 852.809 Q2284.47 855.61 2277.99 855.61 Q2275.82 855.61 2273.5 855.17 Q2271.21 854.754 2268.76 853.897 L2268.76 849.383 Q2270.7 850.517 2273.02 851.096 Q2275.33 851.675 2277.85 851.675 Q2282.25 851.675 2284.54 849.939 Q2286.86 848.203 2286.86 844.893 Q2286.86 841.837 2284.7 840.124 Q2282.58 838.388 2278.76 838.388 L2274.73 838.388 L2274.73 834.545 L2278.94 834.545 Q2282.39 834.545 2284.22 833.18 Q2286.05 831.791 2286.05 829.198 Q2286.05 826.536 2284.15 825.124 Q2282.27 823.689 2278.76 823.689 Q2276.83 823.689 2274.64 824.106 Q2272.44 824.522 2269.8 825.402 L2269.8 821.235 Q2272.46 820.494 2274.77 820.124 Q2277.11 819.754 2279.17 819.754 Q2284.5 819.754 2287.6 822.184 Q2290.7 824.592 2290.7 828.712 Q2290.7 831.582 2289.06 833.573 Q2287.41 835.541 2284.38 836.305 Z\" fill=\"#000000\" fill-rule=\"evenodd\" fill-opacity=\"1\" /><path clip-path=\"url(#clip300)\" d=\"M2310.38 823.457 Q2306.76 823.457 2304.94 827.022 Q2303.13 830.564 2303.13 837.693 Q2303.13 844.8 2304.94 848.365 Q2306.76 851.906 2310.38 851.906 Q2314.01 851.906 2315.82 848.365 Q2317.64 844.8 2317.64 837.693 Q2317.64 830.564 2315.82 827.022 Q2314.01 823.457 2310.38 823.457 M2310.38 819.754 Q2316.19 819.754 2319.24 824.36 Q2322.32 828.944 2322.32 837.693 Q2322.32 846.42 2319.24 851.027 Q2316.19 855.61 2310.38 855.61 Q2304.57 855.61 2301.49 851.027 Q2298.43 846.42 2298.43 837.693 Q2298.43 828.944 2301.49 824.36 Q2304.57 819.754 2310.38 819.754 Z\" fill=\"#000000\" fill-rule=\"evenodd\" fill-opacity=\"1\" /><path clip-path=\"url(#clip300)\" d=\"M2340.54 823.457 Q2336.93 823.457 2335.1 827.022 Q2333.29 830.564 2333.29 837.693 Q2333.29 844.8 2335.1 848.365 Q2336.93 851.906 2340.54 851.906 Q2344.17 851.906 2345.98 848.365 Q2347.81 844.8 2347.81 837.693 Q2347.81 830.564 2345.98 827.022 Q2344.17 823.457 2340.54 823.457 M2340.54 819.754 Q2346.35 819.754 2349.4 824.36 Q2352.48 828.944 2352.48 837.693 Q2352.48 846.42 2349.4 851.027 Q2346.35 855.61 2340.54 855.61 Q2334.73 855.61 2331.65 851.027 Q2328.59 846.42 2328.59 837.693 Q2328.59 828.944 2331.65 824.36 Q2334.73 819.754 2340.54 819.754 Z\" fill=\"#000000\" fill-rule=\"evenodd\" fill-opacity=\"1\" /><path clip-path=\"url(#clip300)\" d=\"M2284.36 608.68 L2272.55 627.129 L2284.36 627.129 L2284.36 608.68 M2283.13 604.606 L2289.01 604.606 L2289.01 627.129 L2293.94 627.129 L2293.94 631.018 L2289.01 631.018 L2289.01 639.166 L2284.36 639.166 L2284.36 631.018 L2268.76 631.018 L2268.76 626.504 L2283.13 604.606 Z\" fill=\"#000000\" fill-rule=\"evenodd\" fill-opacity=\"1\" /><path clip-path=\"url(#clip300)\" d=\"M2311.67 607.685 Q2308.06 607.685 2306.23 611.25 Q2304.43 614.791 2304.43 621.921 Q2304.43 629.027 2306.23 632.592 Q2308.06 636.134 2311.67 636.134 Q2315.31 636.134 2317.11 632.592 Q2318.94 629.027 2318.94 621.921 Q2318.94 614.791 2317.11 611.25 Q2315.31 607.685 2311.67 607.685 M2311.67 603.981 Q2317.48 603.981 2320.54 608.588 Q2323.62 613.171 2323.62 621.921 Q2323.62 630.648 2320.54 635.254 Q2317.48 639.837 2311.67 639.837 Q2305.86 639.837 2302.78 635.254 Q2299.73 630.648 2299.73 621.921 Q2299.73 613.171 2302.78 608.588 Q2305.86 603.981 2311.67 603.981 Z\" fill=\"#000000\" fill-rule=\"evenodd\" fill-opacity=\"1\" /><path clip-path=\"url(#clip300)\" d=\"M2341.83 607.685 Q2338.22 607.685 2336.39 611.25 Q2334.59 614.791 2334.59 621.921 Q2334.59 629.027 2336.39 632.592 Q2338.22 636.134 2341.83 636.134 Q2345.47 636.134 2347.27 632.592 Q2349.1 629.027 2349.1 621.921 Q2349.1 614.791 2347.27 611.25 Q2345.47 607.685 2341.83 607.685 M2341.83 603.981 Q2347.64 603.981 2350.7 608.588 Q2353.78 613.171 2353.78 621.921 Q2353.78 630.648 2350.7 635.254 Q2347.64 639.837 2341.83 639.837 Q2336.02 639.837 2332.95 635.254 Q2329.89 630.648 2329.89 621.921 Q2329.89 613.171 2332.95 608.588 Q2336.02 603.981 2341.83 603.981 Z\" fill=\"#000000\" fill-rule=\"evenodd\" fill-opacity=\"1\" /><path clip-path=\"url(#clip300)\" d=\"M2270.21 388.833 L2288.57 388.833 L2288.57 392.769 L2274.5 392.769 L2274.5 401.241 Q2275.52 400.894 2276.53 400.731 Q2277.55 400.546 2278.57 400.546 Q2284.36 400.546 2287.74 403.718 Q2291.12 406.889 2291.12 412.305 Q2291.12 417.884 2287.64 420.986 Q2284.17 424.065 2277.85 424.065 Q2275.68 424.065 2273.41 423.694 Q2271.16 423.324 2268.76 422.583 L2268.76 417.884 Q2270.84 419.018 2273.06 419.574 Q2275.28 420.13 2277.76 420.13 Q2281.77 420.13 2284.1 418.023 Q2286.44 415.917 2286.44 412.305 Q2286.44 408.694 2284.1 406.588 Q2281.77 404.481 2277.76 404.481 Q2275.89 404.481 2274.01 404.898 Q2272.16 405.315 2270.21 406.194 L2270.21 388.833 Z\" fill=\"#000000\" fill-rule=\"evenodd\" fill-opacity=\"1\" /><path clip-path=\"url(#clip300)\" d=\"M2310.33 391.912 Q2306.72 391.912 2304.89 395.477 Q2303.08 399.019 2303.08 406.148 Q2303.08 413.255 2304.89 416.819 Q2306.72 420.361 2310.33 420.361 Q2313.96 420.361 2315.77 416.819 Q2317.6 413.255 2317.6 406.148 Q2317.6 399.019 2315.77 395.477 Q2313.96 391.912 2310.33 391.912 M2310.33 388.208 Q2316.14 388.208 2319.2 392.815 Q2322.27 397.398 2322.27 406.148 Q2322.27 414.875 2319.2 419.481 Q2316.14 424.065 2310.33 424.065 Q2304.52 424.065 2301.44 419.481 Q2298.39 414.875 2298.39 406.148 Q2298.39 397.398 2301.44 392.815 Q2304.52 388.208 2310.33 388.208 Z\" fill=\"#000000\" fill-rule=\"evenodd\" fill-opacity=\"1\" /><path clip-path=\"url(#clip300)\" d=\"M2340.49 391.912 Q2336.88 391.912 2335.05 395.477 Q2333.25 399.019 2333.25 406.148 Q2333.25 413.255 2335.05 416.819 Q2336.88 420.361 2340.49 420.361 Q2344.13 420.361 2345.93 416.819 Q2347.76 413.255 2347.76 406.148 Q2347.76 399.019 2345.93 395.477 Q2344.13 391.912 2340.49 391.912 M2340.49 388.208 Q2346.3 388.208 2349.36 392.815 Q2352.44 397.398 2352.44 406.148 Q2352.44 414.875 2349.36 419.481 Q2346.3 424.065 2340.49 424.065 Q2334.68 424.065 2331.6 419.481 Q2328.55 414.875 2328.55 406.148 Q2328.55 397.398 2331.6 392.815 Q2334.68 388.208 2340.49 388.208 Z\" fill=\"#000000\" fill-rule=\"evenodd\" fill-opacity=\"1\" /><path clip-path=\"url(#clip300)\" d=\"M2281.09 188.477 Q2277.95 188.477 2276.09 190.63 Q2274.27 192.783 2274.27 196.533 Q2274.27 200.26 2276.09 202.436 Q2277.95 204.588 2281.09 204.588 Q2284.24 204.588 2286.07 202.436 Q2287.92 200.26 2287.92 196.533 Q2287.92 192.783 2286.07 190.63 Q2284.24 188.477 2281.09 188.477 M2290.38 173.825 L2290.38 178.084 Q2288.62 177.251 2286.81 176.811 Q2285.03 176.371 2283.27 176.371 Q2278.64 176.371 2276.19 179.496 Q2273.76 182.621 2273.41 188.94 Q2274.77 186.926 2276.83 185.862 Q2278.89 184.774 2281.37 184.774 Q2286.58 184.774 2289.59 187.945 Q2292.62 191.093 2292.62 196.533 Q2292.62 201.857 2289.47 205.074 Q2286.33 208.292 2281.09 208.292 Q2275.1 208.292 2271.93 203.709 Q2268.76 199.102 2268.76 190.375 Q2268.76 182.181 2272.64 177.32 Q2276.53 172.436 2283.08 172.436 Q2284.84 172.436 2286.63 172.783 Q2288.43 173.13 2290.38 173.825 Z\" fill=\"#000000\" fill-rule=\"evenodd\" fill-opacity=\"1\" /><path clip-path=\"url(#clip300)\" d=\"M2310.68 176.139 Q2307.07 176.139 2305.24 179.704 Q2303.43 183.246 2303.43 190.375 Q2303.43 197.482 2305.24 201.047 Q2307.07 204.588 2310.68 204.588 Q2314.31 204.588 2316.12 201.047 Q2317.95 197.482 2317.95 190.375 Q2317.95 183.246 2316.12 179.704 Q2314.31 176.139 2310.68 176.139 M2310.68 172.436 Q2316.49 172.436 2319.54 177.042 Q2322.62 181.625 2322.62 190.375 Q2322.62 199.102 2319.54 203.709 Q2316.49 208.292 2310.68 208.292 Q2304.87 208.292 2301.79 203.709 Q2298.73 199.102 2298.73 190.375 Q2298.73 181.625 2301.79 177.042 Q2304.87 172.436 2310.68 172.436 Z\" fill=\"#000000\" fill-rule=\"evenodd\" fill-opacity=\"1\" /><path clip-path=\"url(#clip300)\" d=\"M2340.84 176.139 Q2337.23 176.139 2335.4 179.704 Q2333.59 183.246 2333.59 190.375 Q2333.59 197.482 2335.4 201.047 Q2337.23 204.588 2340.84 204.588 Q2344.47 204.588 2346.28 201.047 Q2348.11 197.482 2348.11 190.375 Q2348.11 183.246 2346.28 179.704 Q2344.47 176.139 2340.84 176.139 M2340.84 172.436 Q2346.65 172.436 2349.7 177.042 Q2352.78 181.625 2352.78 190.375 Q2352.78 199.102 2349.7 203.709 Q2346.65 208.292 2340.84 208.292 Q2335.03 208.292 2331.95 203.709 Q2328.89 199.102 2328.89 190.375 Q2328.89 181.625 2331.95 177.042 Q2335.03 172.436 2340.84 172.436 Z\" fill=\"#000000\" fill-rule=\"evenodd\" fill-opacity=\"1\" /><polyline clip-path=\"url(#clip300)\" style=\"stroke:#000000; stroke-linecap:round; stroke-linejoin:round; stroke-width:4; stroke-opacity:1; fill:none\" points=\"2232.76,1486.45 2232.76,1272.83 2256.76,1272.83 2232.76,1272.83 2232.76,1057.06 2256.76,1057.06 2232.76,1057.06 2232.76,841.288 2256.76,841.288 2232.76,841.288 2232.76,625.515 2256.76,625.515 2232.76,625.515 2232.76,409.742 2256.76,409.742 2232.76,409.742 2232.76,193.97 2256.76,193.97 2232.76,193.97 2232.76,47.2441 \"/>\n</svg>\n"
     },
     "execution_count": 64,
     "metadata": {},
     "output_type": "execute_result"
    }
   ],
   "source": [
    "begin\n",
    "    x = randn(10^5)\n",
    "y = randn(10^5)\n",
    "histogram2d(x, y, bins=(64, 64))\n",
    "end\n"
   ]
  },
  {
   "attachments": {},
   "cell_type": "markdown",
   "metadata": {},
   "source": [
    "### Importing Data\n"
   ]
  },
  {
   "attachments": {},
   "cell_type": "markdown",
   "metadata": {},
   "source": [
    "Data is typically stored in files, such as _CSV_ or _JSON_ files"
   ]
  },
  {
   "cell_type": "code",
   "execution_count": 65,
   "metadata": {},
   "outputs": [
    {
     "name": "stderr",
     "output_type": "stream",
     "text": [
      "\u001b[32m\u001b[1m   Resolving\u001b[22m\u001b[39m package versions...\n",
      "\u001b[32m\u001b[1m  No Changes\u001b[22m\u001b[39m to `E:\\Embeeded_AI_Code_Snippets\\Julia\\Project.toml`\n",
      "\u001b[32m\u001b[1m  No Changes\u001b[22m\u001b[39m to `E:\\Embeeded_AI_Code_Snippets\\Julia\\Manifest.toml`\n",
      "\u001b[32m\u001b[1m   Resolving\u001b[22m\u001b[39m package versions...\n",
      "\u001b[32m\u001b[1m  No Changes\u001b[22m\u001b[39m to `E:\\Embeeded_AI_Code_Snippets\\Julia\\Project.toml`\n",
      "\u001b[32m\u001b[1m  No Changes\u001b[22m\u001b[39m to `E:\\Embeeded_AI_Code_Snippets\\Julia\\Manifest.toml`\n"
     ]
    }
   ],
   "source": [
    "\n",
    "Pkg.add(\"DataFrames\")\n",
    "Pkg.add(\"CSV\")"
   ]
  },
  {
   "cell_type": "code",
   "execution_count": 66,
   "metadata": {},
   "outputs": [
    {
     "data": {
      "text/latex": [
       "Create new CSV file\n",
       "\n"
      ],
      "text/markdown": [
       "Create new CSV file\n"
      ],
      "text/plain": [
       "  Create new CSV file"
      ]
     },
     "execution_count": 66,
     "metadata": {},
     "output_type": "execute_result"
    }
   ],
   "source": [
    "md\"Create new CSV file\""
   ]
  },
  {
   "cell_type": "code",
   "execution_count": 67,
   "metadata": {},
   "outputs": [
    {
     "name": "stderr",
     "output_type": "stream",
     "text": [
      "\u001b[36m\u001b[1m[ \u001b[22m\u001b[39m\u001b[36m\u001b[1mInfo: \u001b[22m\u001b[39mPrecompiling CSV [336ed68f-0bac-5ca0-87d4-7b16caf5d00b]\n"
     ]
    }
   ],
   "source": [
    "using CSV, DataFrames"
   ]
  },
  {
   "cell_type": "code",
   "execution_count": 68,
   "metadata": {},
   "outputs": [
    {
     "data": {
      "text/latex": [
       "\\texttt{touch} command allows to create a file if it doesn't exist. Otherwise, it changes the file timestamps.\n",
       "\n"
      ],
      "text/markdown": [
       "`touch` command allows to create a file if it doesn't exist. Otherwise, it changes the file timestamps.\n"
      ],
      "text/plain": [
       "  \u001b[36mtouch\u001b[39m command allows to create a file if it doesn't exist. Otherwise, it\n",
       "  changes the file timestamps."
      ]
     },
     "execution_count": 68,
     "metadata": {},
     "output_type": "execute_result"
    }
   ],
   "source": [
    "md\"`touch` command allows to create a file if it doesn't exist. Otherwise, it changes the file timestamps.\""
   ]
  },
  {
   "cell_type": "code",
   "execution_count": 69,
   "metadata": {},
   "outputs": [
    {
     "data": {
      "text/plain": [
       "\"test.csv\""
      ]
     },
     "execution_count": 69,
     "metadata": {},
     "output_type": "execute_result"
    }
   ],
   "source": [
    "touch(\"test.csv\")"
   ]
  },
  {
   "cell_type": "code",
   "execution_count": 70,
   "metadata": {},
   "outputs": [
    {
     "data": {
      "text/plain": [
       "IOStream(<file test.csv>)"
      ]
     },
     "execution_count": 70,
     "metadata": {},
     "output_type": "execute_result"
    }
   ],
   "source": [
    "file = open(\"test.csv\", \"w\")"
   ]
  },
  {
   "cell_type": "code",
   "execution_count": 71,
   "metadata": {},
   "outputs": [
    {
     "data": {
      "text/latex": [
       "Let's create some imaginary data\n",
       "\n"
      ],
      "text/markdown": [
       "Let's create some imaginary data\n"
      ],
      "text/plain": [
       "  Let's create some imaginary data"
      ]
     },
     "execution_count": 71,
     "metadata": {},
     "output_type": "execute_result"
    }
   ],
   "source": [
    "md\"Let's create some imaginary data\""
   ]
  },
  {
   "cell_type": "code",
   "execution_count": 72,
   "metadata": {},
   "outputs": [
    {
     "data": {
      "text/html": [
       "<div><div style = \"float: left;\"><span>4×3 DataFrame</span></div><div style = \"clear: both;\"></div></div><div class = \"data-frame\" style = \"overflow-x: scroll;\"><table class = \"data-frame\" style = \"margin-bottom: 6px;\"><thead><tr class = \"header\"><th class = \"rowNumber\" style = \"font-weight: bold; text-align: right;\">Row</th><th style = \"text-align: left;\">Student</th><th style = \"text-align: left;\">Id</th><th style = \"text-align: left;\">Marks</th></tr><tr class = \"subheader headerLastRow\"><th class = \"rowNumber\" style = \"font-weight: bold; text-align: right;\"></th><th title = \"String\" style = \"text-align: left;\">String</th><th title = \"Int64\" style = \"text-align: left;\">Int64</th><th title = \"Float64\" style = \"text-align: left;\">Float64</th></tr></thead><tbody><tr><td class = \"rowNumber\" style = \"font-weight: bold; text-align: right;\">1</td><td style = \"text-align: left;\">Mohamed</td><td style = \"text-align: right;\">1</td><td style = \"text-align: right;\">18.0</td></tr><tr><td class = \"rowNumber\" style = \"font-weight: bold; text-align: right;\">2</td><td style = \"text-align: left;\">Aymen</td><td style = \"text-align: right;\">2</td><td style = \"text-align: right;\">7.0</td></tr><tr><td class = \"rowNumber\" style = \"font-weight: bold; text-align: right;\">3</td><td style = \"text-align: left;\">Rami</td><td style = \"text-align: right;\">3</td><td style = \"text-align: right;\">12.0</td></tr><tr><td class = \"rowNumber\" style = \"font-weight: bold; text-align: right;\">4</td><td style = \"text-align: left;\">Ala</td><td style = \"text-align: right;\">4</td><td style = \"text-align: right;\">5.5</td></tr></tbody></table></div>"
      ],
      "text/latex": [
       "\\begin{tabular}{r|ccc}\n",
       "\t& Student & Id & Marks\\\\\n",
       "\t\\hline\n",
       "\t& String & Int64 & Float64\\\\\n",
       "\t\\hline\n",
       "\t1 & Mohamed & 1 & 18.0 \\\\\n",
       "\t2 & Aymen & 2 & 7.0 \\\\\n",
       "\t3 & Rami & 3 & 12.0 \\\\\n",
       "\t4 & Ala & 4 & 5.5 \\\\\n",
       "\\end{tabular}\n"
      ],
      "text/plain": [
       "\u001b[1m4×3 DataFrame\u001b[0m\n",
       "\u001b[1m Row \u001b[0m│\u001b[1m Student \u001b[0m\u001b[1m Id    \u001b[0m\u001b[1m Marks   \u001b[0m\n",
       "     │\u001b[90m String  \u001b[0m\u001b[90m Int64 \u001b[0m\u001b[90m Float64 \u001b[0m\n",
       "─────┼─────────────────────────\n",
       "   1 │ Mohamed      1     18.0\n",
       "   2 │ Aymen        2      7.0\n",
       "   3 │ Rami         3     12.0\n",
       "   4 │ Ala          4      5.5"
      ]
     },
     "execution_count": 72,
     "metadata": {},
     "output_type": "execute_result"
    }
   ],
   "source": [
    "df = DataFrame(\n",
    "        Student = [\"Mohamed\", \"Aymen\", \"Rami\", \"Ala\"],\n",
    "        Id = [1, 2, 3, 4],\n",
    "        Marks = [18, 7, 12, 5.5]\n",
    "        )"
   ]
  },
  {
   "cell_type": "code",
   "execution_count": 73,
   "metadata": {},
   "outputs": [
    {
     "ename": "LoadError",
     "evalue": "syntax: extra token \"namefile\" after end of expression",
     "output_type": "error",
     "traceback": [
      "syntax: extra token \"namefile\" after end of expression",
      "",
      "Stacktrace:",
      " [1] top-level scope",
      "   @ In[73]:1"
     ]
    }
   ],
   "source": [
    "!ls -la namefile"
   ]
  }
 ],
 "metadata": {
  "kernelspec": {
   "display_name": "Julia 1.8.3",
   "language": "julia",
   "name": "julia-1.8"
  },
  "language_info": {
   "file_extension": ".jl",
   "mimetype": "application/julia",
   "name": "julia",
   "version": "1.8.3"
  },
  "orig_nbformat": 4
 },
 "nbformat": 4,
 "nbformat_minor": 2
}
