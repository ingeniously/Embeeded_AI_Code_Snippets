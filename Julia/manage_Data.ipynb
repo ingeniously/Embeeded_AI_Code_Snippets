{
 "cells": [
  {
   "attachments": {},
   "cell_type": "markdown",
   "metadata": {},
   "source": [
    "### Importing Data"
   ]
  },
  {
   "attachments": {},
   "cell_type": "markdown",
   "metadata": {},
   "source": [
    "Data is typically stored in files, such as _CSV_ or _JSON_ files"
   ]
  },
  {
   "cell_type": "code",
   "execution_count": 4,
   "metadata": {},
   "outputs": [
    {
     "name": "stderr",
     "output_type": "stream",
     "text": [
      "\u001b[32m\u001b[1m    Updating\u001b[22m\u001b[39m registry at `C:\\Users\\user\\.julia\\registries\\General.toml`"
     ]
    },
    {
     "name": "stderr",
     "output_type": "stream",
     "text": [
      "\n",
      "\u001b[32m\u001b[1m   Resolving\u001b[22m\u001b[39m package versions..."
     ]
    },
    {
     "name": "stderr",
     "output_type": "stream",
     "text": [
      "\n",
      "\u001b[32m\u001b[1m  No Changes\u001b[22m\u001b[39m to `E:\\Embeeded_AI_Code_Snippets\\Julia\\Project.toml`\n",
      "\u001b[32m\u001b[1m  No Changes\u001b[22m\u001b[39m to `E:\\Embeeded_AI_Code_Snippets\\Julia\\Manifest.toml`"
     ]
    },
    {
     "name": "stderr",
     "output_type": "stream",
     "text": [
      "\n"
     ]
    },
    {
     "name": "stderr",
     "output_type": "stream",
     "text": [
      "\u001b[32m\u001b[1m   Resolving\u001b[22m\u001b[39m package versions...\n"
     ]
    },
    {
     "name": "stderr",
     "output_type": "stream",
     "text": [
      "\u001b[32m\u001b[1m  No Changes\u001b[22m\u001b[39m to `E:\\Embeeded_AI_Code_Snippets\\Julia\\Project.toml`\n",
      "\u001b[32m\u001b[1m  No Changes\u001b[22m\u001b[39m to `E:\\Embeeded_AI_Code_Snippets\\Julia\\Manifest.toml`"
     ]
    },
    {
     "name": "stderr",
     "output_type": "stream",
     "text": [
      "\n"
     ]
    },
    {
     "name": "stderr",
     "output_type": "stream",
     "text": [
      "\u001b[32m\u001b[1m   Resolving\u001b[22m\u001b[39m package versions...\n"
     ]
    },
    {
     "name": "stderr",
     "output_type": "stream",
     "text": [
      "\u001b[32m\u001b[1m   Installed\u001b[22m\u001b[39m Highlights ────────── v0.4.5\n"
     ]
    },
    {
     "name": "stderr",
     "output_type": "stream",
     "text": [
      "\u001b[32m\u001b[1m   Installed\u001b[22m\u001b[39m Conda ─────────────── v1.8.0\n"
     ]
    },
    {
     "name": "stderr",
     "output_type": "stream",
     "text": [
      "\u001b[32m\u001b[1m   Installed\u001b[22m\u001b[39m YAML ──────────────── v0.4.8\n",
      "\u001b[32m\u001b[1m   Installed\u001b[22m\u001b[39m StringEncodings ───── v0.3.6\n",
      "\u001b[32m\u001b[1m   Installed\u001b[22m\u001b[39m Mustache ──────────── v1.0.14\n",
      "\u001b[32m\u001b[1m   Installed\u001b[22m\u001b[39m LogExpFunctions ───── v0.3.21\n",
      "\u001b[32m\u001b[1m   Installed\u001b[22m\u001b[39m Parsers ───────────── v2.5.5\n",
      "\u001b[32m\u001b[1m   Installed\u001b[22m\u001b[39m Weave ─────────────── v0.10.9\n"
     ]
    },
    {
     "name": "stderr",
     "output_type": "stream",
     "text": [
      "\u001b[32m\u001b[1m   Installed\u001b[22m\u001b[39m DocStringExtensions ─ v0.8.6\n"
     ]
    },
    {
     "name": "stderr",
     "output_type": "stream",
     "text": [
      "\u001b[32m\u001b[1m    Updating\u001b[22m\u001b[39m `E:\\Embeeded_AI_Code_Snippets\\Julia\\Project.toml`\n",
      "\u001b[32m⌃\u001b[39m\u001b[90m [44d3d7a6] \u001b[39m\u001b[92m+ Weave v0.10.9\u001b[39m\n",
      "\u001b[32m\u001b[1m    Updating\u001b[22m\u001b[39m `E:\\Embeeded_AI_Code_Snippets\\Julia\\Manifest.toml`\n"
     ]
    },
    {
     "name": "stderr",
     "output_type": "stream",
     "text": [
      " \u001b[90m [8f4d0f93] \u001b[39m\u001b[93m↑ Conda v1.7.0 ⇒ v1.8.0\u001b[39m\n",
      "\u001b[33m⌅\u001b[39m\u001b[90m [ffbed154] \u001b[39m\u001b[95m↓ DocStringExtensions v0.9.3 ⇒ v0.8.6\u001b[39m\n",
      "\u001b[33m⌅\u001b[39m\u001b[90m [eafb193a] \u001b[39m\u001b[92m+ Highlights v0.4.5\u001b[39m\n",
      " \u001b[90m [2ab3a3ac] \u001b[39m\u001b[93m↑ LogExpFunctions v0.3.20 ⇒ v0.3.21\u001b[39m\n",
      " \u001b[90m [ffc61752] \u001b[39m\u001b[92m+ Mustache v1.0.14\u001b[39m\n",
      " \u001b[90m [69de0a69] \u001b[39m\u001b[93m↑ Parsers v2.5.3 ⇒ v2.5.5\u001b[39m\n",
      " \u001b[90m [69024149] \u001b[39m\u001b[92m+ StringEncodings v0.3.6\u001b[39m\n",
      "\u001b[32m⌃\u001b[39m\u001b[90m [44d3d7a6] \u001b[39m\u001b[92m+ Weave v0.10.9\u001b[39m\n",
      " \u001b[90m [ddb6d928] \u001b[39m\u001b[92m+ YAML v0.4.8\u001b[39m\n",
      "\u001b[36m\u001b[1m        Info\u001b[22m\u001b[39m Packages marked with \u001b[32m⌃\u001b[39m and \u001b[33m⌅\u001b[39m have new versions available, but those with \u001b[33m⌅\u001b[39m are restricted by compatibility constraints from upgrading. To see why use `status --outdated -m`\n"
     ]
    },
    {
     "name": "stderr",
     "output_type": "stream",
     "text": [
      "\u001b[32m\u001b[1m    Building\u001b[22m\u001b[39m Conda → `C:\\Users\\user\\.julia\\scratchspaces\\44cfe95a-1eb2-52ea-b672-e2afdf69b78f\\e32a90da027ca45d84678b826fffd3110bb3fc90\\build.log`\n"
     ]
    },
    {
     "name": "stderr",
     "output_type": "stream",
     "text": [
      "\u001b[32m\u001b[1mPrecompiling\u001b[22m\u001b[39m "
     ]
    },
    {
     "name": "stderr",
     "output_type": "stream",
     "text": [
      "project..."
     ]
    },
    {
     "name": "stderr",
     "output_type": "stream",
     "text": [
      "\n"
     ]
    },
    {
     "name": "stderr",
     "output_type": "stream",
     "text": [
      "\u001b[32m  ✓ \u001b[39m\u001b[90mMustache\u001b[39m\n",
      "\u001b[32m  ✓ \u001b[39m\u001b[90mDocStringExtensions\u001b[39m\n"
     ]
    },
    {
     "name": "stderr",
     "output_type": "stream",
     "text": [
      "\u001b[32m  ✓ \u001b[39m\u001b[90mStringEncodings\u001b[39m\n"
     ]
    },
    {
     "name": "stderr",
     "output_type": "stream",
     "text": [
      "\u001b[32m  ✓ \u001b[39m\u001b[90mYAML\u001b[39m\n"
     ]
    },
    {
     "name": "stderr",
     "output_type": "stream",
     "text": [
      "\u001b[32m  ✓ \u001b[39m\u001b[90mLogExpFunctions\u001b[39m\n"
     ]
    },
    {
     "name": "stderr",
     "output_type": "stream",
     "text": [
      "\u001b[32m  ✓ \u001b[39m\u001b[90mHighlights\u001b[39m\n"
     ]
    },
    {
     "name": "stderr",
     "output_type": "stream",
     "text": [
      "\u001b[32m  ✓ \u001b[39m\u001b[90mStatsBase\u001b[39m\n"
     ]
    },
    {
     "name": "stderr",
     "output_type": "stream",
     "text": [
      "\u001b[32m  ✓ \u001b[39m\u001b[90mSpecialFunctions\u001b[39m\n"
     ]
    },
    {
     "name": "stderr",
     "output_type": "stream",
     "text": [
      "\u001b[32m  ✓ \u001b[39m\u001b[90mColorVectorSpace\u001b[39m\n"
     ]
    },
    {
     "name": "stderr",
     "output_type": "stream",
     "text": [
      "\u001b[32m  ✓ \u001b[39m\u001b[90mParsers\u001b[39m\n"
     ]
    },
    {
     "name": "stderr",
     "output_type": "stream",
     "text": [
      "\u001b[32m  ✓ \u001b[39m\u001b[90mJSON\u001b[39m\n"
     ]
    },
    {
     "name": "stderr",
     "output_type": "stream",
     "text": [
      "\u001b[32m  ✓ \u001b[39m\u001b[90mInlineStrings\u001b[39m\n"
     ]
    },
    {
     "name": "stderr",
     "output_type": "stream",
     "text": [
      "\u001b[32m  ✓ \u001b[39m\u001b[90mConda\u001b[39m\n"
     ]
    },
    {
     "name": "stderr",
     "output_type": "stream",
     "text": [
      "\u001b[32m  ✓ \u001b[39m\u001b[90mWeakRefStrings\u001b[39m\n"
     ]
    },
    {
     "name": "stderr",
     "output_type": "stream",
     "text": [
      "\u001b[32m  ✓ \u001b[39m\u001b[90mColorSchemes\u001b[39m\n"
     ]
    },
    {
     "name": "stderr",
     "output_type": "stream",
     "text": [
      "\u001b[32m  ✓ \u001b[39mWeave\n"
     ]
    },
    {
     "name": "stderr",
     "output_type": "stream",
     "text": [
      "\u001b[32m  ✓ \u001b[39mIJulia\n"
     ]
    },
    {
     "name": "stderr",
     "output_type": "stream",
     "text": [
      "\u001b[32m  ✓ \u001b[39m\u001b[90mGR\u001b[39m\n"
     ]
    },
    {
     "name": "stderr",
     "output_type": "stream",
     "text": [
      "\u001b[32m  ✓ \u001b[39m\u001b[90mPlotUtils\u001b[39m\n"
     ]
    },
    {
     "name": "stderr",
     "output_type": "stream",
     "text": [
      "\u001b[32m  ✓ \u001b[39mCSV\n"
     ]
    },
    {
     "name": "stderr",
     "output_type": "stream",
     "text": [
      "\u001b[32m  ✓ \u001b[39m\u001b[90mRecipesPipeline\u001b[39m\n"
     ]
    },
    {
     "name": "stderr",
     "output_type": "stream",
     "text": [
      "\u001b[32m  ✓ \u001b[39m\u001b[90mPlotThemes\u001b[39m\n"
     ]
    },
    {
     "name": "stderr",
     "output_type": "stream",
     "text": [
      "\u001b[32m  ✓ \u001b[39mPlots\n"
     ]
    },
    {
     "name": "stderr",
     "output_type": "stream",
     "text": [
      "  23 dependencies successfully precompiled in 96 seconds. 139 already precompiled.\n"
     ]
    }
   ],
   "source": [
    "using Pkg\n",
    "Pkg.add(\"DataFrames\")\n",
    "Pkg.add(\"CSV\")\n",
    "Pkg.add(\"Weave\")\n"
   ]
  },
  {
   "cell_type": "code",
   "execution_count": 1,
   "metadata": {},
   "outputs": [],
   "source": [
    "using Markdown"
   ]
  },
  {
   "cell_type": "code",
   "execution_count": 2,
   "metadata": {},
   "outputs": [
    {
     "data": {
      "text/latex": [
       "Create new CSV file\n",
       "\n"
      ],
      "text/markdown": [
       "Create new CSV file\n"
      ],
      "text/plain": [
       "  Create new CSV file"
      ]
     },
     "metadata": {},
     "output_type": "display_data"
    }
   ],
   "source": [
    "md\"Create new CSV file\""
   ]
  },
  {
   "cell_type": "code",
   "execution_count": 7,
   "metadata": {},
   "outputs": [],
   "source": [
    "using CSV, DataFrames"
   ]
  },
  {
   "cell_type": "code",
   "execution_count": 3,
   "metadata": {},
   "outputs": [
    {
     "data": {
      "text/latex": [
       "\\texttt{touch} command allows to create a file if it doesn't exist. Otherwise, it changes the file timestamps.\n",
       "\n"
      ],
      "text/markdown": [
       "`touch` command allows to create a file if it doesn't exist. Otherwise, it changes the file timestamps.\n"
      ],
      "text/plain": [
       "  \u001b[36mtouch\u001b[39m command allows to create a file if it doesn't exist. Otherwise, it\n",
       "  changes the file timestamps."
      ]
     },
     "metadata": {},
     "output_type": "display_data"
    }
   ],
   "source": [
    "md\"`touch` command allows to create a file if it doesn't exist. Otherwise, it changes the file timestamps.\""
   ]
  },
  {
   "cell_type": "code",
   "execution_count": 9,
   "metadata": {},
   "outputs": [
    {
     "data": {
      "text/plain": [
       "\"Data.csv\""
      ]
     },
     "metadata": {},
     "output_type": "display_data"
    }
   ],
   "source": [
    "touch(\"Data.csv\")"
   ]
  },
  {
   "cell_type": "code",
   "execution_count": 10,
   "metadata": {},
   "outputs": [
    {
     "data": {
      "text/plain": [
       "IOStream(<file Data.csv>)"
      ]
     },
     "metadata": {},
     "output_type": "display_data"
    }
   ],
   "source": [
    "file = open(\"Data.csv\", \"w\")"
   ]
  },
  {
   "cell_type": "code",
   "execution_count": 11,
   "metadata": {},
   "outputs": [
    {
     "data": {
      "text/latex": [
       "Let's create some  data\n",
       "\n"
      ],
      "text/markdown": [
       "Let's create some  data\n"
      ],
      "text/plain": [
       "  Let's create some data"
      ]
     },
     "metadata": {},
     "output_type": "display_data"
    }
   ],
   "source": [
    "md\"Let's create some  data\""
   ]
  },
  {
   "cell_type": "code",
   "execution_count": 12,
   "metadata": {},
   "outputs": [
    {
     "data": {
      "text/html": [
       "<div><div style = \"float: left;\"><span>4×3 DataFrame</span></div><div style = \"clear: both;\"></div></div><div class = \"data-frame\" style = \"overflow-x: scroll;\"><table class = \"data-frame\" style = \"margin-bottom: 6px;\"><thead><tr class = \"header\"><th class = \"rowNumber\" style = \"font-weight: bold; text-align: right;\">Row</th><th style = \"text-align: left;\">Diseases</th><th style = \"text-align: left;\">Id</th><th style = \"text-align: left;\">Ranking</th></tr><tr class = \"subheader headerLastRow\"><th class = \"rowNumber\" style = \"font-weight: bold; text-align: right;\"></th><th title = \"String\" style = \"text-align: left;\">String</th><th title = \"Int64\" style = \"text-align: left;\">Int64</th><th title = \"Float64\" style = \"text-align: left;\">Float64</th></tr></thead><tbody><tr><td class = \"rowNumber\" style = \"font-weight: bold; text-align: right;\">1</td><td style = \"text-align: left;\">Diarrhea</td><td style = \"text-align: right;\">1</td><td style = \"text-align: right;\">10.0</td></tr><tr><td class = \"rowNumber\" style = \"font-weight: bold; text-align: right;\">2</td><td style = \"text-align: left;\">Flu</td><td style = \"text-align: right;\">2</td><td style = \"text-align: right;\">5.0</td></tr><tr><td class = \"rowNumber\" style = \"font-weight: bold; text-align: right;\">3</td><td style = \"text-align: left;\">Headaches</td><td style = \"text-align: right;\">3</td><td style = \"text-align: right;\">3.0</td></tr><tr><td class = \"rowNumber\" style = \"font-weight: bold; text-align: right;\">4</td><td style = \"text-align: left;\">COVID-19</td><td style = \"text-align: right;\">4</td><td style = \"text-align: right;\">70.5</td></tr></tbody></table></div>"
      ],
      "text/latex": [
       "\\begin{tabular}{r|ccc}\n",
       "\t& Diseases & Id & Ranking\\\\\n",
       "\t\\hline\n",
       "\t& String & Int64 & Float64\\\\\n",
       "\t\\hline\n",
       "\t1 & Diarrhea & 1 & 10.0 \\\\\n",
       "\t2 & Flu & 2 & 5.0 \\\\\n",
       "\t3 & Headaches & 3 & 3.0 \\\\\n",
       "\t4 & COVID-19 & 4 & 70.5 \\\\\n",
       "\\end{tabular}\n"
      ],
      "text/plain": [
       "\u001b[1m4×3 DataFrame\u001b[0m\n",
       "\u001b[1m Row \u001b[0m│\u001b[1m Diseases  \u001b[0m\u001b[1m Id    \u001b[0m\u001b[1m Ranking \u001b[0m\n",
       "     │\u001b[90m String    \u001b[0m\u001b[90m Int64 \u001b[0m\u001b[90m Float64 \u001b[0m\n",
       "─────┼───────────────────────────\n",
       "   1 │ Diarrhea       1     10.0\n",
       "   2 │ Flu            2      5.0\n",
       "   3 │ Headaches      3      3.0\n",
       "   4 │ COVID-19       4     70.5"
      ]
     },
     "metadata": {},
     "output_type": "display_data"
    }
   ],
   "source": [
    "df = DataFrame(\n",
    "        Diseases = [\"Diarrhea\", \"Flu\", \"Headaches\", \"COVID-19\"],\n",
    "        Id = [1, 2, 3, 4],\n",
    "        Ranking = [10, 5, 3, 70.5]\n",
    "        )"
   ]
  },
  {
   "cell_type": "code",
   "execution_count": 13,
   "metadata": {},
   "outputs": [
    {
     "data": {
      "text/latex": [
       "Write \\texttt{df} to file\n",
       "\n"
      ],
      "text/markdown": [
       "Write `df` to file\n"
      ],
      "text/plain": [
       "  Write \u001b[36mdf\u001b[39m to file"
      ]
     },
     "metadata": {},
     "output_type": "display_data"
    }
   ],
   "source": [
    "md\"Write `df` to file\""
   ]
  },
  {
   "cell_type": "code",
   "execution_count": 14,
   "metadata": {},
   "outputs": [
    {
     "data": {
      "text/plain": [
       "\"Data.csv\""
      ]
     },
     "metadata": {},
     "output_type": "display_data"
    }
   ],
   "source": [
    "CSV.write(\"Data.csv\", df)"
   ]
  },
  {
   "cell_type": "code",
   "execution_count": 15,
   "metadata": {},
   "outputs": [
    {
     "data": {
      "text/latex": [
       "Open the CSV file and add some contents and load it again.\n",
       "\n"
      ],
      "text/markdown": [
       "Open the CSV file and add some contents and load it again.\n"
      ],
      "text/plain": [
       "  Open the CSV file and add some contents and load it again."
      ]
     },
     "metadata": {},
     "output_type": "display_data"
    }
   ],
   "source": [
    "md\"Open the CSV file and add some contents and load it again.\""
   ]
  },
  {
   "cell_type": "code",
   "execution_count": 16,
   "metadata": {},
   "outputs": [
    {
     "data": {
      "text/html": [
       "<div><div style = \"float: left;\"><span>4×3 DataFrame</span></div><div style = \"clear: both;\"></div></div><div class = \"data-frame\" style = \"overflow-x: scroll;\"><table class = \"data-frame\" style = \"margin-bottom: 6px;\"><thead><tr class = \"header\"><th class = \"rowNumber\" style = \"font-weight: bold; text-align: right;\">Row</th><th style = \"text-align: left;\">Diseases</th><th style = \"text-align: left;\">Id</th><th style = \"text-align: left;\">Ranking</th></tr><tr class = \"subheader headerLastRow\"><th class = \"rowNumber\" style = \"font-weight: bold; text-align: right;\"></th><th title = \"String15\" style = \"text-align: left;\">String15</th><th title = \"Int64\" style = \"text-align: left;\">Int64</th><th title = \"Float64\" style = \"text-align: left;\">Float64</th></tr></thead><tbody><tr><td class = \"rowNumber\" style = \"font-weight: bold; text-align: right;\">1</td><td style = \"text-align: left;\">Diarrhea</td><td style = \"text-align: right;\">1</td><td style = \"text-align: right;\">10.0</td></tr><tr><td class = \"rowNumber\" style = \"font-weight: bold; text-align: right;\">2</td><td style = \"text-align: left;\">Flu</td><td style = \"text-align: right;\">2</td><td style = \"text-align: right;\">5.0</td></tr><tr><td class = \"rowNumber\" style = \"font-weight: bold; text-align: right;\">3</td><td style = \"text-align: left;\">Headaches</td><td style = \"text-align: right;\">3</td><td style = \"text-align: right;\">3.0</td></tr><tr><td class = \"rowNumber\" style = \"font-weight: bold; text-align: right;\">4</td><td style = \"text-align: left;\">COVID-19</td><td style = \"text-align: right;\">4</td><td style = \"text-align: right;\">70.5</td></tr></tbody></table></div>"
      ],
      "text/latex": [
       "\\begin{tabular}{r|ccc}\n",
       "\t& Diseases & Id & Ranking\\\\\n",
       "\t\\hline\n",
       "\t& String15 & Int64 & Float64\\\\\n",
       "\t\\hline\n",
       "\t1 & Diarrhea & 1 & 10.0 \\\\\n",
       "\t2 & Flu & 2 & 5.0 \\\\\n",
       "\t3 & Headaches & 3 & 3.0 \\\\\n",
       "\t4 & COVID-19 & 4 & 70.5 \\\\\n",
       "\\end{tabular}\n"
      ],
      "text/plain": [
       "\u001b[1m4×3 DataFrame\u001b[0m\n",
       "\u001b[1m Row \u001b[0m│\u001b[1m Diseases  \u001b[0m\u001b[1m Id    \u001b[0m\u001b[1m Ranking \u001b[0m\n",
       "     │\u001b[90m String15  \u001b[0m\u001b[90m Int64 \u001b[0m\u001b[90m Float64 \u001b[0m\n",
       "─────┼───────────────────────────\n",
       "   1 │ Diarrhea       1     10.0\n",
       "   2 │ Flu            2      5.0\n",
       "   3 │ Headaches      3      3.0\n",
       "   4 │ COVID-19       4     70.5"
      ]
     },
     "metadata": {},
     "output_type": "display_data"
    }
   ],
   "source": [
    "CSV.read(\"Data.csv\", DataFrame)"
   ]
  }
 ],
 "metadata": {
  "kernelspec": {
   "display_name": "Julia 1.8.3",
   "language": "julia",
   "name": "julia-1.8"
  },
  "language_info": {
   "file_extension": ".jl",
   "mimetype": "application/julia",
   "name": "julia",
   "version": "1.8.3"
  },
  "orig_nbformat": 4
 },
 "nbformat": 4,
 "nbformat_minor": 2
}
