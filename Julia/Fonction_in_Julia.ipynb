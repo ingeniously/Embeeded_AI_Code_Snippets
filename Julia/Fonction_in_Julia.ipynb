{
 "cells": [
  {
   "attachments": {},
   "cell_type": "markdown",
   "metadata": {},
   "source": [
    "### Programming\n",
    "Write programs that execute code based on some condition."
   ]
  },
  {
   "cell_type": "code",
   "execution_count": 3,
   "metadata": {},
   "outputs": [],
   "source": [
    "using Markdown"
   ]
  },
  {
   "cell_type": "code",
   "execution_count": 4,
   "metadata": {},
   "outputs": [
    {
     "data": {
      "text/latex": [
       "\\textbf{Conditional Evaluation}\n",
       "\n"
      ],
      "text/markdown": [
       "**Conditional Evaluation**\n"
      ],
      "text/plain": [
       "  \u001b[1mConditional Evaluation\u001b[22m"
      ]
     },
     "execution_count": 4,
     "metadata": {},
     "output_type": "execute_result"
    }
   ],
   "source": [
    "md\"**Conditional Evaluation**\""
   ]
  },
  {
   "cell_type": "code",
   "execution_count": 2,
   "metadata": {},
   "outputs": [
    {
     "name": "stdout",
     "output_type": "stream",
     "text": [
      "π is less than 6.283185307179586\n"
     ]
    }
   ],
   "source": [
    "begin\n",
    "    a, b = pi, 2*pi\n",
    "    if a < b\n",
    "        println(\"$a is less than $b\")\n",
    "    elseif a > b\n",
    "        println(\"$a is greater than $b\")\n",
    "    else\n",
    "        println(\"$a is equal to $b\")\n",
    "    end  \n",
    "end\n"
   ]
  },
  {
   "attachments": {},
   "cell_type": "markdown",
   "metadata": {},
   "source": [
    "   **With  while**"
   ]
  },
  {
   "cell_type": "code",
   "execution_count": 15,
   "metadata": {},
   "outputs": [
    {
     "name": "stdout",
     "output_type": "stream",
     "text": [
      "Item #1 is Melon\n",
      "Item #2 is \n",
      "Item #3 is Apple\n",
      "Item #4 is Tangerine\n",
      "Item #5 is Strawberry\n"
     ]
    }
   ],
   "source": [
    "fruits = [\"Melon\", \"\", \"Apple\", \"Tangerine\", \"Strawberry\"]\n",
    "iter = 1\n",
    "while iter ≤ length(fruits)\n",
    "    println(\"Item #$iter is $(fruits[iter])\")\n",
    "    iter +=1\n",
    "end"
   ]
  },
  {
   "attachments": {},
   "cell_type": "markdown",
   "metadata": {},
   "source": [
    "**With For**"
   ]
  },
  {
   "cell_type": "code",
   "execution_count": 16,
   "metadata": {},
   "outputs": [
    {
     "name": "stdout",
     "output_type": "stream",
     "text": [
      "Item #1 is Avocadot\n",
      "Item #2 is Jicama\n",
      "Item #3 is Mushrooms\n",
      "Item #4 is Peas\n",
      "Item #5 is Cauliflower\n"
     ]
    }
   ],
   "source": [
    "vegetables = [\"Avocadot\", \"Jicama\", \"Mushrooms\", \"Peas\", \"Cauliflower\"]\n",
    "i = 1\n",
    "for item in vegetables\n",
    "    println(\"Item #$i is $item\")\n",
    "    i += 1\n",
    "end"
   ]
  },
  {
   "attachments": {},
   "cell_type": "markdown",
   "metadata": {},
   "source": [
    "### Final Project\n",
    "Small project to practice what i have learned"
   ]
  },
  {
   "attachments": {},
   "cell_type": "markdown",
   "metadata": {},
   "source": [
    "\n",
    "#### Guess the Number Game\n",
    "In this `game` , we will have to generate a `random` number and then try to `guess`  what it is. \n",
    "\n",
    "To begin, we will need to `generate` a random number. As always, there are many ways to do something like this but the most straightforward approach is to do:"
   ]
  },
  {
   "cell_type": "code",
   "execution_count": 17,
   "metadata": {},
   "outputs": [
    {
     "data": {
      "text/plain": [
       "play_number_guess_human (generic function with 1 method)"
      ]
     },
     "execution_count": 17,
     "metadata": {},
     "output_type": "execute_result"
    }
   ],
   "source": [
    "\n",
    "function play_number_guess_human()\n",
    "\n",
    "    total_numbers = 25 # \n",
    "\n",
    "    # Generate a random number within a certain range\n",
    "    target_number = rand(1:total_numbers)\n",
    "    guess = 0\n",
    "\n",
    "    # While the number has not been guessed, keep prompting for guesses\n",
    "    while guess != target_number\n",
    "        print(\"Please guess a number between 1 and $total_numbers: \")\n",
    "        guess = parse(Int64, readline())\n",
    "        # Convert the string value input to a number\n",
    "\n",
    "        # If we are within +/-2 of the target, give a hint\n",
    "        if abs(target_number - guess) <= 2 && target_number != guess\n",
    "            print(\"\\nYou are getting closer!\\n\")\n",
    "        end\n",
    "    end\n",
    "\n",
    "    print(\"Nice job, you got it!\")\n",
    "end"
   ]
  },
  {
   "cell_type": "code",
   "execution_count": null,
   "metadata": {},
   "outputs": [],
   "source": []
  }
 ],
 "metadata": {
  "kernelspec": {
   "display_name": "Julia 1.8.3",
   "language": "julia",
   "name": "julia-1.8"
  },
  "language_info": {
   "file_extension": ".jl",
   "mimetype": "application/julia",
   "name": "julia",
   "version": "1.8.3"
  },
  "orig_nbformat": 4
 },
 "nbformat": 4,
 "nbformat_minor": 2
}
